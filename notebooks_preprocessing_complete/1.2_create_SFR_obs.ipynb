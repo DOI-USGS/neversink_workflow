{
 "cells": [
  {
   "cell_type": "code",
   "execution_count": 1,
   "metadata": {},
   "outputs": [],
   "source": [
    "import os\n",
    "import numpy as np\n",
    "import pandas as pd\n",
    "import geopandas as gp\n",
    "import matplotlib.pyplot as plt\n",
    "import rasterio"
   ]
  },
  {
   "cell_type": "markdown",
   "metadata": {},
   "source": [
    "## Notebook to create SFR obs from two stream stats gates"
   ]
  },
  {
   "cell_type": "code",
   "execution_count": 2,
   "metadata": {},
   "outputs": [],
   "source": [
    "stream_stats_file = '../processed_data/NWIS_DV_STREAMSTATS_INFO.csv'\n",
    "bound_file = '../source_data/Shapefiles/Extents/Model_Extent_HUC12.shp'"
   ]
  },
  {
   "cell_type": "code",
   "execution_count": 3,
   "metadata": {},
   "outputs": [
    {
     "data": {
      "text/html": [
       "<div>\n",
       "<style scoped>\n",
       "    .dataframe tbody tr th:only-of-type {\n",
       "        vertical-align: middle;\n",
       "    }\n",
       "\n",
       "    .dataframe tbody tr th {\n",
       "        vertical-align: top;\n",
       "    }\n",
       "\n",
       "    .dataframe thead th {\n",
       "        text-align: right;\n",
       "    }\n",
       "</style>\n",
       "<table border=\"1\" class=\"dataframe\">\n",
       "  <thead>\n",
       "    <tr style=\"text-align: right;\">\n",
       "      <th></th>\n",
       "      <th>site_id</th>\n",
       "      <th>Latitude (degrees NAD83)</th>\n",
       "      <th>Longitude (degrees NAD83)</th>\n",
       "      <th>Mean_Annual_Flow_cfs</th>\n",
       "      <th>Stand_Dev_of_Mean_Annual_Flow</th>\n",
       "      <th>Average_BFI_value</th>\n",
       "      <th>geometry</th>\n",
       "    </tr>\n",
       "  </thead>\n",
       "  <tbody>\n",
       "    <tr>\n",
       "      <th>0</th>\n",
       "      <td>1366650</td>\n",
       "      <td>41.71426</td>\n",
       "      <td>-74.38905</td>\n",
       "      <td>101.0</td>\n",
       "      <td>35.0</td>\n",
       "      <td>0.502</td>\n",
       "      <td>POINT (inf inf)</td>\n",
       "    </tr>\n",
       "    <tr>\n",
       "      <th>1</th>\n",
       "      <td>1436500</td>\n",
       "      <td>41.75676</td>\n",
       "      <td>-74.59738</td>\n",
       "      <td>149.0</td>\n",
       "      <td>103.0</td>\n",
       "      <td>0.522</td>\n",
       "      <td>POINT (1751943.938 2281816.688)</td>\n",
       "    </tr>\n",
       "  </tbody>\n",
       "</table>\n",
       "</div>"
      ],
      "text/plain": [
       "   site_id  Latitude (degrees NAD83)  Longitude (degrees NAD83)  \\\n",
       "0  1366650                  41.71426                  -74.38905   \n",
       "1  1436500                  41.75676                  -74.59738   \n",
       "\n",
       "   Mean_Annual_Flow_cfs  Stand_Dev_of_Mean_Annual_Flow  Average_BFI_value  \\\n",
       "0                 101.0                           35.0              0.502   \n",
       "1                 149.0                          103.0              0.522   \n",
       "\n",
       "                          geometry  \n",
       "0                  POINT (inf inf)  \n",
       "1  POINT (1751943.938 2281816.688)  "
      ]
     },
     "execution_count": 3,
     "metadata": {},
     "output_type": "execute_result"
    }
   ],
   "source": [
    "df = pd.read_csv(stream_stats_file)\n",
    "gdf = gp.GeoDataFrame(df, crs=\"EPSG:4326\", geometry=gp.points_from_xy(x=df['Longitude (degrees NAD83)'], y=df['Latitude (degrees NAD83)']))\n",
    "gdf = gdf.to_crs(epsg=5070)\n",
    "gdf"
   ]
  },
  {
   "cell_type": "code",
   "execution_count": 4,
   "metadata": {},
   "outputs": [],
   "source": [
    "bound = gp.read_file(bound_file)\n",
    "bound = bound.to_crs(epsg=5070)"
   ]
  },
  {
   "cell_type": "code",
   "execution_count": 5,
   "metadata": {},
   "outputs": [
    {
     "data": {
      "text/plain": [
       "<AxesSubplot:>"
      ]
     },
     "execution_count": 5,
     "metadata": {},
     "output_type": "execute_result"
    },
    {
     "data": {
      "image/png": "[encoded data removed]",
      "text/plain": [
       "<Figure size 576x576 with 1 Axes>"
      ]
     },
     "metadata": {
      "needs_background": "light"
     },
     "output_type": "display_data"
    }
   ],
   "source": [
    "#  plot to make sure coords look right\n",
    "fig, ax = plt.subplots(figsize=(8,8))\n",
    "bound.plot(fc='none', ec='k', ax=ax)\n",
    "gdf.plot(ax=ax)"
   ]
  },
  {
   "cell_type": "code",
   "execution_count": 6,
   "metadata": {},
   "outputs": [],
   "source": [
    "#  calculate baseflow using mean annual flow and stream stats BFI\n",
    "gdf['Mean_Annual_BFI_baseflow_cfs'] = gdf['Mean_Annual_Flow_cfs'] * gdf['Average_BFI_value']"
   ]
  },
  {
   "cell_type": "code",
   "execution_count": 7,
   "metadata": {},
   "outputs": [],
   "source": [
    "#  make x and y cols\n",
    "gdf['x'] = gdf.geometry.x\n",
    "gdf['y'] = gdf.geometry.y"
   ]
  },
  {
   "cell_type": "code",
   "execution_count": 8,
   "metadata": {},
   "outputs": [
    {
     "data": {
      "text/html": [
       "<div>\n",
       "<style scoped>\n",
       "    .dataframe tbody tr th:only-of-type {\n",
       "        vertical-align: middle;\n",
       "    }\n",
       "\n",
       "    .dataframe tbody tr th {\n",
       "        vertical-align: top;\n",
       "    }\n",
       "\n",
       "    .dataframe thead th {\n",
       "        text-align: right;\n",
       "    }\n",
       "</style>\n",
       "<table border=\"1\" class=\"dataframe\">\n",
       "  <thead>\n",
       "    <tr style=\"text-align: right;\">\n",
       "      <th></th>\n",
       "      <th>site_id</th>\n",
       "      <th>Latitude (degrees NAD83)</th>\n",
       "      <th>Longitude (degrees NAD83)</th>\n",
       "      <th>Mean_Annual_Flow_cfs</th>\n",
       "      <th>Stand_Dev_of_Mean_Annual_Flow</th>\n",
       "      <th>Average_BFI_value</th>\n",
       "      <th>geometry</th>\n",
       "      <th>Mean_Annual_BFI_baseflow_cfs</th>\n",
       "      <th>x</th>\n",
       "      <th>y</th>\n",
       "    </tr>\n",
       "  </thead>\n",
       "  <tbody>\n",
       "    <tr>\n",
       "      <th>0</th>\n",
       "      <td>1366650</td>\n",
       "      <td>41.71426</td>\n",
       "      <td>-74.38905</td>\n",
       "      <td>101.0</td>\n",
       "      <td>35.0</td>\n",
       "      <td>0.502</td>\n",
       "      <td>POINT (inf inf)</td>\n",
       "      <td>50.702</td>\n",
       "      <td>inf</td>\n",
       "      <td>inf</td>\n",
       "    </tr>\n",
       "    <tr>\n",
       "      <th>1</th>\n",
       "      <td>1436500</td>\n",
       "      <td>41.75676</td>\n",
       "      <td>-74.59738</td>\n",
       "      <td>149.0</td>\n",
       "      <td>103.0</td>\n",
       "      <td>0.522</td>\n",
       "      <td>POINT (1751943.938 2281816.688)</td>\n",
       "      <td>77.778</td>\n",
       "      <td>1.751944e+06</td>\n",
       "      <td>2.281817e+06</td>\n",
       "    </tr>\n",
       "  </tbody>\n",
       "</table>\n",
       "</div>"
      ],
      "text/plain": [
       "   site_id  Latitude (degrees NAD83)  Longitude (degrees NAD83)  \\\n",
       "0  1366650                  41.71426                  -74.38905   \n",
       "1  1436500                  41.75676                  -74.59738   \n",
       "\n",
       "   Mean_Annual_Flow_cfs  Stand_Dev_of_Mean_Annual_Flow  Average_BFI_value  \\\n",
       "0                 101.0                           35.0              0.502   \n",
       "1                 149.0                          103.0              0.522   \n",
       "\n",
       "                          geometry  Mean_Annual_BFI_baseflow_cfs  \\\n",
       "0                  POINT (inf inf)                        50.702   \n",
       "1  POINT (1751943.938 2281816.688)                        77.778   \n",
       "\n",
       "              x             y  \n",
       "0           inf           inf  \n",
       "1  1.751944e+06  2.281817e+06  "
      ]
     },
     "execution_count": 8,
     "metadata": {},
     "output_type": "execute_result"
    }
   ],
   "source": [
    "gdf"
   ]
  },
  {
   "cell_type": "code",
   "execution_count": 9,
   "metadata": {},
   "outputs": [],
   "source": [
    "#  write as sfr obs file\n",
    "gdf.to_csv('../processed_data/NWIS_DV_STREAMSTATS_SITES.csv')"
   ]
  },
  {
   "cell_type": "code",
   "execution_count": null,
   "metadata": {},
   "outputs": [],
   "source": []
  }
 ],
 "metadata": {
  "kernelspec": {
   "display_name": "Python 3",
   "language": "python",
   "name": "python3"
  },
  "language_info": {
   "codemirror_mode": {
    "name": "ipython",
    "version": 3
   },
   "file_extension": ".py",
   "mimetype": "text/x-python",
   "name": "python",
   "nbconvert_exporter": "python",
   "pygments_lexer": "ipython3",
   "version": "3.9.2"
  }
 },
 "nbformat": 4,
 "nbformat_minor": 4
}
