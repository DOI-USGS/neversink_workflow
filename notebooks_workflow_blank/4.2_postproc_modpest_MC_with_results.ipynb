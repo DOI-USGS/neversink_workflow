{
 "cells": [
  {
   "cell_type": "code",
   "execution_count": null,
   "metadata": {},
   "outputs": [],
   "source": [
    "import sys\n",
    "sys.path.append('../python_packages_static/')\n",
    "import os\n",
    "import gzip\n",
    "import shutil\n",
    "import pandas as pd\n",
    "import numpy as np\n",
    "import rasterio\n",
    "from pyproj import CRS\n",
    "from affine import Affine\n",
    "from rasterio.warp import calculate_default_transform, reproject, Resampling\n",
    "import matplotlib.pyplot as plt\n",
    "import re"
   ]
  },
  {
   "cell_type": "markdown",
   "metadata": {},
   "source": [
    "## Now that `modpath_run_data` is setup with the necessary files, we'll For each set of modpath files (NE, W, and S), we'll run one modpath simulation for each of the 358 parameter realizations contained in `modpath_par_ens.csv`. This notebooks skips to the results from the paper, with all realizations combined in numpy array files. "
   ]
  },
  {
   "cell_type": "code",
   "execution_count": null,
   "metadata": {},
   "outputs": [],
   "source": [
    "mc_path = '../output/modpath/'\n",
    "outpath = os.path.join('../modpath_run_data', 'postproc')"
   ]
  },
  {
   "cell_type": "code",
   "execution_count": null,
   "metadata": {},
   "outputs": [],
   "source": [
    "if not os.path.exists(outpath):\n",
    "    os.mkdir(outpath)"
   ]
  },
  {
   "cell_type": "markdown",
   "metadata": {},
   "source": [
    "### get list of priority wells, and locations"
   ]
  },
  {
   "cell_type": "code",
   "execution_count": null,
   "metadata": {},
   "outputs": [],
   "source": [
    "wells_df = pd.read_csv('../processed_data/2009-2016_ave_pumping.csv')\n",
    "wells_df = wells_df.loc[wells_df.WellType == 'Priority']\n",
    "priority_wells = wells_df.ID_Well.tolist()\n",
    "priority_wells"
   ]
  },
  {
   "cell_type": "code",
   "execution_count": null,
   "metadata": {},
   "outputs": [],
   "source": [
    "well_dat_df = pd.read_csv('../neversink_mf6/wel_000.dat', delim_whitespace=True)\n",
    "well_dat_df = well_dat_df.loc[well_dat_df.boundname.isin(priority_wells)]\n",
    "\n",
    "well_dat_df['i_zb'] = well_dat_df['i'] - 1\n",
    "well_dat_df['j_zb'] = well_dat_df['j'] - 1\n",
    "\n",
    "particle_ys = [y for y in well_dat_df['i_zb']]\n",
    "particle_xs = [x for x in well_dat_df['j_zb']]"
   ]
  },
  {
   "cell_type": "code",
   "execution_count": null,
   "metadata": {},
   "outputs": [],
   "source": [
    "#  set True to make a single combined probabilistic capture geotiff - combines capture for all wells\n",
    "make_ca=True\n",
    "\n",
    "\n",
    "#  set True to make a raster showing the standard deviation of the water table across all MODPATH realizations\n",
    "proc_heads=True"
   ]
  },
  {
   "cell_type": "markdown",
   "metadata": {},
   "source": [
    "# Create rasters from MODPATH MC results"
   ]
  },
  {
   "cell_type": "markdown",
   "metadata": {},
   "source": [
    "### water table standard deviation raster"
   ]
  },
  {
   "cell_type": "code",
   "execution_count": null,
   "metadata": {},
   "outputs": [],
   "source": [
    "if proc_heads is True:\n",
    "    mp_mc_wt_file = os.path.join(mc_path, 'baserat_heads.npy.gz') # numpy array file with water table arrays from each modpath realization \n",
    "\n",
    "    f = gzip.GzipFile(mp_mc_wt_file, \"r\")\n",
    "    wt_reals = np.load(f)\n",
    "    wt_reals.shape\n",
    "\n",
    "    h_std = wt_reals.std(axis=2)\n",
    "\n",
    "    h_std[h_std>1e10]=-9999.\n",
    "   \n",
    "    outfile = 'heads_std.tif'\n",
    "    raster_outpath = os.path.join(outpath, outfile)\n",
    "\n",
    "    dataset = rasterio.open(\n",
    "        raster_outpath, \n",
    "        'w', \n",
    "        driver='GTiff',\n",
    "        height = h_std.shape[0], \n",
    "        width = h_std.shape[1],\n",
    "        count=1,\n",
    "        nodata = -9999.0,\n",
    "        dtype=str(h_std.dtype),\n",
    "        crs = CRS.from_epsg(5070),\n",
    "        transform=Affine(50.0, 0.0, 1742955.0,\n",
    "                         0.0, -50.0, 2292285.0),\n",
    "    )\n",
    "\n",
    "    dataset.write(h_std, 1)\n",
    "    dataset.close()\n",
    "    \n",
    "    fig, ax = plt.subplots(figsize=(6,6))\n",
    "    h_std_plot = h_std.copy()\n",
    "    h_std_plot[h_std_plot==-9999.]=np.nan\n",
    "    im = ax.imshow(h_std_plot)\n",
    "    fig.colorbar(im, label='Standard deviation, in meters', shrink=0.8)"
   ]
  },
  {
   "cell_type": "markdown",
   "metadata": {},
   "source": [
    "## Probablistic particle tracking rasters to priority wells\n",
    "### Contributing recharge to priority wells on one raster"
   ]
  },
  {
   "cell_type": "code",
   "execution_count": null,
   "metadata": {},
   "outputs": [],
   "source": [
    "if make_ca:\n",
    "    endpoints_file = os.path.join(mc_path, 'baserat.npy.gz') # numpy array file with startipoint cells of particles ending in priority well nodes from each modpath realization \n",
    "\n",
    "    f = gzip.GzipFile(endpoints_file, \"r\")\n",
    "    mp_endpoints = np.load(f)\n",
    "    mp_endpoints.shape\n",
    "    \n",
    "    mp_grid = np.zeros((680, 619)) \n",
    "    nonzero_mc_count = 0\n",
    "    \n",
    "    for i in range(mp_endpoints.shape[2]):\n",
    "        real_endpoints = mp_endpoints[:,:,i]\n",
    "        mp_grid += real_endpoints\n",
    "        nonzero_mc_count += 1\n",
    "        \n",
    "    mp_grid /= nonzero_mc_count\n",
    "    \n",
    "    #  plot results with priority wells\n",
    "    grid_for_plotting = mp_grid.copy()\n",
    "    grid_for_plotting[grid_for_plotting == 0.]=np.nan\n",
    "    \n",
    "    fig, ax = plt.subplots(figsize=(8,8))\n",
    "    im = ax.imshow(grid_for_plotting)\n",
    "    fig.colorbar(im, label='Decimal probability', shrink=0.9) \n",
    "    ax.scatter(particle_xs, particle_ys, c='r', label='Priority Well', s=7)\n",
    "    ax.set_title('Probabilistic contributing recharge area')\n",
    "    ax.legend()\n",
    "    \n",
    "    #  export results as geotiff\n",
    "    out_grid = mp_grid.copy()\n",
    "    out_grid[out_grid == 0.] = -9999.\n",
    "    \n",
    "    outfile = 'mp_mc_combined.tif'\n",
    "    raster_outpath = os.path.join(outpath, outfile)\n",
    "\n",
    "    dataset = rasterio.open(\n",
    "        raster_outpath, \n",
    "        'w', \n",
    "        driver='GTiff',\n",
    "        height = out_grid.shape[0], \n",
    "        width = out_grid.shape[1],\n",
    "        count=1,\n",
    "        nodata = -9999.0,\n",
    "        dtype=str(out_grid.dtype),\n",
    "        crs = CRS.from_epsg(5070),\n",
    "        transform=Affine(50.0, 0.0, 1742955.0,\n",
    "                         0.0, -50.0, 2292285.0),\n",
    "    )\n",
    "\n",
    "    dataset.write(out_grid, 1)\n",
    "    dataset.close()\n"
   ]
  },
  {
   "cell_type": "code",
   "execution_count": null,
   "metadata": {},
   "outputs": [],
   "source": []
  }
 ],
 "metadata": {
  "kernelspec": {
   "display_name": "Python 3",
   "language": "python",
   "name": "python3"
  },
  "language_info": {
   "codemirror_mode": {
    "name": "ipython",
    "version": 3
   },
   "file_extension": ".py",
   "mimetype": "text/x-python",
   "name": "python",
   "nbconvert_exporter": "python",
   "pygments_lexer": "ipython3",
   "version": "3.9.2"
  }
 },
 "nbformat": 4,
 "nbformat_minor": 4
}
