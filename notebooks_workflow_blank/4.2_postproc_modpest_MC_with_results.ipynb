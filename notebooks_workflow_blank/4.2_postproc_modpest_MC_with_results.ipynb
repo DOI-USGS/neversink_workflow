{
 "cells": [
  {
   "cell_type": "code",
   "execution_count": null,
   "metadata": {},
   "outputs": [],
   "source": [
    "import sys\n",
    "sys.path.append('../python_packages_static/')\n",
    "import os\n",
    "import zipfile\n",
    "import shutil\n",
    "import pandas as pd\n",
    "import numpy as np\n",
    "import rasterio\n",
    "from pyproj import CRS\n",
    "from affine import Affine\n",
    "from rasterio.warp import calculate_default_transform, reproject, Resampling\n",
    "import matplotlib.pyplot as plt\n",
    "import re"
   ]
  },
  {
   "cell_type": "markdown",
   "metadata": {},
   "source": [
    "## Now that the `modpath_run_data` subdirectory is setup with the necessary files, we run one modpath simulation for each of the 358 parameter realizations contained in `modpath_par_ens.csv`. In the papers, this step was referred to as the MODPATH Monte Carlo analysis. \n",
    "\n",
    "NOTE: Instructions to run the MODPATH Monte Carlo analysis (completed between workflow notebooks 4.1 and 4.2) are not included here. Notebooks (4.0, 4.1 & 4.2) can only be run with supplied results from `output/modpath`. Users can reproduce this step by running MODPATH once for each MODPATH zone (NE, W, and SE) and parameter realization in `modpath_par_ens.csv` (generated in workflow notebook 3.2_postproc_iES-LT_noise.ipynb). In the papers, this was accomplished using the [HTCondor](https://research.cs.wisc.edu/htcondor/) run manager.\n",
    "\n",
    "### This notebooks uses the supplied results from the paper. These results are contained in zip files in the `output/modpath` subdirectory. "
   ]
  },
  {
   "cell_type": "code",
   "execution_count": null,
   "metadata": {},
   "outputs": [],
   "source": [
    "mc_path = '../output/modpath_mc/'"
   ]
  },
  {
   "cell_type": "markdown",
   "metadata": {},
   "source": [
    "### get list of priority wells, and locations"
   ]
  },
  {
   "cell_type": "code",
   "execution_count": null,
   "metadata": {},
   "outputs": [],
   "source": [
    "wells_df = pd.read_csv('../processed_data/2009-2016_ave_pumping.csv')\n",
    "wells_df = wells_df.loc[wells_df.WellType == 'Priority']\n",
    "priority_wells = wells_df.ID_Well.tolist()\n",
    "priority_wells"
   ]
  },
  {
   "cell_type": "code",
   "execution_count": null,
   "metadata": {},
   "outputs": [],
   "source": [
    "well_dat_df = pd.read_csv('../neversink_mf6/wel_000.dat', delim_whitespace=True)\n",
    "well_dat_df = well_dat_df.loc[well_dat_df.boundname.isin(priority_wells)]\n",
    "\n",
    "well_dat_df['i_zb'] = well_dat_df['i'] - 1\n",
    "well_dat_df['j_zb'] = well_dat_df['j'] - 1\n",
    "\n",
    "particle_ys = [y for y in well_dat_df['i_zb']]\n",
    "particle_xs = [x for x in well_dat_df['j_zb']]"
   ]
  },
  {
   "cell_type": "markdown",
   "metadata": {},
   "source": [
    "### list pumping scenarios"
   ]
  },
  {
   "cell_type": "code",
   "execution_count": null,
   "metadata": {},
   "outputs": [],
   "source": [
    "qrats = ['maxrat', '0.25rat', '0.5rat', '0.75rat', 'maxrange', 'baserat']"
   ]
  },
  {
   "cell_type": "markdown",
   "metadata": {},
   "source": [
    "# Create rasters from MODPATH MC results"
   ]
  },
  {
   "cell_type": "markdown",
   "metadata": {},
   "source": [
    "### Probablistic contributing recharge areas to priority wells for each pumping scenario"
   ]
  },
  {
   "cell_type": "code",
   "execution_count": null,
   "metadata": {},
   "outputs": [],
   "source": [
    "for qrat in qrats:\n",
    "    print(f'processing {qrat} results...')\n",
    "    with zipfile.ZipFile(os.path.join(mc_path, f'{qrat}.zip'),\"r\") as zip_ref:\n",
    "        zip_ref.extractall(mc_path)\n",
    "\n",
    "    mp_grid = np.zeros((680, 619)) \n",
    "    nonzero_mc_count = 0\n",
    "\n",
    "    for file in os.listdir(os.path.join(mc_path, qrat)):\n",
    "        real_arr = np.loadtxt(os.path.join(mc_path, qrat, file))\n",
    "        if not real_arr.sum == 0:\n",
    "            mp_grid += real_arr\n",
    "            nonzero_mc_count += 1\n",
    "\n",
    "    mp_grid /= nonzero_mc_count   \n",
    "\n",
    "    #  plot results with priority wells\n",
    "    grid_for_plotting = mp_grid.copy()\n",
    "    grid_for_plotting[grid_for_plotting == 0.]=np.nan\n",
    "\n",
    "    fig, ax = plt.subplots(figsize=(8,8))\n",
    "    im = ax.imshow(grid_for_plotting)\n",
    "    fig.colorbar(im, label='Decimal probability', shrink=0.9) \n",
    "    ax.scatter(particle_xs, particle_ys, c='r', label='Priority Well', s=7)\n",
    "    ax.set_title(f'Probabilistic contributing recharge area: {qrat}')\n",
    "    ax.legend()\n",
    "    plt.show()\n",
    "\n",
    "    #  export results as geotiff\n",
    "    out_grid = mp_grid.copy()\n",
    "    out_grid[out_grid == 0.] = -9999.\n",
    "\n",
    "    outfile = f'mp_mc_{qrat}.tif'\n",
    "    raster_outpath = os.path.join(mc_path, outfile)\n",
    "\n",
    "    dataset = rasterio.open(\n",
    "        raster_outpath, \n",
    "        'w', \n",
    "        driver='GTiff',\n",
    "        height = out_grid.shape[0], \n",
    "        width = out_grid.shape[1],\n",
    "        count=1,\n",
    "        nodata = -9999.0,\n",
    "        dtype=str(out_grid.dtype),\n",
    "        crs = CRS.from_epsg(5070),\n",
    "        transform=Affine(50.0, 0.0, 1742955.0,\n",
    "                         0.0, -50.0, 2292285.0),\n",
    "    )\n",
    "\n",
    "    dataset.write(out_grid, 1)\n",
    "    dataset.close()\n",
    "    print(f'wrote {raster_outpath}\\n')\n",
    "\n",
    "    # cleanup unzipped directory\n",
    "    shutil.rmtree(os.path.join(mc_path, qrat))"
   ]
  },
  {
   "cell_type": "code",
   "execution_count": null,
   "metadata": {},
   "outputs": [],
   "source": []
  }
 ],
 "metadata": {
  "kernelspec": {
   "display_name": "Python 3",
   "language": "python",
   "name": "python3"
  },
  "language_info": {
   "codemirror_mode": {
    "name": "ipython",
    "version": 3
   },
   "file_extension": ".py",
   "mimetype": "text/x-python",
   "name": "python",
   "nbconvert_exporter": "python",
   "pygments_lexer": "ipython3",
   "version": "3.9.2"
  }
 },
 "nbformat": 4,
 "nbformat_minor": 4
}
