{
 "cells": [
  {
   "cell_type": "code",
   "execution_count": null,
   "metadata": {},
   "outputs": [],
   "source": [
    "import sys\n",
    "sys.path.append('../python_packages_static/')\n",
    "import pandas as pd\n",
    "import pyemu\n",
    "import os, glob\n",
    "from matplotlib.backends.backend_pdf import PdfPages\n",
    "import matplotlib.pyplot as plt\n",
    "import numpy as np\n"
   ]
  },
  {
   "cell_type": "code",
   "execution_count": null,
   "metadata": {},
   "outputs": [],
   "source": [
    "run_ensemble=False"
   ]
  },
  {
   "cell_type": "code",
   "execution_count": null,
   "metadata": {},
   "outputs": [],
   "source": [
    "if run_ensemble == True:\n",
    "    wkdir = '../run_data/' # we need to read from this directory to get the residuals from the noptmax 0 run\n",
    "else:\n",
    "    wkdir = '../output/parallel/' # we need to read from this directory to get the residuals from the noptmax 0 run\n",
    "output_dir = '../run_data' # this is the folder we will actually use to set up PEST++ runs\n",
    "pstroot='prior_mc_wide'"
   ]
  },
  {
   "cell_type": "code",
   "execution_count": null,
   "metadata": {},
   "outputs": [],
   "source": [
    "ens = pd.read_csv(os.path.join(wkdir,'{}.0.obs.csv'.format(pstroot)), index_col=0)"
   ]
  },
  {
   "cell_type": "code",
   "execution_count": null,
   "metadata": {},
   "outputs": [],
   "source": [
    "phi = pd.read_csv(os.path.join(wkdir,'{}.phi.actual.csv'.format(pstroot)))"
   ]
  },
  {
   "cell_type": "code",
   "execution_count": null,
   "metadata": {},
   "outputs": [],
   "source": [
    "parens = pd.read_csv(os.path.join(wkdir, '{}.0.par.csv'.format(pstroot)), index_col=0)"
   ]
  },
  {
   "cell_type": "code",
   "execution_count": null,
   "metadata": {},
   "outputs": [],
   "source": [
    "parens"
   ]
  },
  {
   "cell_type": "code",
   "execution_count": null,
   "metadata": {},
   "outputs": [],
   "source": [
    "phi.T.dropna().iloc[6:].hist(bins=50)"
   ]
  },
  {
   "cell_type": "code",
   "execution_count": null,
   "metadata": {},
   "outputs": [],
   "source": [
    "phi"
   ]
  },
  {
   "cell_type": "code",
   "execution_count": null,
   "metadata": {},
   "outputs": [],
   "source": [
    "# adjust threshold based on histogram\n",
    "phi_threshold_for_keeping =  22500 # prior_mc_wide \n",
    "allphi=phi.T.dropna().iloc[6:].copy()\n",
    "allphi.columns=['phi']\n",
    "keepreals = allphi.loc[allphi.phi<phi_threshold_for_keeping].index\n",
    "keepreals"
   ]
  },
  {
   "cell_type": "code",
   "execution_count": null,
   "metadata": {},
   "outputs": [],
   "source": [
    "allphi.loc[keepreals].hist(bins=50)"
   ]
  },
  {
   "cell_type": "code",
   "execution_count": null,
   "metadata": {},
   "outputs": [],
   "source": [
    "# truncate the ensemble to only keepreals (based on phi)\n",
    "ens = ens.loc[keepreals]\n",
    "# set percent_discrepancy to absolute value because we don't care about the sign\n",
    "ens.perc_disc = ens.perc_disc.apply(lambda x: np.abs(x))"
   ]
  },
  {
   "cell_type": "code",
   "execution_count": null,
   "metadata": {},
   "outputs": [],
   "source": [
    "# further truncate to eliminate bad mass balance runs \n",
    "print(len(ens))\n",
    "ens = ens.loc[ens.perc_disc<0.01]\n",
    "ens"
   ]
  },
  {
   "cell_type": "code",
   "execution_count": null,
   "metadata": {},
   "outputs": [],
   "source": [
    "# reset keepreals based now both on phi and mass balance\n",
    "keepreals = ens.index.values"
   ]
  },
  {
   "cell_type": "code",
   "execution_count": null,
   "metadata": {},
   "outputs": [],
   "source": [
    "# look at phi again\n",
    "allphi.loc[keepreals].hist(bins=50)"
   ]
  },
  {
   "cell_type": "code",
   "execution_count": null,
   "metadata": {},
   "outputs": [],
   "source": [
    "allphi.loc[keepreals]"
   ]
  },
  {
   "cell_type": "code",
   "execution_count": null,
   "metadata": {},
   "outputs": [],
   "source": [
    "pst = pyemu.Pst(os.path.join(wkdir,'{}.pst'.format(pstroot)))"
   ]
  },
  {
   "cell_type": "code",
   "execution_count": null,
   "metadata": {},
   "outputs": [],
   "source": [
    "q50 = pyemu.helpers.calc_observation_ensemble_quantiles(ens, pst, [.5, .9])"
   ]
  },
  {
   "cell_type": "code",
   "execution_count": null,
   "metadata": {},
   "outputs": [],
   "source": [
    "obs = pst.observation_data"
   ]
  },
  {
   "cell_type": "code",
   "execution_count": null,
   "metadata": {},
   "outputs": [],
   "source": [
    "obs"
   ]
  },
  {
   "cell_type": "code",
   "execution_count": null,
   "metadata": {},
   "outputs": [],
   "source": [
    "plot_all_pdfs=False # flag whether to plot all the histograms"
   ]
  },
  {
   "cell_type": "code",
   "execution_count": null,
   "metadata": {},
   "outputs": [],
   "source": [
    "if plot_all_pdfs==True:\n",
    "    with PdfPages('../figures/{}_obs_hist_plots.pdf'.format(pstroot))) as outpdf:\n",
    "        for cob in obs.obsnme.values:\n",
    "            plt.figure()\n",
    "            ens[cob].hist(bins=50)\n",
    "            obsval = obs.loc[cob].obsval\n",
    "            plt.axvline(obsval, color='orange')\n",
    "            plt.title(cob)\n",
    "            outpdf.savefig()\n",
    "            plt.close('all')"
   ]
  },
  {
   "cell_type": "markdown",
   "metadata": {},
   "source": [
    "# trim the parameters to the acceptable PHI ensemble"
   ]
  },
  {
   "cell_type": "code",
   "execution_count": null,
   "metadata": {},
   "outputs": [],
   "source": [
    "parens.index = [str(i) for i in parens.index.values]\n",
    "parens = parens.loc[keepreals]"
   ]
  },
  {
   "cell_type": "code",
   "execution_count": null,
   "metadata": {},
   "outputs": [],
   "source": [
    "parens.to_csv(os.path.join(output_dir, 'never_iES_post_MC_parens.csv'))"
   ]
  }
 ],
 "metadata": {
  "kernelspec": {
   "display_name": "Python 3",
   "language": "python",
   "name": "python3"
  },
  "language_info": {
   "codemirror_mode": {
    "name": "ipython",
    "version": 3
   },
   "file_extension": ".py",
   "mimetype": "text/x-python",
   "name": "python",
   "nbconvert_exporter": "python",
   "pygments_lexer": "ipython3",
   "version": "3.9.2"
  }
 },
 "nbformat": 4,
 "nbformat_minor": 4
}
