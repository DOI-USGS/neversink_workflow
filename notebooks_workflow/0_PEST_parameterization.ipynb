{
 "cells": [
  {
   "cell_type": "code",
   "execution_count": null,
   "metadata": {},
   "outputs": [],
   "source": [
    "import flopy as fp\n",
    "import pyemu\n",
    "import re\n",
    "import pandas as pd\n",
    "import matplotlib.pyplot as plt\n",
    "import numpy as np\n",
    "import os, shutil, glob, sys\n",
    "import json"
   ]
  },
  {
   "cell_type": "code",
   "execution_count": null,
   "metadata": {},
   "outputs": [],
   "source": [
    "pyemu.__version__"
   ]
  },
  {
   "cell_type": "code",
   "execution_count": null,
   "metadata": {},
   "outputs": [],
   "source": [
    "sim_ws = '../neversink_mf6/'\n",
    "template_ws = '../run_data'\n",
    "basename = 'neversink_ies'"
   ]
  },
  {
   "cell_type": "markdown",
   "metadata": {},
   "source": [
    "#### kill the `original` folder"
   ]
  },
  {
   "cell_type": "code",
   "execution_count": null,
   "metadata": {},
   "outputs": [],
   "source": [
    "if os.path.exists(os.path.join(sim_ws,'original')):\n",
    "    shutil.rmtree(os.path.join(sim_ws,'original'))"
   ]
  },
  {
   "cell_type": "code",
   "execution_count": null,
   "metadata": {},
   "outputs": [],
   "source": [
    "run_MF6 = True # option to run MF6 to generate output but not needed if already been run in sim_ws\n",
    "cdir = os.getcwd()\n",
    "\n",
    "\n",
    "# optionally run MF6 to generate model output\n",
    "if run_MF6:\n",
    "    os.chdir(sim_ws)\n",
    "    os.system('mf6')\n",
    "    os.chdir(cdir)"
   ]
  },
  {
   "cell_type": "markdown",
   "metadata": {},
   "source": [
    "### create land surface observations we will need at the end"
   ]
  },
  {
   "cell_type": "code",
   "execution_count": null,
   "metadata": {},
   "outputs": [],
   "source": [
    "irch_file = f'{sim_ws}/irch.dat'\n",
    "id3_file = f'{sim_ws}/idomain_003.dat'\n",
    "top_file = f'{sim_ws}/top.dat'"
   ]
  },
  {
   "cell_type": "code",
   "execution_count": null,
   "metadata": {},
   "outputs": [],
   "source": [
    "top = np.loadtxt(top_file)\n",
    "top[top<-8000] = np.nan\n",
    "plt.imshow(top)\n",
    "\n",
    "plt.colorbar()"
   ]
  },
  {
   "cell_type": "code",
   "execution_count": null,
   "metadata": {},
   "outputs": [],
   "source": [
    "id3  = np.loadtxt(id3_file, dtype=int)\n",
    "plt.imshow(id3)"
   ]
  },
  {
   "cell_type": "code",
   "execution_count": null,
   "metadata": {},
   "outputs": [],
   "source": [
    "irch = np.loadtxt(irch_file, dtype=int)\n",
    "irch -= 1\n",
    "plt.imshow(irch)\n",
    "plt.colorbar()"
   ]
  },
  {
   "cell_type": "code",
   "execution_count": null,
   "metadata": {},
   "outputs": [],
   "source": [
    "# set frequency for land surface observations lateralls, in model cells\n",
    "lsobs_every_n_cells = 50 "
   ]
  },
  {
   "cell_type": "code",
   "execution_count": null,
   "metadata": {},
   "outputs": [],
   "source": [
    "# make a grid of cells spaced at the spacing suggested above\n",
    "nrow, ncol = id3.shape\n",
    "j = list(range(ncol))[0:ncol:lsobs_every_n_cells]\n",
    "i = list(range(nrow))[0:nrow:lsobs_every_n_cells]\n",
    "J,I = np.meshgrid(j,i)\n",
    "points = list(zip(I.ravel(),J.ravel()))"
   ]
  },
  {
   "cell_type": "code",
   "execution_count": null,
   "metadata": {},
   "outputs": [],
   "source": [
    "# now keep only those that are in active cells (using ibound of layer4 as the basis) and drop a few others"
   ]
  },
  {
   "cell_type": "code",
   "execution_count": null,
   "metadata": {},
   "outputs": [],
   "source": [
    "keep_points = [(irch[i,j],i,j) for i,j in points if id3[i,j]==1]\n",
    "drop_points = [(0, 150, 50),(3, 150, 100),(3, 100, 50)]\n",
    "keep_points = [i for i in keep_points if i not in drop_points]"
   ]
  },
  {
   "cell_type": "markdown",
   "metadata": {},
   "source": [
    "### make list of indices"
   ]
  },
  {
   "cell_type": "code",
   "execution_count": null,
   "metadata": {},
   "outputs": [],
   "source": [
    "with open(os.path.join(sim_ws,'land_surf_obs-indices.csv'), 'w') as ofp:\n",
    "    ofp.write('k,i,j,obsname\\n')\n",
    "    [ofp.write('{0},{1},{2},land_surf_obs_{1}_{2}\\n'.format(*i)) for i in keep_points]"
   ]
  },
  {
   "cell_type": "markdown",
   "metadata": {},
   "source": [
    "### make an observations file"
   ]
  },
  {
   "cell_type": "code",
   "execution_count": null,
   "metadata": {},
   "outputs": [],
   "source": [
    "with open(os.path.join(sim_ws,'land_surf_obs-observations.csv'), 'w') as ofp:\n",
    "    ofp.write('obsname,obsval\\n')\n",
    "    [ofp.write('land_surf_obs_{1}_{2},{3}\\n'.format(*i, top[i[1],i[2]])) for i in keep_points]"
   ]
  },
  {
   "cell_type": "markdown",
   "metadata": {},
   "source": [
    "### load up the simulation"
   ]
  },
  {
   "cell_type": "code",
   "execution_count": null,
   "metadata": {},
   "outputs": [],
   "source": [
    "sim = fp.mf6.MFSimulation.load(sim_ws=sim_ws)"
   ]
  },
  {
   "cell_type": "code",
   "execution_count": null,
   "metadata": {},
   "outputs": [],
   "source": [
    "m = sim.get_model()"
   ]
  },
  {
   "cell_type": "code",
   "execution_count": null,
   "metadata": {},
   "outputs": [],
   "source": [
    "# manually create a spatial reference object from the grid.json metadata\n",
    "grid_data = json.load(open(os.path.join(sim_ws,'neversink_grid.json')))"
   ]
  },
  {
   "cell_type": "code",
   "execution_count": null,
   "metadata": {},
   "outputs": [],
   "source": [
    "sr_model = pyemu.helpers.SpatialReference(delr=grid_data['delr'],\n",
    "                                           delc=grid_data['delc'],\n",
    "                                           rotation= grid_data['angrot'],\n",
    "                                           epsg = grid_data['epsg'],\n",
    "                                           xul = grid_data['xul'],\n",
    "                                           yul = grid_data['yul'],\n",
    "                                           units='meters',\n",
    "                                           lenuni=grid_data['lenuni'])"
   ]
  },
  {
   "cell_type": "code",
   "execution_count": null,
   "metadata": {},
   "outputs": [],
   "source": [
    "# create the PstFrom object \n",
    "pf = pyemu.utils.PstFrom(original_d=sim_ws, new_d=template_ws,\n",
    "                 remove_existing=True,\n",
    "                 longnames=True, spatial_reference=sr_model,\n",
    "                 zero_based=False)"
   ]
  },
  {
   "cell_type": "markdown",
   "metadata": {},
   "source": [
    "## we will parameterize....\n",
    "- pilot points for k, k33, r\n",
    "- zones for l, k33, r\n",
    "- constant for R\n",
    "- sfr conductance by reach\n",
    "- well pumping \n",
    "- CHDs"
   ]
  },
  {
   "cell_type": "code",
   "execution_count": null,
   "metadata": {},
   "outputs": [],
   "source": [
    "# parameterize list-directed well and chd packages\n",
    "list_tags = {'wel_':[.8,1.2], 'chd_':[.8,1.2]}"
   ]
  },
  {
   "cell_type": "code",
   "execution_count": null,
   "metadata": {},
   "outputs": [],
   "source": [
    "for tag,bnd in list_tags.items():\n",
    "    lb,ub = bnd\n",
    "    filename = os.path.basename(glob.glob(os.path.join(template_ws, '*{}*'.format(tag)))[0])\n",
    "    pf.add_parameters(filenames=filename, par_type = 'grid',\n",
    "                     upper_bound=ub, lower_bound=lb, par_name_base=tag,\n",
    "                     index_cols=[0,1,2], use_cols=[3],pargp=tag[:-1],alt_inst_str='',\n",
    "                     comment_char='#')"
   ]
  },
  {
   "cell_type": "code",
   "execution_count": null,
   "metadata": {},
   "outputs": [],
   "source": [
    "k_ub = 152\n",
    "# set up pilot points\n",
    "pp_tags = {'k':[.01,10.,k_ub], 'k33':[.01,10.,k_ub/10]}"
   ]
  },
  {
   "cell_type": "code",
   "execution_count": null,
   "metadata": {},
   "outputs": [],
   "source": [
    "idm = m.dis.idomain.array"
   ]
  },
  {
   "cell_type": "code",
   "execution_count": null,
   "metadata": {},
   "outputs": [],
   "source": [
    "plt.imshow(idm[2])\n",
    "plt.colorbar()"
   ]
  },
  {
   "cell_type": "code",
   "execution_count": null,
   "metadata": {},
   "outputs": [],
   "source": [
    "idm[idm==-1]=0"
   ]
  },
  {
   "cell_type": "code",
   "execution_count": null,
   "metadata": {},
   "outputs": [],
   "source": [
    "for i in range(4):\n",
    "    plt.figure()\n",
    "    plt.imshow(idm[i])\n",
    "    plt.colorbar()"
   ]
  },
  {
   "cell_type": "markdown",
   "metadata": {},
   "source": [
    "#### before setting up K, need to edit the zone files to only have nonzero values in active cells"
   ]
  },
  {
   "cell_type": "code",
   "execution_count": null,
   "metadata": {},
   "outputs": [],
   "source": [
    "kzonefile = '../k_processing/padded_L{}_K_Zone_50mGrid.dat'\n",
    "zonearrs = {}\n",
    "for i in range(m.dis.nlay.data):\n",
    "    kz = np.loadtxt(kzonefile.format(i)).astype(int)\n",
    "    kz[idm[i] != 1] = 0 # CHANGED FROM 0 TO 'i' ON 11/23/2020\n",
    "    zonearrs[i] = kz\n"
   ]
  },
  {
   "cell_type": "code",
   "execution_count": null,
   "metadata": {},
   "outputs": [],
   "source": [
    "for i in range(4):\n",
    "    plt.figure()\n",
    "    plt.imshow(zonearrs[i])\n",
    "    plt.colorbar()"
   ]
  },
  {
   "cell_type": "code",
   "execution_count": null,
   "metadata": {},
   "outputs": [],
   "source": [
    "[np.unique(kz) for _,kz in zonearrs.items()]"
   ]
  },
  {
   "cell_type": "code",
   "execution_count": null,
   "metadata": {},
   "outputs": [],
   "source": []
  },
  {
   "cell_type": "code",
   "execution_count": null,
   "metadata": {},
   "outputs": [],
   "source": [
    "tag='k33'"
   ]
  },
  {
   "cell_type": "code",
   "execution_count": null,
   "metadata": {},
   "outputs": [],
   "source": [
    "arrfiles = [f for f in os.listdir(template_ws) if f.startswith(tag)]# & ('k33' not in f)]\n",
    "arrfiles"
   ]
  },
  {
   "cell_type": "code",
   "execution_count": null,
   "metadata": {},
   "outputs": [],
   "source": [
    "[int(re.findall('\\d+',i.replace('k33',''))[-1]) for i in arrfiles]"
   ]
  },
  {
   "cell_type": "code",
   "execution_count": null,
   "metadata": {},
   "outputs": [],
   "source": [
    "## set up for K\n",
    "for tag,bnd in pp_tags.items():\n",
    "    lb, ub, ultub = bnd\n",
    "    if tag == 'k':\n",
    "        arrfiles = sorted([f for f in os.listdir(template_ws) if f.startswith(tag) & ('k33' not in f)])\n",
    "    else:\n",
    "        arrfiles = sorted([f for f in os.listdir(template_ws) if f.startswith(tag)])\n",
    "    \n",
    "    for arr_file in arrfiles:        \n",
    "        currlay = int(re.findall('\\d+',arr_file.replace('k33',''))[-1])\n",
    "        \n",
    "        # pilot points\n",
    "        # set pilot point spacing:\n",
    "        if currlay in [1,2]:\n",
    "            pp_space = 5           \n",
    "        else: \n",
    "            pp_space = 20\n",
    "        v = pyemu.utils.geostats.ExpVario(a=sr_model.delr[0]*3*pp_space,contribution=1.0)\n",
    "        gs = pyemu.utils.geostats.GeoStruct(variograms=v,nugget=0.0, transform='log')\n",
    "\n",
    "        print('pps for layer {} --- filename: {}: idomain_sum: {}'.format(currlay, arr_file, idm[currlay].sum()))\n",
    "        pf.add_parameters(filenames=arr_file, par_type='pilotpoints', pp_space=pp_space,\n",
    "                         upper_bound=ub, lower_bound=lb, geostruct=gs,\n",
    "                         par_name_base='{}_pp'.format(tag),alt_inst_str='',\n",
    "                         zone_array=idm[currlay], pargp='pp_{}'.format(tag),\n",
    "                         ult_ubound=ultub)\n",
    "        # zones\n",
    "        print('zones for layer {} --- filename: {}: idomain_sum: {}'.format(currlay, arr_file, idm[currlay].sum()))\n",
    "        pf.add_parameters(filenames=arr_file, par_type='zone',alt_inst_str='',\n",
    "                         zone_array = zonearrs[currlay],lower_bound=lb,upper_bound=ub,\n",
    "                         pargp='zn_{}'.format(tag), par_name_base='{}_{}'.format(tag,currlay),\n",
    "                          ult_ubound=ultub)\n",
    "        "
   ]
  },
  {
   "cell_type": "code",
   "execution_count": null,
   "metadata": {},
   "outputs": [],
   "source": [
    "# recharge as special case because no idomain for R\n",
    "rtags= {'rch':[0.8,1.2, np.max(m.rch.recharge.array)*1.2]}"
   ]
  },
  {
   "cell_type": "code",
   "execution_count": null,
   "metadata": {},
   "outputs": [],
   "source": [
    "for tag,bnd in rtags.items():\n",
    "    lb, ub, ultub = bnd\n",
    "    if tag == 'k':\n",
    "        arrfiles = sorted([f for f in os.listdir(template_ws) if f.startswith(tag) & ('k33' not in f)])\n",
    "    else:\n",
    "        arrfiles = sorted([f for f in os.listdir(template_ws) if f.startswith(tag)])\n",
    "    \n",
    "    for arr_file in arrfiles:\n",
    "        # pilot points\n",
    "        pf.add_parameters(filenames=arr_file, par_type='pilotpoints', pp_space=pp_space,\n",
    "                         upper_bound=ub, lower_bound=lb, geostruct=gs,\n",
    "                         par_name_base='{}_pp'.format(tag),\n",
    "                          zone_array=idm[3],alt_inst_str='',\n",
    "                         pargp='pp_{}'.format(tag),\n",
    "                          ult_ubound=ultub)\n",
    "        # constant\n",
    "        pf.add_parameters(filenames=arr_file, par_type='constant',\n",
    "                 upper_bound=ub-0.1, lower_bound=lb+0.1, \n",
    "                 par_name_base='{}_const'.format(tag),\n",
    "                 zone_array=idm[3],alt_inst_str='',\n",
    "                 pargp='pp_{}'.format(tag),\n",
    "                           ult_ubound=ultub)\n"
   ]
  },
  {
   "cell_type": "markdown",
   "metadata": {},
   "source": [
    "### Make a TPL file for SFR and add it to the `pst` object"
   ]
  },
  {
   "cell_type": "code",
   "execution_count": null,
   "metadata": {},
   "outputs": [],
   "source": [
    "sfrfilename = 'neversink_packagedata.dat'\n",
    "\n",
    "print('working on {}'.format(sfrfilename))\n",
    "# read in and strip and split the input lines\n",
    "insfr = [line.strip().split() for line in open(os.path.join(template_ws,sfrfilename), 'r').readlines() if '#' not in line]\n",
    "headerlines = [line.strip() for line in open(os.path.join(template_ws,sfrfilename), 'r').readlines() if '#' in line]\n",
    "\n",
    "# set up the template line strings by segment\n",
    "tpl_char = ['~ sfrk_{} ~'.format(line[-1]) for line in insfr]\n",
    "\n",
    "# stick the tpl text in the K column. NB -> gotta count from the end because of \n",
    "# the possibility of NONE or i,j,k as indexing\n",
    "for line,tpl in zip(insfr,tpl_char):\n",
    "    line[-6] = tpl\n",
    "\n",
    "# revert back to a space delimited file\n",
    "insfr = [' '.join(line) for line in insfr]\n",
    "\n",
    "# write out the TPL file\n",
    "with open(os.path.join(template_ws,'{}.tpl'.format(sfrfilename)), 'w') as ofp:\n",
    "    ofp.write('ptf ~\\n')\n",
    "    [ofp.write('{}\\n'.format(line)) for line in headerlines]\n",
    "    [ofp.write('{}\\n'.format(line)) for line in insfr]"
   ]
  },
  {
   "cell_type": "code",
   "execution_count": null,
   "metadata": {},
   "outputs": [],
   "source": [
    "pst = pf.build_pst('{}.pst'.format(basename))"
   ]
  },
  {
   "cell_type": "code",
   "execution_count": null,
   "metadata": {},
   "outputs": [],
   "source": [
    "pst.add_parameters(os.path.join(template_ws,'{}.tpl'.format(sfrfilename)), pst_path='.')"
   ]
  },
  {
   "cell_type": "code",
   "execution_count": null,
   "metadata": {},
   "outputs": [],
   "source": [
    "pst.parameter_data.loc[pst.parameter_data.parnme.str.startswith('sfr'),'pargp'] = 'sfrk'"
   ]
  },
  {
   "cell_type": "markdown",
   "metadata": {},
   "source": [
    "## Add in the observations - updating weights and values to come later"
   ]
  },
  {
   "cell_type": "code",
   "execution_count": null,
   "metadata": {},
   "outputs": [],
   "source": [
    "shutil.copy2('../scripts/get_observations.py',os.path.join(template_ws,'get_observations.py'))"
   ]
  },
  {
   "cell_type": "code",
   "execution_count": null,
   "metadata": {},
   "outputs": [],
   "source": [
    "os.system('python {}'.format(os.path.join(template_ws,'get_observations.py')))"
   ]
  },
  {
   "cell_type": "code",
   "execution_count": null,
   "metadata": {},
   "outputs": [],
   "source": [
    "pst.add_observations(os.path.join(template_ws,'obs_mf6.dat.ins'), pst_path='.')"
   ]
  },
  {
   "cell_type": "code",
   "execution_count": null,
   "metadata": {},
   "outputs": [],
   "source": [
    "pst.observation_data"
   ]
  },
  {
   "cell_type": "code",
   "execution_count": null,
   "metadata": {},
   "outputs": [],
   "source": [
    "pst.write(os.path.join(template_ws,'temp.pst'))"
   ]
  },
  {
   "cell_type": "code",
   "execution_count": null,
   "metadata": {},
   "outputs": [],
   "source": []
  },
  {
   "cell_type": "code",
   "execution_count": null,
   "metadata": {},
   "outputs": [],
   "source": []
  }
 ],
 "metadata": {
  "kernelspec": {
   "display_name": "Python 3",
   "language": "python",
   "name": "python3"
  },
  "language_info": {
   "codemirror_mode": {
    "name": "ipython",
    "version": 3
   },
   "file_extension": ".py",
   "mimetype": "text/x-python",
   "name": "python",
   "nbconvert_exporter": "python",
   "pygments_lexer": "ipython3",
   "version": "3.7.6"
  }
 },
 "nbformat": 4,
 "nbformat_minor": 4
}
