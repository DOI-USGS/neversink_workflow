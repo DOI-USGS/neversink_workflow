{
 "cells": [
  {
   "cell_type": "code",
   "execution_count": null,
   "metadata": {},
   "outputs": [],
   "source": [
    "import sys\n",
    "sys.path.append('../python_packages_static/')\n",
    "import os, glob, shutil\n",
    "import numpy as np\n",
    "import pandas as pd\n",
    "import matplotlib.pyplot as plt\n",
    "import flopy\n",
    "import flopy.utils as fu\n",
    "import platform"
   ]
  },
  {
   "cell_type": "markdown",
   "metadata": {},
   "source": [
    "# 1. MODPATH file setup"
   ]
  },
  {
   "cell_type": "markdown",
   "metadata": {},
   "source": [
    "### 1.0 Set paths and pointers to MODFLOW6 executable and namefile"
   ]
  },
  {
   "cell_type": "code",
   "execution_count": null,
   "metadata": {},
   "outputs": [],
   "source": [
    "home = os.getcwd()\n",
    "upone = os.path.dirname(home)\n",
    "model_ws = os.path.join(upone, 'neversink_mf6')\n",
    "modflow_executable = os.path.join(upone, 'neversink_mf6', 'mf6') # modpath executable in neversink_mf6 directory\n",
    "simname = 'mfsim.nam'"
   ]
  },
  {
   "cell_type": "markdown",
   "metadata": {},
   "source": [
    "### 1.1 Make MODFLOW Object\n",
    "Make a flopy modlfow object using the `.nam` file"
   ]
  },
  {
   "cell_type": "code",
   "execution_count": null,
   "metadata": {},
   "outputs": [],
   "source": [
    "sim = flopy.mf6.MFSimulation.load(simname, 'mf6', sim_ws=model_ws, exe_name=modflow_executable)"
   ]
  },
  {
   "cell_type": "markdown",
   "metadata": {},
   "source": [
    "### 1.2 Run the modflow model\n",
    "can skip if this if model has already been run in `neversink_mf6`"
   ]
  },
  {
   "cell_type": "code",
   "execution_count": null,
   "metadata": {},
   "outputs": [],
   "source": [
    "#sim.run_simulation()"
   ]
  },
  {
   "cell_type": "markdown",
   "metadata": {},
   "source": [
    "### 1.3 Load model simulation"
   ]
  },
  {
   "cell_type": "code",
   "execution_count": null,
   "metadata": {},
   "outputs": [],
   "source": [
    "m = sim.get_model()"
   ]
  },
  {
   "cell_type": "code",
   "execution_count": null,
   "metadata": {},
   "outputs": [],
   "source": [
    "nlay = m.dis.nlay.data\n",
    "nrow = m.dis.nrow.data\n",
    "ncol = m.dis.ncol.data\n",
    "print(nlay, nrow, ncol)"
   ]
  },
  {
   "cell_type": "markdown",
   "metadata": {},
   "source": [
    "###  1.4 Get priority wells and determine MODPATH nodes"
   ]
  },
  {
   "cell_type": "code",
   "execution_count": null,
   "metadata": {},
   "outputs": [],
   "source": [
    "wells_df = pd.read_csv('../processed_data/2009-2016_ave_pumping.csv')\n",
    "wells_df = wells_df.loc[wells_df.WellType == 'Priority']\n",
    "priority_wells = wells_df.ID_Well.tolist()\n",
    "priority_wells"
   ]
  },
  {
   "cell_type": "code",
   "execution_count": null,
   "metadata": {},
   "outputs": [],
   "source": [
    "#  make well id dict to help keep id's \n",
    "\n",
    "particle_ids = []\n",
    "idx = 0\n",
    "\n",
    "for idx in range(0, len(priority_wells)):\n",
    "    particle_ids.append(idx)\n",
    "    idx += 1\n",
    "    \n",
    "modpath_id_dict = dict(zip(particle_ids, priority_wells))\n",
    "modpath_id_dict"
   ]
  },
  {
   "cell_type": "markdown",
   "metadata": {},
   "source": [
    "**1.4.1 All Neversink model wells from `stress_period_data`**"
   ]
  },
  {
   "cell_type": "code",
   "execution_count": null,
   "metadata": {},
   "outputs": [],
   "source": [
    "#  if we want MODPATH particles in all wells -- we probably don't\n",
    "\n",
    "particle_locations_allwells = m.wel.stress_period_data.get_data()[0]['cellid']\n",
    "particle_locations_allwells"
   ]
  },
  {
   "cell_type": "markdown",
   "metadata": {},
   "source": [
    "**1.4.2 Priority wells from `well_000.dat` with zero-based adjustment**"
   ]
  },
  {
   "cell_type": "code",
   "execution_count": null,
   "metadata": {},
   "outputs": [],
   "source": [
    "well_dat_df = pd.read_csv('../neversink_mf6/wel_000.dat', delim_whitespace=True)\n",
    "well_dat_df = well_dat_df.loc[well_dat_df.boundname.isin(priority_wells)]\n",
    "\n",
    "well_dat_df['k_zb'] = well_dat_df['#k'] - 1\n",
    "well_dat_df['i_zb'] = well_dat_df['i'] - 1\n",
    "well_dat_df['j_zb'] = well_dat_df['j'] - 1\n",
    "particle_locations = [(x, y, z) for x, y, z in zip(well_dat_df['k_zb'], \n",
    "                                                   well_dat_df['i_zb'], \n",
    "                                                   well_dat_df['j_zb'])]\n",
    "particle_locations"
   ]
  },
  {
   "cell_type": "markdown",
   "metadata": {},
   "source": [
    "**1.4.3 convert well locations to nodes for modpath**"
   ]
  },
  {
   "cell_type": "code",
   "execution_count": null,
   "metadata": {},
   "outputs": [],
   "source": [
    "def get_nodes(locs):\n",
    "    nodes = []\n",
    "    for k, i, j in locs:\n",
    "        nodes.append(k * nrow * ncol + i * ncol + j)\n",
    "    return nodes"
   ]
  },
  {
   "cell_type": "code",
   "execution_count": null,
   "metadata": {},
   "outputs": [],
   "source": [
    "dest_nodes = get_nodes(particle_locations)"
   ]
  },
  {
   "cell_type": "code",
   "execution_count": null,
   "metadata": {},
   "outputs": [],
   "source": [
    "dest_nodes # these are important for particle tracking"
   ]
  },
  {
   "cell_type": "markdown",
   "metadata": {},
   "source": [
    "### 1.4.4 Update nodes in particle tracking script"
   ]
  },
  {
   "cell_type": "code",
   "execution_count": null,
   "metadata": {},
   "outputs": [],
   "source": [
    "get_endpoints_script = '../scripts/get_endpoints.py'\n",
    "\n",
    "update_line = f'    dest_nodes = {dest_nodes}\\n'\n",
    "\n",
    "infile = open(get_endpoints_script, 'r').readlines()\n",
    "with open(get_endpoints_script, 'w') as ofp:\n",
    "    [ofp.write(update_line) if line.startswith('    dest_nodes =') else ofp.write(line) for line in infile]"
   ]
  },
  {
   "cell_type": "markdown",
   "metadata": {},
   "source": [
    "### 1.5 set starting locations for forward particles\n",
    "we can use particle locations to set up forward tracking subset of grid."
   ]
  },
  {
   "cell_type": "code",
   "execution_count": null,
   "metadata": {},
   "outputs": [],
   "source": [
    "well_i,well_j = well_dat_df['i_zb'],well_dat_df['j_zb']\n",
    "idm = m.dis.idomain.data[-1]"
   ]
  },
  {
   "cell_type": "markdown",
   "metadata": {},
   "source": [
    "**Add setup particle zones for NE, W and S priority well \"clusters\" -- for running on the array**"
   ]
  },
  {
   "cell_type": "code",
   "execution_count": null,
   "metadata": {},
   "outputs": [],
   "source": [
    "partlox_NE = idm.copy().astype(float)\n",
    "\n",
    "partlox_NE[0:150,:]=0\n",
    "partlox_NE[375:,:]=0\n",
    "partlox_NE[:,0:375]=0\n",
    "\n",
    "print('partlox_NE particles in {} % of model cells'.format(round(sum(sum(partlox_NE))/(nlay*nrow*ncol) * 100, 2)))\n",
    "\n",
    "[plt.plot(j,i,'x') for i,j in zip(well_i,well_j)]\n",
    "partlox_NE[partlox_NE>1]=np.nan\n",
    "plt.imshow(partlox_NE, cmap='bone')\n",
    "plt.colorbar()\n",
    "plt.show()"
   ]
  },
  {
   "cell_type": "code",
   "execution_count": null,
   "metadata": {},
   "outputs": [],
   "source": [
    "partlox_W = idm.copy().astype(float)\n",
    "\n",
    "partlox_W[0:-500,:]=0\n",
    "partlox_W[440:,:]=0\n",
    "partlox_W[:,350:]=0\n",
    "\n",
    "print('partlox_W particles in {} % of model cells'.format(round(sum(sum(partlox_W))/(nlay*nrow*ncol) * 100, 2)))\n",
    "\n",
    "[plt.plot(j,i,'x') for i,j in zip(well_i,well_j)]\n",
    "partlox_W[partlox_W>1]=np.nan\n",
    "plt.imshow(partlox_W, cmap='bone')\n",
    "plt.colorbar()\n",
    "plt.show()"
   ]
  },
  {
   "cell_type": "code",
   "execution_count": null,
   "metadata": {},
   "outputs": [],
   "source": [
    "partlox_S = idm.copy().astype(float)\n",
    "\n",
    "partlox_S[0:450,:]=0\n",
    "partlox_S[625:,:]=0\n",
    "partlox_S[:,0:325]=0\n",
    "\n",
    "print('partlox_S particles in {} % of model cells'.format(round(sum(sum(partlox_S))/(nlay*nrow*ncol) * 100, 2)))\n",
    "\n",
    "[plt.plot(j,i,'x') for i,j in zip(well_i,well_j)]\n",
    "partlox_S[partlox_S>1]=np.nan\n",
    "plt.imshow(partlox_S, cmap='bone')\n",
    "plt.colorbar()\n",
    "plt.show()"
   ]
  },
  {
   "cell_type": "code",
   "execution_count": null,
   "metadata": {},
   "outputs": [],
   "source": [
    "#  function to get modpath starting particle nodes from 1/0 arrays (1 for particle, 0 for no paricle)\n",
    "def get_starting_nodes(partlox):\n",
    "    cells = np.where(partlox>0)\n",
    "    pi,pj = cells\n",
    "    irch = m.rch.irch.data\n",
    "    pk = irch[pi,pj]\n",
    "    forward_cells = list(zip(pk,pi,pj))\n",
    "    forward_nodes = get_nodes(forward_cells)\n",
    "    return forward_nodes"
   ]
  },
  {
   "cell_type": "code",
   "execution_count": null,
   "metadata": {},
   "outputs": [],
   "source": [
    "forward_nodes_partlox_NE = get_starting_nodes(partlox_NE)\n",
    "forward_nodes_partlox_W = get_starting_nodes(partlox_W)\n",
    "forward_nodes_partlox_S = get_starting_nodes(partlox_S)"
   ]
  },
  {
   "cell_type": "code",
   "execution_count": null,
   "metadata": {},
   "outputs": [],
   "source": [
    "all_forward_nodes = [forward_nodes_partlox_NE,forward_nodes_partlox_W,forward_nodes_partlox_S]"
   ]
  },
  {
   "cell_type": "markdown",
   "metadata": {},
   "source": [
    "### 1.6 Create NE, W and S zone modpath files"
   ]
  },
  {
   "cell_type": "code",
   "execution_count": null,
   "metadata": {},
   "outputs": [],
   "source": [
    "#  flag if setting up files for run on linux\n",
    "setup_for_linux = True"
   ]
  },
  {
   "cell_type": "code",
   "execution_count": null,
   "metadata": {},
   "outputs": [],
   "source": [
    "#  create NE, W and S zone modpath files\n",
    "mpnamf_zones = ['neversink_mp_forward_weak_NE', 'neversink_mp_forward_weak_W', 'neversink_mp_forward_weak_S']\n",
    "\n",
    "if setup_for_linux is not True:\n",
    "    if sys.platform == 'win32':\n",
    "        modpath_executable = 'mp7.exe' # path to windows MODPATH7 executable, assume same directory as modpath files\n",
    "    else:\n",
    "        modpath_executable='mp7'       # path to mac/linux MODPATH7 executable, assume same directory as modpath files\n",
    "        \n",
    "if setup_for_linux is True:\n",
    "    modpath_executable='mp7'\n",
    "    \n",
    "for zone, forward_nodes in zip(mpnamf_zones, all_forward_nodes):\n",
    "    mp = flopy.modpath.Modpath7.create_mp7(\n",
    "        modelname=zone, \n",
    "        trackdir='forward', \n",
    "        flowmodel=m, \n",
    "        model_ws=model_ws, \n",
    "        rowcelldivisions=1, \n",
    "        columncelldivisions=1, \n",
    "        layercelldivisions=1,\n",
    "        nodes=forward_nodes,\n",
    "        exe_name=modpath_executable\n",
    "    )\n",
    "    \n",
    "    # write modpath datasets\n",
    "    mp.write_input()\n",
    "    print('Wrote {} MODPATH input files'.format(zone))"
   ]
  },
  {
   "cell_type": "code",
   "execution_count": null,
   "metadata": {},
   "outputs": [],
   "source": [
    "# fix mpbas to set iface for SFR (we don't care about EVT) -- same as above\n",
    "for cf in glob.glob('../neversink_mf6/*.mpbas'):\n",
    "    cbas = [i.strip() for i in open(cf, 'r').readlines()]\n",
    "    with open(cf, 'w') as ofp:\n",
    "        [ofp.write('{}\\n'.format(i.replace('EVT','SFR'))) for i in cbas]"
   ]
  },
  {
   "cell_type": "code",
   "execution_count": null,
   "metadata": {},
   "outputs": [],
   "source": [
    "# modify to make models weak sink and set Drape = 1 option for placing particles\n",
    "for zone in mpnamf_zones: \n",
    "    with open('../neversink_mf6/{}.mpsim'.format(zone), 'r') as ofp:\n",
    "        inmpsim = ofp.readlines()\n",
    "    \n",
    "    inmpsim[3] = '4 1 2 1 0 0\\n'\n",
    "    tmp = inmpsim[22].strip().split()\n",
    "    inmpsim[22] = ' '.join(tmp[:2]) + ' 1\\n'\n",
    "\n",
    "    with open('../neversink_mf6/{}.mpsim'.format(zone), 'w') as ofp:\n",
    "        ofp.writelines(inmpsim)\n",
    "    print('{}.mpsim updated to weak sink setting'.format(zone))"
   ]
  },
  {
   "cell_type": "code",
   "execution_count": null,
   "metadata": {},
   "outputs": [],
   "source": []
  }
 ],
 "metadata": {
  "kernelspec": {
   "display_name": "Python 3",
   "language": "python",
   "name": "python3"
  },
  "language_info": {
   "codemirror_mode": {
    "name": "ipython",
    "version": 3
   },
   "file_extension": ".py",
   "mimetype": "text/x-python",
   "name": "python",
   "nbconvert_exporter": "python",
   "pygments_lexer": "ipython3",
   "version": "3.9.2"
  }
 },
 "nbformat": 4,
 "nbformat_minor": 4
}
