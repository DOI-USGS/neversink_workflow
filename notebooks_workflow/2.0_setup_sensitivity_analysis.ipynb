{
 "cells": [
  {
   "cell_type": "code",
   "execution_count": null,
   "metadata": {},
   "outputs": [],
   "source": [
    "import sys\n",
    "sys.path.append('../python_packages_static/')\n",
    "import pyemu\n",
    "import os\n",
    "import glob\n",
    "import shutil"
   ]
  },
  {
   "cell_type": "markdown",
   "metadata": {},
   "source": [
    "# We want to set up for global sensitivity analysis. "
   ]
  },
  {
   "cell_type": "code",
   "execution_count": null,
   "metadata": {},
   "outputs": [],
   "source": [
    "pst_root = 'prior_mc_wide'"
   ]
  },
  {
   "cell_type": "code",
   "execution_count": null,
   "metadata": {},
   "outputs": [],
   "source": [
    "run_ensemble=False"
   ]
  },
  {
   "cell_type": "code",
   "execution_count": null,
   "metadata": {},
   "outputs": [],
   "source": [
    "if run_ensemble==True:\n",
    "    pst = pyemu.Pst(f'../noptmax0_testing/{pst_root}.pst')\n",
    "else:\n",
    "    pst = pyemu.Pst(f'../output/noptmax0/{pst_root}.pst')\n",
    "\n",
    "output_dir = '../run_data'"
   ]
  },
  {
   "cell_type": "markdown",
   "metadata": {},
   "source": [
    "### set `tie_by_group` to `True`. Also update the lower bound for CHD parameters to nearly 1.0 (because many of these values are at or near the bottom of model cells and if sampling sets them below the bottom of the cell, MODFLOW6 will not run). Also unfix the CHD parameters so they will be evaluated. All other defailts. for `pestpp-sen` will be accepted."
   ]
  },
  {
   "cell_type": "code",
   "execution_count": null,
   "metadata": {},
   "outputs": [],
   "source": [
    "pst.pestpp_options['tie_by_group'] = True\n",
    "pst.parameter_data.loc[pst.parameter_data.pargp=='chd', 'parlbnd'] = 0.999999\n",
    "pst.parameter_data.partrans = 'log'\n",
    "pst.parameter_data.partrans.unique()"
   ]
  },
  {
   "cell_type": "code",
   "execution_count": null,
   "metadata": {},
   "outputs": [],
   "source": [
    "pst.write(f'../run_data/{pst_root}_sens.pst')"
   ]
  },
  {
   "cell_type": "markdown",
   "metadata": {},
   "source": [
    "## If `run_ensemble=True` the cell below will run a local `prior_mc_wide_sens` global sensitivity analysis\n",
    "* **NOTE: must have the `pestpp-sen` executable in system path or in `../run_data/`**\n",
    "* same process as in notebooks 1.0 and 1.3 for parallel run\n",
    "* for this `pestpp-sen`run, the total number of model runs is 64, which is = # of parameter groups * 4\n",
    "* will run in parallel locally using the number of cores specified below by `num_workers`\n",
    "* creates a new directory called `\"../master_sen/\"` which is a copy of run_data\n",
    "* while running generates worker directories that are removed when run is complete\n",
    "* results moved to `\"../run_data/\"`"
   ]
  },
  {
   "cell_type": "code",
   "execution_count": null,
   "metadata": {},
   "outputs": [],
   "source": [
    "if run_ensemble==True:\n",
    "    #  set some variables for starting a group of PEST++ workers on the local machine\n",
    "    # MAKE SURE THAT PESTPP-IES and MF6 executables are in your system path or are in '../run_data'\n",
    "    \n",
    "    num_workers = 5  # number of local workers -- VERY IMPORTANT, DO NOT MAKE TOO BIG\n",
    "    if sys.platform == 'win32':\n",
    "        pst_exe = 'pestpp-sen.exe'\n",
    "    else:\n",
    "        pst_exe = 'pestpp-sen'\n",
    "        \n",
    "    template_ws =  '../run_data'  #  template_directory\n",
    "    m_d = '../master_sen'\n",
    "    \n",
    "    pyemu.os_utils.start_workers(worker_dir=template_ws, \n",
    "                             exe_rel_path=pst_exe,\n",
    "                             pst_rel_path=f'{pst_root}_sens.pst',\n",
    "                             num_workers=num_workers, \n",
    "                             master_dir=m_d\n",
    "                            )"
   ]
  },
  {
   "cell_type": "code",
   "execution_count": null,
   "metadata": {},
   "outputs": [],
   "source": [
    "if run_ensemble==True:\n",
    "    #  move results into run_data and clean up \n",
    "    \n",
    "    move_result_files = glob.glob(os.path.join(m_d, f'{pst_root}_sens*'))\n",
    "    move_result_files = [f for f in move_result_files if 'pst' not in f]\n",
    "    \n",
    "    [shutil.copy(os.path.join(m_d, file), output_dir) for file in move_result_files]\n",
    "    \n",
    "    #  Remove master dir.\n",
    "    shutil.rmtree(m_d)"
   ]
  },
  {
   "cell_type": "code",
   "execution_count": null,
   "metadata": {},
   "outputs": [],
   "source": []
  }
 ],
 "metadata": {
  "kernelspec": {
   "display_name": "Python 3",
   "language": "python",
   "name": "python3"
  },
  "language_info": {
   "codemirror_mode": {
    "name": "ipython",
    "version": 3
   },
   "file_extension": ".py",
   "mimetype": "text/x-python",
   "name": "python",
   "nbconvert_exporter": "python",
   "pygments_lexer": "ipython3",
   "version": "3.9.2"
  }
 },
 "nbformat": 4,
 "nbformat_minor": 4
}
