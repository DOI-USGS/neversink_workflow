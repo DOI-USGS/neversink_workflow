{
 "cells": [
  {
   "cell_type": "code",
   "execution_count": null,
   "metadata": {},
   "outputs": [],
   "source": [
    "import os, glob, shutil\n",
    "import pandas as pd"
   ]
  },
  {
   "cell_type": "code",
   "execution_count": null,
   "metadata": {},
   "outputs": [],
   "source": [
    "mp_run_data = '../modpath_run_data/'\n",
    "run_data = '../run_data/'\n",
    "ies_results_dir = '../CONDOR/MASTER' ## Change when 3.2 is updated\n",
    "mp_in_data = '../neversink_mf6'"
   ]
  },
  {
   "cell_type": "markdown",
   "metadata": {},
   "source": [
    "### make a run folder based on the `run_data` main folder"
   ]
  },
  {
   "cell_type": "code",
   "execution_count": null,
   "metadata": {},
   "outputs": [],
   "source": [
    "if os.path.exists(mp_run_data):\n",
    "    shutil.rmtree(mp_run_data)\n",
    "shutil.copytree(run_data, mp_run_data)"
   ]
  },
  {
   "cell_type": "markdown",
   "metadata": {},
   "source": [
    "### copy over the parameters ensemble from iES"
   ]
  },
  {
   "cell_type": "code",
   "execution_count": null,
   "metadata": {},
   "outputs": [],
   "source": [
    "shutil.copy2(os.path.join(ies_results_dir,'modpath_par_ens.csv'), os.path.join(mp_run_data, 'modpath_par_ens.csv'))"
   ]
  },
  {
   "cell_type": "markdown",
   "metadata": {},
   "source": [
    "### copy over the modpath input files"
   ]
  },
  {
   "cell_type": "code",
   "execution_count": null,
   "metadata": {},
   "outputs": [],
   "source": [
    "mp_rootname = 'neversink_mp_forward_weak'\n",
    "mp_exts = ['mpbas', 'mpsim', 'mpnam']\n",
    "for ext in mp_exts:\n",
    "    mpfiles = glob.glob(os.path.join(mp_in_data, '{}*.{}'.format(mp_rootname, ext)))\n",
    "    print(mpfiles)\n",
    "    \n",
    "    [shutil.copy2(cf, os.path.join(mp_run_data, os.path.basename(cf))) for cf in mpfiles]"
   ]
  },
  {
   "cell_type": "markdown",
   "metadata": {},
   "source": [
    "### copy over mp scripts"
   ]
  },
  {
   "cell_type": "code",
   "execution_count": null,
   "metadata": {},
   "outputs": [],
   "source": [
    "script_dir = '../scripts'\n",
    "scripts = ['get_endpoints.py', 'modpath_mc.py']\n",
    "\n",
    "[shutil.copy2(os.path.join(script_dir, i), \n",
    "             os.path.join(mp_run_data, i)) for i in scripts]"
   ]
  },
  {
   "cell_type": "markdown",
   "metadata": {},
   "source": [
    "### comment out line in tdis file"
   ]
  },
  {
   "cell_type": "code",
   "execution_count": null,
   "metadata": {},
   "outputs": [],
   "source": [
    "# fix the tdis file commenting out START_DATE_TIME\n",
    "for cf in glob.glob(os.path.join(mp_run_data, '*.tdis')):\n",
    "    tdis = open(cf, 'r').readlines()\n",
    "    with open(cf, 'w') as ofp:\n",
    "        for line in tdis:\n",
    "            if 'START_DATE_TIME' in line.upper() and line.strip()[0] is not \"#\":\n",
    "                ofp.write('#{}'.format(line))\n",
    "            else:\n",
    "                ofp.write(line)"
   ]
  },
  {
   "cell_type": "code",
   "execution_count": null,
   "metadata": {},
   "outputs": [],
   "source": []
  }
 ],
 "metadata": {
  "kernelspec": {
   "display_name": "Python 3",
   "language": "python",
   "name": "python3"
  },
  "language_info": {
   "codemirror_mode": {
    "name": "ipython",
    "version": 3
   },
   "file_extension": ".py",
   "mimetype": "text/x-python",
   "name": "python",
   "nbconvert_exporter": "python",
   "pygments_lexer": "ipython3",
   "version": "3.7.6"
  }
 },
 "nbformat": 4,
 "nbformat_minor": 4
}
