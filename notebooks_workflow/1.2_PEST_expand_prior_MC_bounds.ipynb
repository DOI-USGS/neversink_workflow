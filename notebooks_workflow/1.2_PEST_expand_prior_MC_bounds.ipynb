{
 "cells": [
  {
   "cell_type": "code",
   "execution_count": null,
   "metadata": {},
   "outputs": [],
   "source": [
    "import sys\n",
    "sys.path.append('../python_packages_static/')\n",
    "import pyemu\n",
    "import os\n",
    "import shutil\n",
    "import numpy as np\n",
    "import pandas as pd"
   ]
  },
  {
   "cell_type": "markdown",
   "metadata": {},
   "source": [
    "# Based on the histograms and the PDC file for the prior Monte Carlo, we determine we need to expand bounds on the bedrock parameters and re-evaluate the Monte Carlo"
   ]
  },
  {
   "cell_type": "code",
   "execution_count": null,
   "metadata": {},
   "outputs": [],
   "source": [
    "run_ensemble=False"
   ]
  },
  {
   "cell_type": "code",
   "execution_count": null,
   "metadata": {},
   "outputs": [],
   "source": [
    "if run_ensemble==True:\n",
    "    template_dir = '../run_data' # read in the prior_mc.pst file from here\n",
    "    noptmax0_dir = '../noptmax0_testing' # write the new file here to be able to run noptmax=0 and reqweight again\n",
    "else:\n",
    "    template_dir = '../output/noptmax0/'\n",
    "    noptmax0_dir = '../output/noptmax0/'"
   ]
  },
  {
   "cell_type": "code",
   "execution_count": null,
   "metadata": {},
   "outputs": [],
   "source": [
    "pst=pyemu.Pst(os.path.join(template_dir,'prior_mc.pst'))\n",
    "update_forward_run=False\n",
    "run_local=True"
   ]
  },
  {
   "cell_type": "markdown",
   "metadata": {},
   "source": [
    "## update some parameter bounds"
   ]
  },
  {
   "cell_type": "code",
   "execution_count": null,
   "metadata": {},
   "outputs": [],
   "source": [
    "pars = pst.parameter_data"
   ]
  },
  {
   "cell_type": "markdown",
   "metadata": {},
   "source": [
    "### K-zones set to not get too crazy high"
   ]
  },
  {
   "cell_type": "code",
   "execution_count": null,
   "metadata": {},
   "outputs": [],
   "source": [
    "#  read in k value lookup table to df\n",
    "\n",
    "#  original table\n",
    "\n",
    "k_df_original = pd.read_excel(\n",
    "    '../processed_data/Rondout_Neversink_GeologyLookupTable.xlsx',\n",
    "    sheet_name='Sheet2'\n",
    ")\n",
    "k_df_original.index = k_df_original.Lookup_Code\n",
    "\n",
    "k_df = pd.read_excel(\n",
    "    '../processed_data/Rondout_Neversink_GeologyLookupTable_jhw.xlsx',\n",
    "    sheet_name='Sheet2'\n",
    ")\n",
    "\n",
    "k_df.index = k_df.Lookup_Code\n",
    "\n",
    "print('Using mean K value')\n",
    "k_df['Kh_ft_d_mean'] = (k_df['Kh_ft_d_lower'] + k_df['Kh_ft_d_upper']) / 2\n",
    "k_df['Kh_m_d'] = k_df['Kh_ft_d_mean'] * 0.3048\n",
    "    \n",
    "k_df['Kh_m_d_lower'] = k_df['Kh_ft_d_lower'] * .3048\n",
    "k_df['Kh_m_d_upper'] = k_df['Kh_ft_d_upper'] * .3048\n",
    "\n",
    "k_df['K_upper_mult'] = k_df['Kh_m_d_upper'] / k_df['Kh_m_d']\n",
    "k_df['K_lower_mult'] = k_df['Kh_m_d_lower'] / k_df['Kh_m_d']\n",
    "\n",
    "k_df"
   ]
  },
  {
   "cell_type": "markdown",
   "metadata": {},
   "source": [
    "### find the ratio of new expanded K values to the old"
   ]
  },
  {
   "cell_type": "code",
   "execution_count": null,
   "metadata": {},
   "outputs": [],
   "source": [
    "k_df['new_ratio']=k_df_original.Kh_m_d/k_df.Kh_m_d\n",
    "k_df"
   ]
  },
  {
   "cell_type": "code",
   "execution_count": null,
   "metadata": {},
   "outputs": [],
   "source": [
    "k_df['new_ratio'] = [min(i,50) for i in k_df.new_ratio] # cap the expansion of bounds at 50\n",
    "k_df"
   ]
  },
  {
   "cell_type": "code",
   "execution_count": null,
   "metadata": {},
   "outputs": [],
   "source": [
    "k_mult_zones = [int(i.split(':')[-1]) for i in pars.loc[pars.parnme.str.startswith('multiplier_k')].index]\n",
    "np.unique(k_mult_zones)"
   ]
  },
  {
   "cell_type": "code",
   "execution_count": null,
   "metadata": {},
   "outputs": [],
   "source": [
    "k_mult_zones"
   ]
  },
  {
   "cell_type": "markdown",
   "metadata": {},
   "source": [
    "### apply the new bounds to the k-zone multipliers"
   ]
  },
  {
   "cell_type": "code",
   "execution_count": null,
   "metadata": {},
   "outputs": [],
   "source": [
    "new_mults = [k_df.loc[i].new_ratio for i in k_mult_zones]\n",
    "upper_mults = np.array(new_mults)*100\n",
    "lower_mults = np.array(new_mults)/100"
   ]
  },
  {
   "cell_type": "code",
   "execution_count": null,
   "metadata": {},
   "outputs": [],
   "source": [
    "pars.loc[pars.parnme.str.startswith('multiplier_k'), 'parlbnd'] = lower_mults\n",
    "pars.loc[pars.parnme.str.startswith('multiplier_k'), 'parubnd'] = upper_mults\n",
    "pars.loc[pars.parnme.str.startswith('multiplier_k'), 'parval1'] = new_mults\n"
   ]
  },
  {
   "cell_type": "markdown",
   "metadata": {},
   "source": [
    "### pilot points set to mean upper and lower bounds diffs"
   ]
  },
  {
   "cell_type": "code",
   "execution_count": null,
   "metadata": {},
   "outputs": [],
   "source": [
    "mean_lower = k_df.K_lower_mult.mean()\n",
    "mean_upper = k_df.K_upper_mult.mean()\n",
    "mean_lower,mean_upper"
   ]
  },
  {
   "cell_type": "code",
   "execution_count": null,
   "metadata": {},
   "outputs": [],
   "source": [
    "pars.loc[pars.pargp.str.startswith('k'), 'parlbnd'] = mean_lower + 0.01\n",
    "pars.loc[pars.pargp.str.startswith('k'), 'parubnd'] = mean_upper - 0.01\n",
    "pars.loc[pars.pargp.str.startswith('sfrk'), 'parlbnd'] = 0.1\n",
    "pars.loc[pars.pargp.str.startswith('sfrk'), 'parubnd'] = 10.0\n",
    "pars.loc[pars.pargp=='chd', 'partrans'] = 'fixed'"
   ]
  },
  {
   "cell_type": "markdown",
   "metadata": {},
   "source": [
    "### write out an excel report of the expanded parameter ensemble"
   ]
  },
  {
   "cell_type": "code",
   "execution_count": null,
   "metadata": {},
   "outputs": [],
   "source": [
    "parsum = pst.write_par_summary_table('/expanded_parsum.xlsx', report_in_linear_space=True)\n",
    "parsum"
   ]
  },
  {
   "cell_type": "markdown",
   "metadata": {},
   "source": [
    "### set noptmax = 0 and write out PST file"
   ]
  },
  {
   "cell_type": "code",
   "execution_count": null,
   "metadata": {},
   "outputs": [],
   "source": [
    "pst.control_data.noptmax = 0"
   ]
  },
  {
   "cell_type": "code",
   "execution_count": null,
   "metadata": {},
   "outputs": [],
   "source": [
    "pst.write(os.path.join(noptmax0_dir,'prior_mc_wide.pst'))"
   ]
  },
  {
   "cell_type": "markdown",
   "metadata": {},
   "source": [
    "### again, for windows to be moved to linux for running, remove backslashes from pest ctrl file"
   ]
  },
  {
   "cell_type": "code",
   "execution_count": null,
   "metadata": {},
   "outputs": [],
   "source": [
    "if sys.platform == 'win32':\n",
    "    f = open(os.path.join(template_dir, 'prior_mc_wide.pst'), \"r\")\n",
    "    lines = f.readlines()\n",
    "    f.close()\n",
    "\n",
    "    output_lines = []\n",
    "    for line in lines:\n",
    "        output_lines.append(line.replace('\\\\', \"/\"))\n",
    "\n",
    "    f = open(os.path.join(template_dir, 'prior_mc_wide.pst'), \"w\")\n",
    "    f.write(''.join(output_lines))\n",
    "    f.close()"
   ]
  },
  {
   "cell_type": "code",
   "execution_count": null,
   "metadata": {},
   "outputs": [],
   "source": []
  }
 ],
 "metadata": {
  "kernelspec": {
   "display_name": "Python 3",
   "language": "python",
   "name": "python3"
  },
  "language_info": {
   "codemirror_mode": {
    "name": "ipython",
    "version": 3
   },
   "file_extension": ".py",
   "mimetype": "text/x-python",
   "name": "python",
   "nbconvert_exporter": "python",
   "pygments_lexer": "ipython3",
   "version": "3.9.2"
  }
 },
 "nbformat": 4,
 "nbformat_minor": 4
}
