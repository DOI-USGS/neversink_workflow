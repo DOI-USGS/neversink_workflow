{
 "cells": [
  {
   "cell_type": "code",
   "execution_count": null,
   "metadata": {},
   "outputs": [],
   "source": [
    "import sys\n",
    "sys.path.append('../python_packages_static/')\n",
    "import pyemu\n",
    "import os\n",
    "import shutil\n",
    "import glob\n",
    "import matplotlib.pyplot as plt"
   ]
  },
  {
   "cell_type": "markdown",
   "metadata": {},
   "source": [
    "# IMPORTANT NOTE BEFORE RUNNING THIS NOTEBOOK:\n",
    "**Run a NOPTMAX=0 (using the prior_mc.pst control file in the `noptmax0_testing` directory) to get residuals. Then run this notebook to load and reweight. This is a subjective step to balance the objective function for Monte Carlo and, ultimately, for history matching**"
   ]
  },
  {
   "cell_type": "markdown",
   "metadata": {},
   "source": [
    "## During this stage of the workflow (`notebooks_workflow` notebooks 1.0 - 4.0) there are two paths for running the analysis of results in these notebooks:\n",
    "\n",
    "### 1. Build an ensemble and run locally (note: this will result in a smaller ensmble size that what was used in the journal article, due to the computational limitations of personal comupters)\n",
    "### 2. Run all the analysis without performing PEST++ history matching and model runs, using results from the journal article documenting this work. \n",
    "\n",
    "## The path selection is made using the `run_ensemble` variable below. If `run_ensemble` is set to `True`, _path 1_ is selected and local runs are performed. If `run_ensemble` set to `False`, _path 2_ is selected and results from the journal article are used. \n",
    "\n",
    "# The `run_ensemble` variable should be set appropriately to whichever folder these notebooks are being run in."
   ]
  },
  {
   "cell_type": "code",
   "execution_count": null,
   "metadata": {},
   "outputs": [],
   "source": [
    "run_ensemble=False"
   ]
  },
  {
   "cell_type": "code",
   "execution_count": null,
   "metadata": {},
   "outputs": [],
   "source": [
    "if run_ensemble == True:\n",
    "    input_dir = '../noptmax0_testing/' # we need to read from this directory to get the residuals from the noptmax 0 run\n",
    "else:\n",
    "    input_dir = '../output/noptmax0/' # we need to read from this directory to get the residuals from the noptmax 0 run\n",
    "output_dir = '../run_data' # this is the folder we will actually use to set up PEST++ runs\n",
    "pst_root = 'prior_mc'"
   ]
  },
  {
   "cell_type": "markdown",
   "metadata": {},
   "source": [
    "### read in the PEST control file"
   ]
  },
  {
   "cell_type": "code",
   "execution_count": null,
   "metadata": {},
   "outputs": [],
   "source": [
    "pst = pyemu.Pst(os.path.join(input_dir,'{}.pst'.format(pst_root)))"
   ]
  },
  {
   "cell_type": "markdown",
   "metadata": {},
   "source": [
    "### make a quick pie chart showing the current distribution of the observation groups in the objective function"
   ]
  },
  {
   "cell_type": "code",
   "execution_count": null,
   "metadata": {},
   "outputs": [],
   "source": [
    "pst.plot(kind='phi_pie')\n"
   ]
  },
  {
   "cell_type": "markdown",
   "metadata": {},
   "source": [
    "### we can use `pyemu` functionality to assign new weights that adjust and honor whatever balance we seek"
   ]
  },
  {
   "cell_type": "code",
   "execution_count": null,
   "metadata": {},
   "outputs": [],
   "source": [
    "new_proportions = pst.phi_components.copy()\n",
    "new_proportions"
   ]
  },
  {
   "cell_type": "code",
   "execution_count": null,
   "metadata": {},
   "outputs": [],
   "source": [
    "pst.observation_data"
   ]
  },
  {
   "cell_type": "markdown",
   "metadata": {},
   "source": [
    "### here we assign proportions (that sum to 1.0) to the various groups. We want to retain the same total Phi so we multiply our proportions by the total Phi"
   ]
  },
  {
   "cell_type": "code",
   "execution_count": null,
   "metadata": {},
   "outputs": [],
   "source": [
    "new_proportions['flux'] = 0.3*pst.phi\n",
    "new_proportions['head'] = 0.2*pst.phi\n",
    "new_proportions['land_surface'] = 0.5*pst.phi\n",
    "new_proportions['budget'] = 0"
   ]
  },
  {
   "cell_type": "code",
   "execution_count": null,
   "metadata": {},
   "outputs": [],
   "source": [
    "new_proportions"
   ]
  },
  {
   "cell_type": "markdown",
   "metadata": {},
   "source": [
    "### using the `phi_components` dictionary, making a copy of it, and reassigning values, we can update the PST object using the `adjust_weights` function"
   ]
  },
  {
   "cell_type": "code",
   "execution_count": null,
   "metadata": {},
   "outputs": [],
   "source": [
    "pst.adjust_weights(obsgrp_dict=new_proportions)"
   ]
  },
  {
   "cell_type": "code",
   "execution_count": null,
   "metadata": {},
   "outputs": [],
   "source": [
    "pst.observation_data"
   ]
  },
  {
   "cell_type": "markdown",
   "metadata": {},
   "source": [
    "### now we can see the updated pie chart"
   ]
  },
  {
   "cell_type": "code",
   "execution_count": null,
   "metadata": {},
   "outputs": [],
   "source": [
    "pst.plot(kind='phi_pie')\n"
   ]
  },
  {
   "cell_type": "code",
   "execution_count": null,
   "metadata": {},
   "outputs": [],
   "source": [
    "# set some values for ies\n",
    "if run_ensemble == True:\n",
    "    pst.pestpp_options[\"ies_num_reals\"] = 20  \n",
    "else:\n",
    "    pst.pestpp_options[\"ies_num_reals\"] = 500  \n",
    "\n",
    "pst.pestpp_options[\"ies_bad_phi_sigma\"] = 2.5\n",
    "pst.pestpp_options[\"overdue_giveup_fac\"] = 4\n",
    "pst.pestpp_options[\"ies_no_noise\"] = True\n",
    "pst.pestpp_options[\"ies_drop_conflicts\"] = False\n",
    "pst.pestpp_options[\"ies_pdc_sigma_distance\"] = 3.0\n",
    "pst.pestpp_options['ies_autoadaloc']=True\n",
    "pst.pestpp_options['ies_num_threads']=4\n",
    "pst.pestpp_options['ies_lambda_mults']=(0.1,1.0,10.0,100.0)\n",
    "pst.pestpp_options['lambda_scale_fac'] = (0.75,0.9,1.0,1.1)\n",
    "pst.pestpp_options['ies_subset_size']=10\n",
    "\n",
    "# set SVD for some regularization\n",
    "pst.svd_data.maxsing = 250"
   ]
  },
  {
   "cell_type": "code",
   "execution_count": null,
   "metadata": {
    "scrolled": true
   },
   "outputs": [],
   "source": [
    "# check number of realizations\n",
    "pst.pestpp_options[\"ies_num_reals\"]"
   ]
  },
  {
   "cell_type": "markdown",
   "metadata": {},
   "source": [
    "### using `pestpp-ies`, settting `noptmax=-1` and running in parallel will run a single pass through the initial ensemble, Monte Carlo style"
   ]
  },
  {
   "cell_type": "code",
   "execution_count": null,
   "metadata": {},
   "outputs": [],
   "source": [
    "# set up for prior Monte Carlo\n",
    "pst.control_data.noptmax = -1\n",
    "pst.write(os.path.join(output_dir, '{}.pst'.format(pst_root)))"
   ]
  },
  {
   "cell_type": "markdown",
   "metadata": {},
   "source": [
    "## If `run_ensemble=True` the following cells will run a local prior_mc Monte Carlo\n",
    "* using the specified number of reals specified by `pst.pestpp_options[\"ies_num_reals\"]`\n",
    "* will run in parallel locally using the number of cores specified below by `num_workers`\n",
    "* creates a new directory called `master_mc` that will contain the PEST++ output from the parallel Monte Carlo"
   ]
  },
  {
   "cell_type": "code",
   "execution_count": null,
   "metadata": {},
   "outputs": [],
   "source": [
    "if run_ensemble==True:\n",
    "    #  set some variables for starting a group of PEST++ workers on the local machine\n",
    "    # MAKE SURE THAT PESTPP-IES and MF6 executables are in your system path or are in '../run_data'\n",
    "    \n",
    "    num_workers = 5  # number of local workers -- VERY IMPORTANT, DO NOT MAKE TOO BIG\n",
    "    if sys.platform == 'win32':\n",
    "        pst_exe = 'pestpp-ies.exe'\n",
    "    else:\n",
    "        pst_exe = 'pestpp-ies'\n",
    "        \n",
    "    template_ws =  '../run_data'  #  template_directory\n",
    "    m_d = '../master_mc'\n",
    "    \n",
    "    pyemu.os_utils.start_workers(worker_dir=template_ws, \n",
    "                             exe_rel_path=pst_exe,\n",
    "                             pst_rel_path=f'{pst_root}.pst',\n",
    "                             num_workers=num_workers, \n",
    "                             master_dir=m_d\n",
    "                            )\n"
   ]
  },
  {
   "cell_type": "code",
   "execution_count": null,
   "metadata": {},
   "outputs": [],
   "source": []
  }
 ],
 "metadata": {
  "kernelspec": {
   "display_name": "Python 3",
   "language": "python",
   "name": "python3"
  },
  "language_info": {
   "codemirror_mode": {
    "name": "ipython",
    "version": 3
   },
   "file_extension": ".py",
   "mimetype": "text/x-python",
   "name": "python",
   "nbconvert_exporter": "python",
   "pygments_lexer": "ipython3",
   "version": "3.9.2"
  }
 },
 "nbformat": 4,
 "nbformat_minor": 4
}
