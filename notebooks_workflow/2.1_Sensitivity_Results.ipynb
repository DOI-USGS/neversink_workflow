{
 "cells": [
  {
   "cell_type": "code",
   "execution_count": null,
   "metadata": {},
   "outputs": [],
   "source": [
    "import pandas as pd\n",
    "import numpy as np\n",
    "import  os\n",
    "import pyemu\n",
    "import matplotlib as mpl\n",
    "import matplotlib.pyplot as plt"
   ]
  },
  {
   "cell_type": "markdown",
   "metadata": {},
   "source": [
    "# read in the PST file and the Morris output (in the MSN file)"
   ]
  },
  {
   "cell_type": "code",
   "execution_count": null,
   "metadata": {},
   "outputs": [],
   "source": [
    "resdir = os.path.join('..','run_data')\n",
    "pstfile = 'prior_mc_wide_sens.pst'"
   ]
  },
  {
   "cell_type": "code",
   "execution_count": null,
   "metadata": {},
   "outputs": [],
   "source": [
    "pst = pyemu.Pst(os.path.join(resdir, pstfile))"
   ]
  },
  {
   "cell_type": "code",
   "execution_count": null,
   "metadata": {},
   "outputs": [],
   "source": [
    "morris_sum_file = os.path.join(resdir, pstfile.replace('.pst','.msn'))"
   ]
  },
  {
   "cell_type": "code",
   "execution_count": null,
   "metadata": {},
   "outputs": [],
   "source": [
    "morris_sum_df = pd.read_csv(morris_sum_file, index_col=0)"
   ]
  },
  {
   "cell_type": "markdown",
   "metadata": {},
   "source": [
    "## Set up the parameter names"
   ]
  },
  {
   "cell_type": "code",
   "execution_count": null,
   "metadata": {},
   "outputs": [],
   "source": [
    "pardata = pst.parameter_data\n",
    "morris_sum_df['pargp']=pardata.loc[pardata.index.isin(morris_sum_df.index)].pargp"
   ]
  },
  {
   "cell_type": "code",
   "execution_count": null,
   "metadata": {},
   "outputs": [],
   "source": [
    "morris_sum_df.set_index(morris_sum_df.pargp, drop=True, inplace=True)"
   ]
  },
  {
   "cell_type": "code",
   "execution_count": null,
   "metadata": {},
   "outputs": [],
   "source": [
    "morris_sum_df"
   ]
  },
  {
   "cell_type": "code",
   "execution_count": null,
   "metadata": {},
   "outputs": [],
   "source": [
    "renames = {'k_pp_:0':'Kh PPs: Layer 1',\n",
    "'k_pp_:1':'Kh PPs: Layer 2',\n",
    "'k_pp_:2':'Kh PPs: Layer 3',\n",
    "'k_pp_:3':'Kh PPs: Layer 4',\n",
    "'k33_pp_:0':'Kv PPs: Layer 1',\n",
    "'k33_pp_:1':'Kv PPs: Layer 2',\n",
    "'k33_pp_:2':'Kv: Layer 3',\n",
    "'k33_pp_:3':'Kv PPs: Layer 4'# ,\n",
    "'rch_pp_:0':'Recharge PPs',\n",
    "'pp_rch__multiplier':'Mean Recharge',\n",
    "'sfrk':'SFR K by reach',\n",
    "'wel':'Well Pumping',\n",
    "'zn_k__multiplier':'Kh by Zone',\n",
    "'zn_k33__multiplier':'Kv by Zone'}"
   ]
  },
  {
   "cell_type": "markdown",
   "metadata": {},
   "source": [
    "## Just make a barchart of the renamed parameter groups to show the relative sensitivity. We plot the log because the elemetary effects span orders of magnitude"
   ]
  },
  {
   "cell_type": "code",
   "execution_count": null,
   "metadata": {},
   "outputs": [],
   "source": [
    "from matplotlib.ticker import ScalarFormatter\n",
    "\n",
    "morris_sum_df.index = [renames[i] for i in morris_sum_df.index]\n",
    "mpl.rcParams.update({'font.size':16})\n",
    "\n",
    "ax = morris_sum_df.sort_values(by='sen_mean_abs',ascending=False).sen_mean_abs.apply(np.log10).plot.bar(figsize=(5,4))\n",
    "#ax.set_yscale('log')\n",
    "ax.set_ylabel('Log Mean absolute value of elementary effects ($\\mu*$)')\n",
    "ax.set_xlabel('Parameter Group')\n",
    "ax.yaxis.set_major_formatter(ScalarFormatter())\n",
    "\n",
    "ax.ticklabel_format(useOffset=False,style='plain', axis='y', )\n",
    "ax.grid()\n",
    "plt.tight_layout()\n",
    "plt.title('Method of Morris Global Sensitivity Results')\n",
    "plt.savefig('morris_plot.pdf')"
   ]
  }
 ],
 "metadata": {
  "kernelspec": {
   "display_name": "Python 3",
   "language": "python",
   "name": "python3"
  },
  "language_info": {
   "codemirror_mode": {
    "name": "ipython",
    "version": 3
   },
   "file_extension": ".py",
   "mimetype": "text/x-python",
   "name": "python",
   "nbconvert_exporter": "python",
   "pygments_lexer": "ipython3",
   "version": "3.8.6"
  }
 },
 "nbformat": 4,
 "nbformat_minor": 4
}
