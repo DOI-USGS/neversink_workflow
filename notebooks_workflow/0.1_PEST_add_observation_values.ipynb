{
 "cells": [
  {
   "cell_type": "code",
   "execution_count": null,
   "metadata": {},
   "outputs": [],
   "source": [
    "import pyemu\n",
    "import os, glob, sys\n",
    "import shutil\n",
    "import numpy as np\n",
    "import pandas as pd"
   ]
  },
  {
   "cell_type": "code",
   "execution_count": null,
   "metadata": {},
   "outputs": [],
   "source": [
    "orig_ws = '../neversink_mf6' # original workspace where model was built and run\n",
    "template_dir = '../run_data' # workspace where PEST++ files are created\n",
    "noptmax0_dir = '../noptmax0_testing/'"
   ]
  },
  {
   "cell_type": "code",
   "execution_count": null,
   "metadata": {},
   "outputs": [],
   "source": [
    "pst=pyemu.Pst(os.path.join(template_dir,'temp.pst'))\n",
    "update_forward_run=True\n",
    "run_local=True\n",
    "update_all_obs = True"
   ]
  },
  {
   "cell_type": "code",
   "execution_count": null,
   "metadata": {},
   "outputs": [],
   "source": [
    "li = pst.parameter_data.partrans=='log'\n",
    "li.values"
   ]
  },
  {
   "cell_type": "code",
   "execution_count": null,
   "metadata": {},
   "outputs": [],
   "source": [
    "report_materials = '../report_materials'\n",
    "if not os.path.exists(report_materials):\n",
    "    os.makedirs(report_materials)\n",
    "    \n",
    "pst.write_obs_summary_table(os.path.join(report_materials, 'testobs.xlsx'))"
   ]
  },
  {
   "cell_type": "markdown",
   "metadata": {},
   "source": [
    "### if `update_all_obs` is True, run the get_observations.py script to get a new INS file and reset all observations in the PEST object"
   ]
  },
  {
   "cell_type": "code",
   "execution_count": null,
   "metadata": {},
   "outputs": [],
   "source": [
    "if update_all_obs is True:\n",
    "    shutil.copy2('../scripts/get_observations.py',os.path.join(template_dir,'get_observations.py'))\n",
    "    shutil.copy2('../scripts/get_observations.py',os.path.join(orig_ws,'get_observations.py'))\n",
    "    \n",
    "    os.system('python {} {} True'.format(os.path.join(orig_ws,'get_observations.py'), orig_ws))\n",
    "    [shutil.copy2(cf, os.path.join(template_dir, os.path.basename(cf))) \n",
    "        for cf in glob.glob(os.path.join(orig_ws, '*.ins'))]\n",
    "    [shutil.copy2(cf, os.path.join(template_dir, os.path.basename(cf))) \n",
    "        for cf in glob.glob(os.path.join(orig_ws, 'land_*.csv'))]\n",
    "    \n",
    "    pst.observation_data.loc[:,:] = np.nan\n",
    "    pst.observation_data.dropna(inplace=True)\n",
    "    pst.add_observations(os.path.join(template_dir,'obs_mf6.dat.ins'), pst_path='.')"
   ]
  },
  {
   "cell_type": "markdown",
   "metadata": {},
   "source": [
    "###  set the observation groups"
   ]
  },
  {
   "cell_type": "code",
   "execution_count": null,
   "metadata": {},
   "outputs": [],
   "source": [
    "obs = pst.observation_data"
   ]
  },
  {
   "cell_type": "code",
   "execution_count": null,
   "metadata": {},
   "outputs": [],
   "source": [
    "obs.obgnme = 'head'"
   ]
  },
  {
   "cell_type": "code",
   "execution_count": null,
   "metadata": {},
   "outputs": [],
   "source": [
    "obs.loc[obs.index.str.startswith('q_'), 'obgnme'] = 'flux'"
   ]
  },
  {
   "cell_type": "code",
   "execution_count": null,
   "metadata": {},
   "outputs": [],
   "source": [
    "obs.loc[obs.index.str.startswith('perc'), 'obgnme'] = 'budget'\n",
    "obs.loc[obs.index.str.startswith('land'), 'obgnme'] = 'land_surface'\n"
   ]
  },
  {
   "cell_type": "code",
   "execution_count": null,
   "metadata": {},
   "outputs": [],
   "source": [
    "obs"
   ]
  },
  {
   "cell_type": "markdown",
   "metadata": {},
   "source": [
    "### Set observations"
   ]
  },
  {
   "cell_type": "code",
   "execution_count": null,
   "metadata": {},
   "outputs": [],
   "source": [
    "set_obs = True"
   ]
  },
  {
   "cell_type": "code",
   "execution_count": null,
   "metadata": {},
   "outputs": [],
   "source": [
    "if set_obs:\n",
    "    # read in sfr; make sfr obsnme/obsval dict to map to pst observation_data\n",
    "    sfr_df = pd.read_csv('../obs_data/NWIS_DV_STREAMSTATS_SITES.csv')\n",
    "    sfr_df['obsnme'] = 'q_' + sfr_df['site_id'].astype(str)\n",
    "    sfr_df['obsval'] = (sfr_df['Mean_Annual_Flow_cfs'] * sfr_df['Average_BFI_value']) * 2446.5755455 # convert from cfs to m^3/day\n",
    "    sfr_df[['obsnme', 'obsval']]\n",
    "    sfr_dict = pd.Series(sfr_df['obsval'].values,index=sfr_df['obsnme']).to_dict()\n",
    "    \n",
    "    # read in nwis heads; make nwis head obsnme/obsval dict\n",
    "    nwis_gw_df = pd.read_csv('../obs_data/NWIS_GW_DV_data.csv')\n",
    "    nwis_gw_df['obsnme'] = 'h_' + nwis_gw_df['site_no'].astype(str)\n",
    "    nwis_gw_df['obsval'] = nwis_gw_df['gw_elev_m']\n",
    "    nwis_gw_dict = pd.Series(nwis_gw_df['obsval'].values,index=nwis_gw_df['obsnme']).to_dict()\n",
    "    \n",
    "    # read in DEC heads; make DEC heads obsnme/obsval dict\n",
    "    DEC_gw_df = pd.read_csv('../obs_data/NY_DEC_GW_sites.csv')\n",
    "    DEC_gw_df['obsnme'] = ('h_' + DEC_gw_df['WellNO'].astype(str)).str.lower()\n",
    "    DEC_gw_df['obsval'] = DEC_gw_df['gw_elev_m']\n",
    "    DEC_gw_dict = pd.Series(DEC_gw_df['obsval'].values,index=DEC_gw_df['obsnme']).to_dict()\n",
    "    \n",
    "    # map SFR values to observation_data\n",
    "    obs.loc[obs.obsnme.isin(sfr_dict.keys()), 'obsval'] = obs.obsnme.map(sfr_dict)\n",
    "    \n",
    "    # map nwis heads to observation_data\n",
    "    obs.loc[obs.obsnme.isin(nwis_gw_dict.keys()), 'obsval'] = obs.obsnme.map(nwis_gw_dict)\n",
    "    \n",
    "    # map DEC heads to SRF observation_data\n",
    "    obs.loc[obs.obsnme.isin(DEC_gw_dict.keys()), 'obsval'] = obs.obsnme.map(DEC_gw_dict)\n",
    "    \n",
    "    # set up percent discrepancy as dummy value\n",
    "    obs.loc[obs.obgnme=='budget', 'obsval'] = -99999\n",
    "    \n",
    "    # get the land surface obs\n",
    "    lsobs_df = pd.read_csv('../neversink_mf6/land_surf_obs-observations.csv', index_col=0)\n",
    "    \n",
    "    obs.loc[obs.obgnme=='land_surface', 'obsval'] = lsobs_df.obsval"
   ]
  },
  {
   "cell_type": "code",
   "execution_count": null,
   "metadata": {},
   "outputs": [],
   "source": [
    "obs"
   ]
  },
  {
   "cell_type": "markdown",
   "metadata": {},
   "source": [
    "### first cut at weights"
   ]
  },
  {
   "cell_type": "code",
   "execution_count": null,
   "metadata": {},
   "outputs": [],
   "source": [
    "obs.loc[obs.obsnme=='q_1436500', 'weight'] = 3.33/obs.loc[obs.obsnme=='q_1436500'].obsval\n",
    "obs.loc[obs.obsnme=='q_1366650', 'weight'] = 10/obs.loc[obs.obsnme=='q_1366650'].obsval\n"
   ]
  },
  {
   "cell_type": "code",
   "execution_count": null,
   "metadata": {},
   "outputs": [],
   "source": [
    "obs.loc[obs.obgnme=='head', 'weight'] = 1/5\n",
    "obs.loc[obs.obgnme=='land_surface', 'weight'] = 1/10"
   ]
  },
  {
   "cell_type": "code",
   "execution_count": null,
   "metadata": {},
   "outputs": [],
   "source": [
    "obs.loc[obs.obgnme=='budget', 'weight'] = 0.0"
   ]
  },
  {
   "cell_type": "code",
   "execution_count": null,
   "metadata": {},
   "outputs": [],
   "source": [
    "obs"
   ]
  },
  {
   "cell_type": "markdown",
   "metadata": {},
   "source": [
    "## update some parameter bounds"
   ]
  },
  {
   "cell_type": "code",
   "execution_count": null,
   "metadata": {},
   "outputs": [],
   "source": [
    "pars = pst.parameter_data"
   ]
  },
  {
   "cell_type": "markdown",
   "metadata": {},
   "source": [
    "### K-zones set to not get too crazy high"
   ]
  },
  {
   "cell_type": "code",
   "execution_count": null,
   "metadata": {},
   "outputs": [],
   "source": [
    "#  read in k value lookup table to df\n",
    "\n",
    "#  original table\n",
    "\n",
    "k_df_original = pd.read_excel(\n",
    "    '../k_processing/Rondout_Neversink_GeologyLookupTable.xlsx',\n",
    "    sheet_name='Sheet2'\n",
    ")\n",
    "k_df_original.index = k_df_original.Lookup_Code\n",
    "\n",
    "k_df = pd.read_excel(\n",
    "    '../k_processing/Rondout_Neversink_GeologyLookupTable_jhw.xlsx',\n",
    "    sheet_name='Sheet2'\n",
    ")\n",
    "\n",
    "k_df.index = k_df.Lookup_Code\n",
    "\n",
    "print('Using mean K value')\n",
    "k_df['Kh_ft_d_mean'] = (k_df['Kh_ft_d_lower'] + k_df['Kh_ft_d_upper']) / 2\n",
    "k_df['Kh_m_d'] = k_df['Kh_ft_d_mean'] * 0.3048\n",
    "    \n",
    "k_df['Kh_m_d_lower'] = k_df['Kh_ft_d_lower'] * .3048\n",
    "k_df['Kh_m_d_upper'] = k_df['Kh_ft_d_upper'] * .3048\n",
    "\n",
    "k_df['K_upper_mult'] = k_df['Kh_m_d_upper'] / k_df['Kh_m_d']\n",
    "k_df['K_lower_mult'] = k_df['Kh_m_d_lower'] / k_df['Kh_m_d']\n",
    "\n",
    "\n",
    "k_df"
   ]
  },
  {
   "cell_type": "code",
   "execution_count": null,
   "metadata": {},
   "outputs": [],
   "source": [
    "k_mult_zones = [int(i.split(':')[-1]) for i in pars.loc[pars.parnme.str.startswith('multiplier_k')].index]\n",
    "np.unique(k_mult_zones)"
   ]
  },
  {
   "cell_type": "code",
   "execution_count": null,
   "metadata": {},
   "outputs": [],
   "source": [
    "upper_mults = [k_df.loc[i].K_upper_mult for i in k_mult_zones]\n",
    "lower_mults = [k_df.loc[i].K_lower_mult for i in k_mult_zones]"
   ]
  },
  {
   "cell_type": "code",
   "execution_count": null,
   "metadata": {},
   "outputs": [],
   "source": [
    "pars.loc[pars.parnme.str.startswith('multiplier_k'), 'parlbnd'] = lower_mults\n",
    "pars.loc[pars.parnme.str.startswith('multiplier_k'), 'parubnd'] = upper_mults\n"
   ]
  },
  {
   "cell_type": "markdown",
   "metadata": {},
   "source": [
    "### pilot points set to mean upper and lower bounds diffs"
   ]
  },
  {
   "cell_type": "code",
   "execution_count": null,
   "metadata": {},
   "outputs": [],
   "source": [
    "mean_lower = k_df.K_lower_mult.mean()\n",
    "mean_upper = k_df.K_upper_mult.mean()\n",
    "mean_lower,mean_upper"
   ]
  },
  {
   "cell_type": "code",
   "execution_count": null,
   "metadata": {},
   "outputs": [],
   "source": [
    "pars.loc[pars.pargp.str.startswith('k'), 'parlbnd'] = mean_lower + 0.01\n",
    "pars.loc[pars.pargp.str.startswith('k'), 'parubnd'] = mean_upper - 0.01\n",
    "pars.loc[pars.pargp.str.startswith('sfrk'), 'parlbnd'] = 0.1\n",
    "pars.loc[pars.pargp.str.startswith('sfrk'), 'parubnd'] = 10.0\n",
    "pars.loc[pars.pargp=='chd', 'partrans'] = 'fixed'"
   ]
  },
  {
   "cell_type": "code",
   "execution_count": null,
   "metadata": {},
   "outputs": [],
   "source": [
    "parsum = pst.write_par_summary_table('../report_materials/initial_parsum.xlsx', report_in_linear_space=True)\n",
    "parsum"
   ]
  },
  {
   "cell_type": "markdown",
   "metadata": {},
   "source": [
    "## update the forward run to run\n"
   ]
  },
  {
   "cell_type": "code",
   "execution_count": null,
   "metadata": {},
   "outputs": [],
   "source": [
    "\n",
    "frunlines = open(os.path.join(template_dir, 'forward_run.py'), 'r').readlines()\n",
    "if update_forward_run is True and './mf6' not in ' '.join([i.strip() for i in frunlines]):\n",
    "    print('updating forward_run.py')\n",
    "    with open(os.path.join(template_dir, 'forward_run.py'), 'w') as ofp:\n",
    "        for line in frunlines:\n",
    "            if '__main__' in line:\n",
    "                print('ginger')\n",
    "                ofp.write(\"    os.system('./mf6')\\n\")\n",
    "                ofp.write(\"    os.system('python get_observations.py . false')\\n\")\n",
    "                ofp.write('{}\\n'.format(line)) \n",
    "            else:\n",
    "                ofp.write(line)          \n"
   ]
  },
  {
   "cell_type": "code",
   "execution_count": null,
   "metadata": {},
   "outputs": [],
   "source": [
    "import sys\n",
    "sys.platform"
   ]
  },
  {
   "cell_type": "code",
   "execution_count": null,
   "metadata": {},
   "outputs": [],
   "source": [
    "pst.control_data.__dict__"
   ]
  },
  {
   "cell_type": "markdown",
   "metadata": {},
   "source": [
    "### set noptmax = 0 and a couple ++ options and write out PST file"
   ]
  },
  {
   "cell_type": "code",
   "execution_count": null,
   "metadata": {},
   "outputs": [],
   "source": [
    "pst.pestpp_options[\"ies_num_reals\"] = 500  \n",
    "pst.pestpp_options[\"ies_bad_phi_sigma\"] = 2\n",
    "pst.pestpp_options[\"overdue_giveup_fac\"] = 4\n",
    "pst.pestpp_options[\"ies_save_rescov\"] = True\n",
    "pst.pestpp_options[\"ies_no_noise\"] = True\n",
    "pst.pestpp_options[\"ies_drop_conflicts\"] = True\n",
    "pst.pestpp_options[\"ies_pdc_sigma_distance\"] = 2.0\n",
    "#pst.pestpp_options['rand_seed']=420042"
   ]
  },
  {
   "cell_type": "code",
   "execution_count": null,
   "metadata": {},
   "outputs": [],
   "source": [
    "pst.control_data.noptmax = 0"
   ]
  },
  {
   "cell_type": "code",
   "execution_count": null,
   "metadata": {},
   "outputs": [],
   "source": [
    "pst.write(os.path.join(template_dir,'prior_mc.pst'))"
   ]
  },
  {
   "cell_type": "code",
   "execution_count": null,
   "metadata": {},
   "outputs": [],
   "source": [
    "if os.path.exists(noptmax0_dir):\n",
    "    shutil.rmtree(noptmax0_dir)\n",
    "shutil.copytree(template_dir, noptmax0_dir)"
   ]
  },
  {
   "cell_type": "code",
   "execution_count": null,
   "metadata": {},
   "outputs": [],
   "source": [
    "pst.write_obs_summary_table('../report_materials/obs_initial.xlsx')"
   ]
  },
  {
   "cell_type": "markdown",
   "metadata": {},
   "source": [
    "### For Nick -- remove backslashes from `mult2model_info.csv` for running on linux"
   ]
  },
  {
   "cell_type": "code",
   "execution_count": null,
   "metadata": {},
   "outputs": [],
   "source": [
    "if sys.platform == 'win32':\n",
    "    f = open(os.path.join(template_dir, 'mult2model_info.csv'), \"r\")\n",
    "    lines = f.readlines()\n",
    "    f.close()\n",
    "\n",
    "    output_lines = []\n",
    "    for line in lines:\n",
    "        output_lines.append(line.replace('\\\\', \"/\"))\n",
    "\n",
    "    f = open(os.path.join(template_dir, 'mult2model_info.csv'), \"w\")\n",
    "    f.write(''.join(output_lines))\n",
    "    f.close()"
   ]
  },
  {
   "cell_type": "markdown",
   "metadata": {},
   "source": [
    "### and the pest file"
   ]
  },
  {
   "cell_type": "code",
   "execution_count": null,
   "metadata": {},
   "outputs": [],
   "source": [
    "if sys.platform == 'win32':\n",
    "    f = open(os.path.join(template_dir, 'prior_mc.pst'), \"r\")\n",
    "    lines = f.readlines()\n",
    "    f.close()\n",
    "\n",
    "    output_lines = []\n",
    "    for line in lines:\n",
    "        output_lines.append(line.replace('\\\\', \"/\"))\n",
    "\n",
    "    f = open(os.path.join(template_dir, 'prior_mc.pst'), \"w\")\n",
    "    f.write(''.join(output_lines))\n",
    "    f.close()"
   ]
  },
  {
   "cell_type": "code",
   "execution_count": null,
   "metadata": {},
   "outputs": [],
   "source": []
  }
 ],
 "metadata": {
  "kernelspec": {
   "display_name": "Python 3",
   "language": "python",
   "name": "python3"
  },
  "language_info": {
   "codemirror_mode": {
    "name": "ipython",
    "version": 3
   },
   "file_extension": ".py",
   "mimetype": "text/x-python",
   "name": "python",
   "nbconvert_exporter": "python",
   "pygments_lexer": "ipython3",
   "version": "3.7.6"
  }
 },
 "nbformat": 4,
 "nbformat_minor": 4
}
