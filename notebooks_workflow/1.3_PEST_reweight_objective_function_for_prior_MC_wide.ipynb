{
 "cells": [
  {
   "cell_type": "code",
   "execution_count": null,
   "metadata": {},
   "outputs": [],
   "source": [
    "import pyemu\n",
    "import os\n",
    "import matplotlib.pyplot as plt"
   ]
  },
  {
   "cell_type": "markdown",
   "metadata": {},
   "source": [
    "## run NOPTMAX=0 to get residuals, then load and reweight"
   ]
  },
  {
   "cell_type": "code",
   "execution_count": null,
   "metadata": {},
   "outputs": [],
   "source": [
    "input_dir = '../noptmax0_testing/'\n",
    "output_dir = '../run_data'\n",
    "pst_root = 'prior_mc_wide'"
   ]
  },
  {
   "cell_type": "code",
   "execution_count": null,
   "metadata": {},
   "outputs": [],
   "source": [
    "pst = pyemu.Pst(os.path.join(input_dir,'{}.pst'.format(pst_root)))"
   ]
  },
  {
   "cell_type": "code",
   "execution_count": null,
   "metadata": {},
   "outputs": [],
   "source": [
    "pst.plot(kind='phi_pie')\n",
    "plt.savefig('../report_materials/prior_mc_wide_phi_pie.pdf', dpi=600)"
   ]
  },
  {
   "cell_type": "code",
   "execution_count": null,
   "metadata": {},
   "outputs": [],
   "source": [
    "new_proportions = pst.phi_components.copy()\n",
    "new_proportions"
   ]
  },
  {
   "cell_type": "code",
   "execution_count": null,
   "metadata": {},
   "outputs": [],
   "source": [
    "pst.observation_data"
   ]
  },
  {
   "cell_type": "code",
   "execution_count": null,
   "metadata": {},
   "outputs": [],
   "source": [
    "new_proportions['flux'] = 0.3*pst.phi\n",
    "new_proportions['head'] = 0.2*pst.phi\n",
    "new_proportions['land_surface'] = 0.5*pst.phi\n",
    "new_proportions['budget'] = 0"
   ]
  },
  {
   "cell_type": "code",
   "execution_count": null,
   "metadata": {},
   "outputs": [],
   "source": [
    "new_proportions"
   ]
  },
  {
   "cell_type": "code",
   "execution_count": null,
   "metadata": {},
   "outputs": [],
   "source": [
    "pst.adjust_weights(obsgrp_dict=new_proportions)"
   ]
  },
  {
   "cell_type": "code",
   "execution_count": null,
   "metadata": {},
   "outputs": [],
   "source": [
    "pst.observation_data"
   ]
  },
  {
   "cell_type": "code",
   "execution_count": null,
   "metadata": {},
   "outputs": [],
   "source": [
    "pst.plot(kind='phi_pie')\n",
    "plt.savefig('../report_materials/prior_mc_wide_REWEIGHTED_phi_pie.pdf', dpi=600)"
   ]
  },
  {
   "cell_type": "code",
   "execution_count": null,
   "metadata": {},
   "outputs": [],
   "source": [
    "# set some values for ies\n",
    "pst.pestpp_options[\"ies_num_reals\"] = 500  \n",
    "pst.pestpp_options[\"ies_bad_phi_sigma\"] = 2.5\n",
    "pst.pestpp_options[\"overdue_giveup_fac\"] = 4\n",
    "pst.pestpp_options[\"ies_save_rescov\"] = True\n",
    "pst.pestpp_options[\"ies_no_noise\"] = True\n",
    "pst.pestpp_options[\"ies_drop_conflicts\"] = False\n",
    "pst.pestpp_options[\"ies_pdc_sigma_distance\"] = 3.0\n",
    "pst.pestpp_options['ies_autoadaloc']=True\n",
    "pst.pestpp_options['ies_num_threads']=4\n",
    "pst.pestpp_options['ies_lambda_mults']=(0.1,1.0,10.0,100.0)\n",
    "pst.pestpp_options['lambda_scale_fac'] = (0.75,0.9,1.0,1.1)\n",
    "pst.pestpp_options['ies_subset_size']=10\n",
    "\n",
    "# set SVD for some regularization\n",
    "pst.svd_data.maxsing = 250"
   ]
  },
  {
   "cell_type": "code",
   "execution_count": null,
   "metadata": {},
   "outputs": [],
   "source": [
    "# set up for prior Monte Carlo\n",
    "pst.control_data.noptmax = -1\n",
    "pst.write(os.path.join(output_dir, '{}.pst'.format(pst_root)))"
   ]
  },
  {
   "cell_type": "code",
   "execution_count": null,
   "metadata": {},
   "outputs": [],
   "source": []
  },
  {
   "cell_type": "code",
   "execution_count": null,
   "metadata": {},
   "outputs": [],
   "source": []
  },
  {
   "cell_type": "code",
   "execution_count": null,
   "metadata": {},
   "outputs": [],
   "source": []
  }
 ],
 "metadata": {
  "kernelspec": {
   "display_name": "Python 3",
   "language": "python",
   "name": "python3"
  },
  "language_info": {
   "codemirror_mode": {
    "name": "ipython",
    "version": 3
   },
   "file_extension": ".py",
   "mimetype": "text/x-python",
   "name": "python",
   "nbconvert_exporter": "python",
   "pygments_lexer": "ipython3",
   "version": "3.7.6"
  }
 },
 "nbformat": 4,
 "nbformat_minor": 4
}
