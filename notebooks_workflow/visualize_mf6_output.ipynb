{
 "cells": [
  {
   "cell_type": "code",
   "execution_count": 1,
   "metadata": {},
   "outputs": [],
   "source": [
    "import os\n",
    "import pandas as pd\n",
    "import numpy as np\n",
    "import flopy as fp\n",
    "import flopy.utils as fu\n",
    "import matplotlib.pyplot as plt\n",
    "import mfexport\n",
    "import rasterio\n",
    "from pyproj import CRS\n",
    "from affine import Affine"
   ]
  },
  {
   "cell_type": "code",
   "execution_count": 2,
   "metadata": {},
   "outputs": [],
   "source": [
    "model_ws = '../neversink_mf6/'\n",
    "outpath = '../neversink_mf6/postproc'\n",
    "simname = 'mfsim.nam'"
   ]
  },
  {
   "cell_type": "code",
   "execution_count": 3,
   "metadata": {},
   "outputs": [],
   "source": [
    "if not os.path.exists(outpath):\n",
    "    os.makedirs(outpath)"
   ]
  },
  {
   "cell_type": "markdown",
   "metadata": {},
   "source": [
    "## Load up the MF6 model"
   ]
  },
  {
   "cell_type": "code",
   "execution_count": 4,
   "metadata": {},
   "outputs": [
    {
     "name": "stdout",
     "output_type": "stream",
     "text": [
      "loading simulation...\n",
      "  loading simulation name file...\n",
      "  loading tdis package...\n",
      "  loading model gwf6...\n",
      "    loading package dis...\n",
      "    loading package ic...\n",
      "    loading package npf...\n",
      "    loading package rch...\n",
      "    loading package oc...\n",
      "    loading package wel...\n",
      "    loading package obs...\n",
      "    loading package chd...\n",
      "INFORMATION: maxbound in ('gwf6', 'chd', 'dimensions') changed to 176 based on size of stress_period_data\n",
      "    loading package sfr...\n",
      "  loading ims package neversink...\n"
     ]
    }
   ],
   "source": [
    "sim = fp.mf6.MFSimulation.load(simname, 'mf6', sim_ws=model_ws)"
   ]
  },
  {
   "cell_type": "code",
   "execution_count": 5,
   "metadata": {},
   "outputs": [],
   "source": [
    "m = sim.get_model()"
   ]
  },
  {
   "cell_type": "markdown",
   "metadata": {},
   "source": [
    "## export some GIS treats"
   ]
  },
  {
   "cell_type": "code",
   "execution_count": 6,
   "metadata": {},
   "outputs": [],
   "source": [
    "grid = mfexport.MFexportGrid(delr=m.dis.delr.array, # grid spacing in meters\n",
    "                             delc=m.dis.delc.array , \n",
    "                             \n",
    "                             xul=1742955.0, yul=2292285.0, # upper left corner in CRS\n",
    "                             epsg=5070 \n",
    "                            )\n",
    "\n",
    "mfexport.export(m, grid, output_path=outpath)"
   ]
  },
  {
   "cell_type": "code",
   "execution_count": 8,
   "metadata": {},
   "outputs": [
    {
     "name": "stdout",
     "output_type": "stream",
     "text": [
      "Exporting SFR results...\n",
      "file: ../neversink_mf6/neversink.sfr.stage.bin\n",
      "file: ../neversink_mf6/neversink.sfr.cbc\n",
      "Getting data from ../neversink_mf6/neversink.sfr.cbc...\n",
      "for variables: FLOW-JA-FACE GWF RAINFALL EVAPORATION RUNOFF EXT-INFLOW EXT-OUTFLOW STORAGE AUXILIARY\n",
      "reading FLOW-JA-FACE from\n",
      "../neversink_mf6/neversink.sfr.cbc...\n",
      "finished in 0.05s\n",
      "\n",
      "aggregating FLOW-JA-FACE results...\n",
      "loop took 0.04s\n",
      "DataFrame construction took 0.03s\n",
      "finished in 0.07s\n",
      "\n",
      "reading GWF from\n",
      "../neversink_mf6/neversink.sfr.cbc...\n",
      "finished in 0.00s\n",
      "\n",
      "reading RAINFALL from\n",
      "../neversink_mf6/neversink.sfr.cbc...\n",
      "finished in 0.01s\n",
      "\n",
      "reading EVAPORATION from\n",
      "../neversink_mf6/neversink.sfr.cbc...\n",
      "finished in 0.02s\n",
      "\n",
      "reading RUNOFF from\n",
      "../neversink_mf6/neversink.sfr.cbc...\n",
      "finished in 0.03s\n",
      "\n",
      "reading EXT-INFLOW from\n",
      "../neversink_mf6/neversink.sfr.cbc...\n",
      "finished in 0.00s\n",
      "\n",
      "reading EXT-OUTFLOW from\n",
      "../neversink_mf6/neversink.sfr.cbc...\n",
      "finished in 0.00s\n",
      "\n",
      "reading STORAGE from\n",
      "../neversink_mf6/neversink.sfr.cbc...\n",
      "finished in 0.01s\n",
      "\n",
      "reading AUXILIARY from\n",
      "../neversink_mf6/neversink.sfr.cbc...\n",
      "finished in 0.01s\n",
      "\n",
      "finished in 0.60s\n",
      "\n",
      "reading stage from\n",
      "../neversink_mf6/neversink.sfr.stage.bin...\n",
      "finished in 0.02s\n",
      "\n",
      "stress period 0, timestep 0\n",
      "writing ../neversink_mf6/postproc\\shps/sfrout_per0_stp0.shp... Done\n",
      "stress period 0, timestep 0\n",
      "wrote ../neversink_mf6/postproc\\pdfs/baseflow_per0_stp0.pdf\n",
      "wrote ../neversink_mf6/postproc\\pdfs/qaquifer_per0_stp0.pdf\n"
     ]
    }
   ],
   "source": [
    "# added sfr export -- SFR export not supported using the method above. \n",
    "\n",
    "mf6_sfr_stage_file=os.path.join(model_ws,'neversink.sfr.stage.bin')\n",
    "mf6_sfr_budget_file=os.path.join(model_ws,'neversink.sfr.cbc')\n",
    "\n",
    "outfiles = mfexport.export_sfr_results(mf6_sfr_stage_file=mf6_sfr_stage_file,\n",
    "                                       mf6_sfr_budget_file=mf6_sfr_budget_file,\n",
    "                                       model=m,\n",
    "                                       grid=grid,\n",
    "                                       output_length_units='meters',\n",
    "                                       output_time_units='days',\n",
    "                                       output_path=outpath\n",
    "                                       )"
   ]
  },
  {
   "cell_type": "code",
   "execution_count": null,
   "metadata": {},
   "outputs": [],
   "source": [
    "headsfile = os.path.join(model_ws,'neversink.hds')\n",
    "\n",
    "mfexport.export_heads(headsfile,\n",
    "                      grid, \n",
    "                      hdry=m.hnoflo, \n",
    "                      hnflo=m.hnoflo, \n",
    "                      kstpkper=(0, 0), # steady state one stress period\n",
    "                      output_path=outpath,\n",
    "                      interval=20, # meters\n",
    "                     ) \n"
   ]
  },
  {
   "cell_type": "markdown",
   "metadata": {},
   "source": [
    "## Examine the mass balance overall"
   ]
  },
  {
   "cell_type": "code",
   "execution_count": 9,
   "metadata": {},
   "outputs": [],
   "source": [
    "df_flux, _ = fu.Mf6ListBudget(os.path.join(model_ws,'neversink.list')).get_dataframes()\n",
    "percdisc = df_flux.PERCENT_DISCREPANCY.values[0]\n",
    "#budget_df = pd.DataFrame({'obs':percdisc})\n",
    "#budget_df.index = ['PERC_DISC']\n",
    "#budget_df"
   ]
  },
  {
   "cell_type": "code",
   "execution_count": 10,
   "metadata": {},
   "outputs": [
    {
     "data": {
      "text/plain": [
       "-0.0"
      ]
     },
     "execution_count": 10,
     "metadata": {},
     "output_type": "execute_result"
    }
   ],
   "source": [
    "percdisc"
   ]
  },
  {
   "cell_type": "code",
   "execution_count": 11,
   "metadata": {},
   "outputs": [],
   "source": [
    "mfl6 = fu.Mf6ListBudget(os.path.join(model_ws,'neversink.list'))\n",
    "df_flux, df_vol = mfl6.get_dataframes()"
   ]
  },
  {
   "cell_type": "code",
   "execution_count": 12,
   "metadata": {},
   "outputs": [],
   "source": [
    "df_flux_backup = df_flux.copy()"
   ]
  },
  {
   "cell_type": "code",
   "execution_count": 13,
   "metadata": {},
   "outputs": [
    {
     "data": {
      "text/html": [
       "<div>\n",
       "<style scoped>\n",
       "    .dataframe tbody tr th:only-of-type {\n",
       "        vertical-align: middle;\n",
       "    }\n",
       "\n",
       "    .dataframe tbody tr th {\n",
       "        vertical-align: top;\n",
       "    }\n",
       "\n",
       "    .dataframe thead th {\n",
       "        text-align: right;\n",
       "    }\n",
       "</style>\n",
       "<table border=\"1\" class=\"dataframe\">\n",
       "  <thead>\n",
       "    <tr style=\"text-align: right;\">\n",
       "      <th></th>\n",
       "      <th>WEL_IN</th>\n",
       "      <th>RCH_IN</th>\n",
       "      <th>CHD_IN</th>\n",
       "      <th>SFR_IN</th>\n",
       "      <th>TOTAL_IN</th>\n",
       "      <th>WEL_OUT</th>\n",
       "      <th>RCH_OUT</th>\n",
       "      <th>CHD_OUT</th>\n",
       "      <th>SFR_OUT</th>\n",
       "      <th>TOTAL_OUT</th>\n",
       "      <th>IN-OUT</th>\n",
       "      <th>PERCENT_DISCREPANCY</th>\n",
       "    </tr>\n",
       "  </thead>\n",
       "  <tbody>\n",
       "    <tr>\n",
       "      <th>1970-01-02</th>\n",
       "      <td>0.0</td>\n",
       "      <td>489968.1875</td>\n",
       "      <td>10305.591797</td>\n",
       "      <td>22787.8125</td>\n",
       "      <td>523061.5625</td>\n",
       "      <td>9881.269531</td>\n",
       "      <td>0.0</td>\n",
       "      <td>12862.643555</td>\n",
       "      <td>500318.03125</td>\n",
       "      <td>523061.9375</td>\n",
       "      <td>-0.3646</td>\n",
       "      <td>-0.0</td>\n",
       "    </tr>\n",
       "  </tbody>\n",
       "</table>\n",
       "</div>"
      ],
      "text/plain": [
       "            WEL_IN       RCH_IN        CHD_IN      SFR_IN     TOTAL_IN  \\\n",
       "1970-01-02     0.0  489968.1875  10305.591797  22787.8125  523061.5625   \n",
       "\n",
       "                WEL_OUT  RCH_OUT       CHD_OUT       SFR_OUT    TOTAL_OUT  \\\n",
       "1970-01-02  9881.269531      0.0  12862.643555  500318.03125  523061.9375   \n",
       "\n",
       "            IN-OUT  PERCENT_DISCREPANCY  \n",
       "1970-01-02 -0.3646                 -0.0  "
      ]
     },
     "execution_count": 13,
     "metadata": {},
     "output_type": "execute_result"
    }
   ],
   "source": [
    "df_flux = df_flux_backup.copy()\n",
    "df_flux"
   ]
  },
  {
   "cell_type": "code",
   "execution_count": 14,
   "metadata": {},
   "outputs": [],
   "source": [
    "outcols = [i for i in df_flux.columns if \"OUT\" in i]\n",
    "for i in outcols:\n",
    "    df_flux[i] *= -1"
   ]
  },
  {
   "cell_type": "code",
   "execution_count": 15,
   "metadata": {},
   "outputs": [
    {
     "data": {
      "text/html": [
       "<div>\n",
       "<style scoped>\n",
       "    .dataframe tbody tr th:only-of-type {\n",
       "        vertical-align: middle;\n",
       "    }\n",
       "\n",
       "    .dataframe tbody tr th {\n",
       "        vertical-align: top;\n",
       "    }\n",
       "\n",
       "    .dataframe thead th {\n",
       "        text-align: right;\n",
       "    }\n",
       "</style>\n",
       "<table border=\"1\" class=\"dataframe\">\n",
       "  <thead>\n",
       "    <tr style=\"text-align: right;\">\n",
       "      <th></th>\n",
       "      <th>WEL_IN</th>\n",
       "      <th>RCH_IN</th>\n",
       "      <th>CHD_IN</th>\n",
       "      <th>SFR_IN</th>\n",
       "      <th>TOTAL_IN</th>\n",
       "      <th>WEL_OUT</th>\n",
       "      <th>RCH_OUT</th>\n",
       "      <th>CHD_OUT</th>\n",
       "      <th>SFR_OUT</th>\n",
       "      <th>TOTAL_OUT</th>\n",
       "      <th>IN-OUT</th>\n",
       "      <th>PERCENT_DISCREPANCY</th>\n",
       "    </tr>\n",
       "  </thead>\n",
       "  <tbody>\n",
       "    <tr>\n",
       "      <th>1970-01-02</th>\n",
       "      <td>0.0</td>\n",
       "      <td>489968.1875</td>\n",
       "      <td>10305.591797</td>\n",
       "      <td>22787.8125</td>\n",
       "      <td>523061.5625</td>\n",
       "      <td>-9881.269531</td>\n",
       "      <td>-0.0</td>\n",
       "      <td>-12862.643555</td>\n",
       "      <td>-500318.03125</td>\n",
       "      <td>-523061.9375</td>\n",
       "      <td>0.3646</td>\n",
       "      <td>-0.0</td>\n",
       "    </tr>\n",
       "  </tbody>\n",
       "</table>\n",
       "</div>"
      ],
      "text/plain": [
       "            WEL_IN       RCH_IN        CHD_IN      SFR_IN     TOTAL_IN  \\\n",
       "1970-01-02     0.0  489968.1875  10305.591797  22787.8125  523061.5625   \n",
       "\n",
       "                WEL_OUT  RCH_OUT       CHD_OUT       SFR_OUT    TOTAL_OUT  \\\n",
       "1970-01-02 -9881.269531     -0.0 -12862.643555 -500318.03125 -523061.9375   \n",
       "\n",
       "            IN-OUT  PERCENT_DISCREPANCY  \n",
       "1970-01-02  0.3646                 -0.0  "
      ]
     },
     "execution_count": 15,
     "metadata": {},
     "output_type": "execute_result"
    }
   ],
   "source": [
    "df_flux"
   ]
  },
  {
   "cell_type": "code",
   "execution_count": 22,
   "metadata": {},
   "outputs": [
    {
     "data": {
      "text/plain": [
       "<matplotlib.lines.Line2D at 0x29d307f6308>"
      ]
     },
     "execution_count": 22,
     "metadata": {},
     "output_type": "execute_result"
    },
    {
     "data": {
      "image/png": "[encoded data removed]",
      "text/plain": [
       "<Figure size 432x288 with 1 Axes>"
      ]
     },
     "metadata": {
      "needs_background": "light"
     },
     "output_type": "display_data"
    }
   ],
   "source": [
    "df_flux[[i for i in df_flux.columns if (\"PERCE\" not in i) & (\"WEL_IN\" not in i) & (\"RCH_OUT\" not in i) & (\"TOT\" not in i) & (\"N-O\" not in i) ]].plot.bar()\n",
    "plt.xticks([])\n",
    "plt.xlabel('Water Balance Component')\n",
    "plt.ylabel('Flux, in cubic meters')\n",
    "plt.axhline(0, linewidth=0.5, c='k')"
   ]
  },
  {
   "cell_type": "markdown",
   "metadata": {},
   "source": [
    "## top of model"
   ]
  },
  {
   "cell_type": "code",
   "execution_count": null,
   "metadata": {},
   "outputs": [],
   "source": [
    "plt.figure(figsize=(6,6))\n",
    "top = m.dis.top.array.copy()\n",
    "top[top<-999] = np.nan\n",
    "plt.imshow(top)\n",
    "plt.colorbar()"
   ]
  },
  {
   "cell_type": "markdown",
   "metadata": {},
   "source": [
    "## load up the heads"
   ]
  },
  {
   "cell_type": "code",
   "execution_count": null,
   "metadata": {},
   "outputs": [],
   "source": [
    "sim.simulation_data.mfdata.output_keys()"
   ]
  },
  {
   "cell_type": "code",
   "execution_count": null,
   "metadata": {},
   "outputs": [],
   "source": [
    "# steady state so get rid of time dimension\n",
    "heads = np.squeeze(sim.simulation_data.mfdata['neversink', 'HDS', 'HEAD'])"
   ]
  },
  {
   "cell_type": "code",
   "execution_count": null,
   "metadata": {},
   "outputs": [],
   "source": [
    "heads2 = heads.copy()"
   ]
  },
  {
   "cell_type": "code",
   "execution_count": null,
   "metadata": {},
   "outputs": [],
   "source": [
    "plt.imshow(heads[3])\n",
    "plt.colorbar()"
   ]
  },
  {
   "cell_type": "code",
   "execution_count": null,
   "metadata": {},
   "outputs": [],
   "source": [
    "m.hnoflo"
   ]
  },
  {
   "cell_type": "code",
   "execution_count": null,
   "metadata": {},
   "outputs": [],
   "source": [
    "wt = fu.postprocessing.get_water_table(heads, m.hnoflo)\n",
    "wt[wt==m.hnoflo] = np.nan"
   ]
  },
  {
   "cell_type": "code",
   "execution_count": null,
   "metadata": {},
   "outputs": [],
   "source": [
    "plt.imshow(wt)\n",
    "plt.colorbar()"
   ]
  },
  {
   "cell_type": "code",
   "execution_count": null,
   "metadata": {},
   "outputs": [],
   "source": [
    "# mask out the inactive areas\n",
    "heads[heads==m.hnoflo] = np.nan\n",
    "#heads[heads<-100] = np.nan"
   ]
  },
  {
   "cell_type": "code",
   "execution_count": null,
   "metadata": {},
   "outputs": [],
   "source": [
    "for i in range(m.dis.nlay.array):\n",
    "    plt.figure(figsize=(6,6))\n",
    "    plt.imshow(heads[i,:,:])\n",
    "    plt.colorbar()\n",
    "    plt.title('heads layer {}'.format(i))"
   ]
  },
  {
   "cell_type": "code",
   "execution_count": null,
   "metadata": {},
   "outputs": [],
   "source": [
    "for i in range(m.npf.k.array):\n",
    "    plt.figure(figsize=(6,6))\n",
    "    plt.imshow(heads[i,:,:])\n",
    "    plt.colorbar()\n",
    "    plt.title('heads layer {}'.format(i))"
   ]
  },
  {
   "cell_type": "code",
   "execution_count": null,
   "metadata": {},
   "outputs": [],
   "source": [
    "m."
   ]
  },
  {
   "cell_type": "code",
   "execution_count": null,
   "metadata": {},
   "outputs": [],
   "source": [
    "flooded = wt-m.dis.top.data\n",
    "flooded[flooded<0] = np.nan\n",
    "#flooded[flooded>10] = 10\n",
    "plt.figure(figsize=(10,10))\n",
    "plt.imshow(flooded)\n",
    "plt.title('Excess head in flooded cells, in meters')\n",
    "plt.colorbar()\n",
    "plt.savefig('flooding_rep_model.pdf', dpi=600)"
   ]
  },
  {
   "cell_type": "code",
   "execution_count": null,
   "metadata": {},
   "outputs": [],
   "source": [
    "\n",
    "flooded[np.isnan(flooded)]=-9999.\n",
    "\n",
    "outfile = 'flooding.tif'\n",
    "raster_outpath = os.path.join(outpath, outfile)\n",
    "\n",
    "dataset = rasterio.open(\n",
    "    raster_outpath, \n",
    "    'w', \n",
    "    driver='GTiff',\n",
    "    height = flooded.shape[0], \n",
    "    width = flooded.shape[1],\n",
    "    count=1,\n",
    "    nodata = -9999.0,\n",
    "    dtype=str(flooded.dtype),\n",
    "    crs = CRS.from_epsg(5070),\n",
    "    transform=Affine(50.0, 0.0, 1742955.0,\n",
    "                     0.0, -50.0, 2292285.0),\n",
    ")\n",
    "\n",
    "dataset.write(flooded, 1)\n",
    "dataset.close()\n"
   ]
  },
  {
   "cell_type": "code",
   "execution_count": null,
   "metadata": {},
   "outputs": [],
   "source": [
    "with rasterio.open('../k_processing/V2_Layer{}_K.tif'.format(1)) as src:\n",
    "    crs = src.crs\n",
    "    meta = src.meta\n",
    "    nodata = meta['nodata']\n",
    "    K_tuple = src.read(1, masked=True),\n",
    "    K_data = K_tuple[0].data.astype(float)\n",
    "\n",
    "    "
   ]
  },
  {
   "cell_type": "code",
   "execution_count": null,
   "metadata": {},
   "outputs": [],
   "source": [
    "crs"
   ]
  },
  {
   "cell_type": "code",
   "execution_count": null,
   "metadata": {},
   "outputs": [],
   "source": [
    "    \n",
    "newK = K_data.copy()\n",
    "\n",
    "\n",
    "\n",
    "outfile = os.path.join(outpath,'rasters/flooded_cells.tif')\n",
    "dataset = rasterio.open(\n",
    "    outfile, \n",
    "    'w', \n",
    "    driver=meta['driver'],\n",
    "    height = newK.shape[0], \n",
    "    width = newK.shape[1],\n",
    "    count=1,\n",
    "    nodata = nodata,\n",
    "    dtype=str(newK.dtype),\n",
    "    crs = crs,\n",
    "    compress='lzw',\n",
    "    transform=meta['transform']\n",
    ")\n",
    "\n",
    "dataset.write(flooded, 1)\n",
    "dataset.close()"
   ]
  },
  {
   "cell_type": "code",
   "execution_count": null,
   "metadata": {},
   "outputs": [],
   "source": [
    "\n",
    "for i in range(m.dis.nlay.array):\n",
    "    plt.figure(figsize=(6,6))\n",
    "    flooded = heads[i,:,:]-m.dis.top.array\n",
    "    flooded[flooded < 0]=np.nan\n",
    "    plt.imshow(flooded)\n",
    "    plt.colorbar()\n",
    "    plt.title('flooded layer {}'.format(i))"
   ]
  },
  {
   "cell_type": "markdown",
   "metadata": {},
   "source": [
    "## checking out idomain"
   ]
  },
  {
   "cell_type": "code",
   "execution_count": null,
   "metadata": {},
   "outputs": [],
   "source": [
    "idm = m.dis.idomain.array"
   ]
  },
  {
   "cell_type": "code",
   "execution_count": null,
   "metadata": {},
   "outputs": [],
   "source": [
    "for i in range(m.dis.nlay.array):\n",
    "    plt.figure(figsize=(6,6))\n",
    "    plt.imshow(idm[i,:,:])\n",
    "    plt.colorbar()\n",
    "    plt.title('idm layer {}'.format(i))"
   ]
  },
  {
   "cell_type": "markdown",
   "metadata": {},
   "source": [
    "## Plot up the model bottoms"
   ]
  },
  {
   "cell_type": "code",
   "execution_count": null,
   "metadata": {},
   "outputs": [],
   "source": [
    "botm = m.dis.botm.array\n",
    "botm[botm<-999] = np.nan\n",
    "for i in range(m.dis.nlay.array):\n",
    "    plt.figure(figsize=(6,6))\n",
    "    plt.imshow(botm[i,:,:])\n",
    "    plt.colorbar()\n",
    "    plt.title('botm layer {}'.format(i))"
   ]
  },
  {
   "cell_type": "markdown",
   "metadata": {},
   "source": [
    "## Plot up the model thicknesses\n"
   ]
  },
  {
   "cell_type": "code",
   "execution_count": null,
   "metadata": {},
   "outputs": [],
   "source": [
    "botm[botm==-9999] = np.nan\n",
    "thick=[]\n",
    "thick.append(m.dis.top.array - m.dis.botm.array[0])\n",
    "for i in range(3):\n",
    "    thick.append(m.dis.botm.array[i]-m.dis.botm.array[i+1])\n",
    "for i in range(m.dis.nlay.array):\n",
    "    plt.figure(figsize=(6,6))\n",
    "    plt.imshow(thick[i])\n",
    "    plt.colorbar()\n",
    "    plt.title('thick layer {}'.format(i))"
   ]
  },
  {
   "cell_type": "code",
   "execution_count": null,
   "metadata": {},
   "outputs": [],
   "source": [
    "thick[-1][thick[-1]<30] = np.nan\n",
    "plt.imshow(thick[-1])\n",
    "plt.colorbar()"
   ]
  },
  {
   "cell_type": "code",
   "execution_count": null,
   "metadata": {},
   "outputs": [],
   "source": []
  }
 ],
 "metadata": {
  "kernelspec": {
   "display_name": "Python 3",
   "language": "python",
   "name": "python3"
  },
  "language_info": {
   "codemirror_mode": {
    "name": "ipython",
    "version": 3
   },
   "file_extension": ".py",
   "mimetype": "text/x-python",
   "name": "python",
   "nbconvert_exporter": "python",
   "pygments_lexer": "ipython3",
   "version": "3.7.6"
  }
 },
 "nbformat": 4,
 "nbformat_minor": 4
}
