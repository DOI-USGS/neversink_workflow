{
 "cells": [
  {
   "cell_type": "code",
   "execution_count": null,
   "metadata": {},
   "outputs": [],
   "source": [
    "import os\n",
    "import numpy as np\n",
    "import pandas as pd\n",
    "import rasterio\n",
    "from rasterio.plot import show\n",
    "import matplotlib.pyplot as plt\n"
   ]
  },
  {
   "cell_type": "markdown",
   "metadata": {},
   "source": [
    "## Notebook to transform lithology zone rasters to k arrays \n",
    "using k values in `Rondout_Neversink_GeologyLookupTable_jhw.xlsx'`"
   ]
  },
  {
   "cell_type": "code",
   "execution_count": null,
   "metadata": {},
   "outputs": [],
   "source": [
    "method = 'mean' # options: 'mean', 'min', 'max', 'original'"
   ]
  },
  {
   "cell_type": "code",
   "execution_count": null,
   "metadata": {},
   "outputs": [],
   "source": [
    "#  read in k value lookup table to df\n",
    "\n",
    "#  original table\n",
    "\n",
    "k_df_original = pd.read_excel(\n",
    "    '../processed_data/Rondout_Neversink_GeologyLookupTable.xlsx',\n",
    "    sheet_name='Sheet2'\n",
    ")\n",
    "k_df_original.index = k_df_original.Lookup_Code\n",
    "\n",
    "#  updated values -- use these for starting values\n",
    "k_df = pd.read_excel(\n",
    "    '../processed_data/Rondout_Neversink_GeologyLookupTable_jhw.xlsx',\n",
    "    sheet_name='Sheet2'\n",
    ")\n",
    "\n",
    "k_df.index = k_df.Lookup_Code\n",
    "\n",
    "if method == 'mean':\n",
    "    print('Using mean K value')\n",
    "    k_df['Kh_ft_d_mean'] = (k_df['Kh_ft_d_lower'] + k_df['Kh_ft_d_upper']) / 2\n",
    "    k_df['Kh_m_d'] = k_df['Kh_ft_d_mean'] * 0.3048\n",
    "\n",
    "if method == 'min':\n",
    "    print('Using MIN K value')\n",
    "    k_df['Kh_m_d'] = k_df['Kh_ft_d_lower'] * 0.3048\n",
    "    \n",
    "if method == 'max':\n",
    "    print('Using MAX K value')\n",
    "    k_df['Kh_m_d'] = k_df['Kh_ft_d_lower'] * 0.3048\n",
    "\n",
    "if method == 'original':\n",
    "    print('Using original K values')\n",
    "    k_df = k_df_original.copy()\n",
    "    \n",
    "    \n",
    "k_df"
   ]
  },
  {
   "cell_type": "markdown",
   "metadata": {},
   "source": [
    "### Just out of curiousity, plot the difference between new and original K values"
   ]
  },
  {
   "cell_type": "code",
   "execution_count": null,
   "metadata": {},
   "outputs": [],
   "source": [
    "compare = k_df.join(k_df_original, rsuffix='_original')\n",
    "compare = compare[['Geology_Type', 'Kh_m_d', 'Kh_m_d_original']]\n",
    "compare['diff'] = compare['Kh_m_d'] - compare['Kh_m_d_original']\n",
    "compare"
   ]
  },
  {
   "cell_type": "code",
   "execution_count": null,
   "metadata": {},
   "outputs": [],
   "source": [
    "def zone2k(layer,k_df,new_version=True):\n",
    "    # function to make horizontal and vertical k rasters from lith rasters \n",
    "    if new_version:\n",
    "        k_str = '../source_data/Shapefiles/Layers_and_Zones/K_ZONES/L{}_K_Zone_50mGrid.tif'\n",
    "    else:\n",
    "        k_str = '../source_data/Shapefiles/Layers_and_Zones/K_ZONES/V2_Layer{}_K.tif'\n",
    "    \n",
    "    print('    loading: {}'.format(k_str.format(layer+1)))\n",
    "    \n",
    "    with rasterio.open(k_str.format(layer+1)) as src:\n",
    "        crs = src.crs\n",
    "        meta = src.meta\n",
    "        nodata = meta['nodata']\n",
    "        K_tuple = src.read(1, masked=True),\n",
    "        K_data = K_tuple[0].data.astype(float)\n",
    "\n",
    "        \n",
    "    newK = K_data.copy()\n",
    "\n",
    "\n",
    "    for idx in k_df.index:\n",
    "        newK[newK==idx] = k_df.loc[idx].Kh_m_d   \n",
    "    newKv = newK / 10.0\n",
    "\n",
    "    #  write out newK to geotiff in processed_input dir\n",
    "\n",
    "    outfile = 'Layer{}_Kh.tif'.format(layer+1)\n",
    "    outdir = '../processed_data/'\n",
    "\n",
    "    outpath = os.path.join(outdir, outfile)\n",
    "\n",
    "    dataset = rasterio.open(\n",
    "        outpath, \n",
    "        'w', \n",
    "        driver=meta['driver'],\n",
    "        height = newK.shape[0], \n",
    "        width = newK.shape[1],\n",
    "        count=1,\n",
    "        nodata = nodata,\n",
    "        dtype=str(newK.dtype),\n",
    "        crs = crs,\n",
    "        compress='lzw',\n",
    "        transform=meta['transform']\n",
    "    )\n",
    "    \n",
    "    print('    writing: {}'.format(outpath))\n",
    "    dataset.write(newK, 1)\n",
    "    dataset.close()\n",
    "\n",
    "    # write out newKv to geotiff in processed_input dir\n",
    "\n",
    "    outfile = 'Layer{}_Kv.tif'.format(layer+1)\n",
    "    outdir = '../processed_data/'\n",
    "\n",
    "    outpath = os.path.join(outdir, outfile)\n",
    "\n",
    "    dataset = rasterio.open(\n",
    "        outpath, \n",
    "        'w', \n",
    "        driver=meta['driver'],\n",
    "        height = newKv.shape[0], \n",
    "        width = newKv.shape[1],\n",
    "        count=1,\n",
    "        nodata = nodata / 10.0,\n",
    "        dtype=str(newKv.dtype),\n",
    "        crs = crs,\n",
    "        compress='lzw',\n",
    "        transform=meta['transform']\n",
    "    )\n",
    "\n",
    "    print('    writing: {}'.format(outpath))\n",
    "    dataset.write(newKv, 1)\n",
    "    dataset.close()"
   ]
  },
  {
   "cell_type": "markdown",
   "metadata": {},
   "source": [
    "### Make K arrays, save to processed_data"
   ]
  },
  {
   "cell_type": "code",
   "execution_count": null,
   "metadata": {},
   "outputs": [],
   "source": [
    "for i in range(4):\n",
    "    print('now on layer {}'.format(i + 1))\n",
    "    zone2k(i, k_df)"
   ]
  },
  {
   "cell_type": "code",
   "execution_count": null,
   "metadata": {},
   "outputs": [],
   "source": []
  },
  {
   "cell_type": "code",
   "execution_count": null,
   "metadata": {},
   "outputs": [],
   "source": []
  },
  {
   "cell_type": "code",
   "execution_count": null,
   "metadata": {},
   "outputs": [],
   "source": []
  }
 ],
 "metadata": {
  "kernelspec": {
   "display_name": "Python 3",
   "language": "python",
   "name": "python3"
  },
  "language_info": {
   "codemirror_mode": {
    "name": "ipython",
    "version": 3
   },
   "file_extension": ".py",
   "mimetype": "text/x-python",
   "name": "python",
   "nbconvert_exporter": "python",
   "pygments_lexer": "ipython3",
   "version": "3.9.2"
  }
 },
 "nbformat": 4,
 "nbformat_minor": 4
}
