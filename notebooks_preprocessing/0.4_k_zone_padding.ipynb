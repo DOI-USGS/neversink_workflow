{
 "cells": [
  {
   "cell_type": "code",
   "execution_count": null,
   "metadata": {},
   "outputs": [],
   "source": [
    "import os\n",
    "import json\n",
    "import numpy as np\n",
    "import rasterio\n",
    "import matplotlib.pyplot as plt"
   ]
  },
  {
   "cell_type": "markdown",
   "metadata": {},
   "source": [
    "## Notebook to pad NYWSC K zone rasters so that they're in the right dimensions"
   ]
  },
  {
   "cell_type": "code",
   "execution_count": null,
   "metadata": {},
   "outputs": [],
   "source": [
    "mf6_dir = '../neversink_mf6/'"
   ]
  },
  {
   "cell_type": "markdown",
   "metadata": {},
   "source": [
    "read in L1_K_Zone_50mGrid.tif just to check out dimension information -- all NYWSC layers have the same dimensions"
   ]
  },
  {
   "cell_type": "code",
   "execution_count": null,
   "metadata": {},
   "outputs": [],
   "source": [
    "k_orig = '../source_data/Shapefiles/Layers_and_Zones/K_ZONES/L1_K_Zone_50mGrid.tif'\n",
    "\n",
    "with rasterio.open(k_orig) as src:\n",
    "        crs = src.crs\n",
    "        meta = src.meta\n",
    "        nodata = meta['nodata']\n",
    "        K_tuple = src.read(1)\n",
    "        K_data = K_tuple[0]"
   ]
  },
  {
   "cell_type": "code",
   "execution_count": null,
   "metadata": {},
   "outputs": [],
   "source": [
    "#  original dimensions of NYWSC k layers\n",
    "print('klayer nrow: {}'.format(meta['height']))\n",
    "print('model ncol: {}'.format(meta['width']))"
   ]
  },
  {
   "cell_type": "code",
   "execution_count": null,
   "metadata": {},
   "outputs": [],
   "source": [
    "with open('../neversink_mf6/neversink_grid.json') as f:\n",
    "    grid_data = json.load(f)\n",
    "    print('model nrow: {}'.format(grid_data['nrow']))\n",
    "    print('model ncol: {}'.format(grid_data['ncol']))"
   ]
  },
  {
   "cell_type": "code",
   "execution_count": null,
   "metadata": {},
   "outputs": [],
   "source": [
    "print('need to expand rows by {} cells'.format(grid_data['nrow'] - meta['height']))\n",
    "print('need to expand columns by {} cells'.format(grid_data['ncol'] - meta['width']))"
   ]
  },
  {
   "cell_type": "markdown",
   "metadata": {},
   "source": [
    "### Loop through rasters, pad, and save padded arrays as `.dat` files"
   ]
  },
  {
   "cell_type": "code",
   "execution_count": null,
   "metadata": {},
   "outputs": [],
   "source": [
    "k_orig = '../source_data/Shapefiles/Layers_and_Zones/K_ZONES/L{}_K_Zone_50mGrid.tif'\n",
    "\n",
    "for i in range(4):\n",
    "    with rasterio.open(k_orig.format(i+1)) as src:\n",
    "        K_data = src.read(1)\n",
    "    \n",
    "    padded_k = np.pad(K_data, ((9, 10), (15, 5)), 'minimum')\n",
    "    \n",
    "    #  check the two layers\n",
    "\n",
    "#     print('K_data shape: {}'.format(K_data.shape))\n",
    "#     print('padded_k shape: {}'.format(padded_k.shape))\n",
    "    \n",
    "#     print('num K_data unique vals: {}'.format(len(np.unique(K_data))))\n",
    "#     print('num padded_K unique vals: {}'.format(len(np.unique(padded_k))))\n",
    "    \n",
    "#     plt.imshow(K_data)\n",
    "#     plt.show()\n",
    "    \n",
    "#     plt.imshow(padded_k)\n",
    "#     plt.show()\n",
    "\n",
    "    np.savetxt('../processed_data/padded_L{}_K_Zone_50mGrid.dat'.format(i), padded_k, fmt='%i')"
   ]
  },
  {
   "cell_type": "markdown",
   "metadata": {},
   "source": [
    "### Check that the new k zone arrays line up with model idomains \n",
    "- specifically, make sure that -128 (k zone nodata value) doesn't show up when the k zones are mulitiplied by idomain\n",
    "- negative values in layers 2 and 3 are from pass through cells and not missing k data (values = -k)"
   ]
  },
  {
   "cell_type": "code",
   "execution_count": null,
   "metadata": {},
   "outputs": [],
   "source": [
    "for i in range(4):\n",
    "    idmn = np.loadtxt('../neversink_mf6/idomain_{:03d}.dat'.format(i))\n",
    "    k_pad = np.loadtxt('../processed_data/padded_L{}_K_Zone_50mGrid.dat'.format(i))\n",
    "    \n",
    "#     print('idmn shape: {}'.format(idmn.shape))\n",
    "#     print('k_pad shape: {}'.format(k_pad.shape))\n",
    "\n",
    "    check = idmn * k_pad\n",
    "    check[check >= 0] = np.nan\n",
    "    print('layer {}'.format(i))\n",
    "    \n",
    "    fig, (ax0, ax1, ax2) = plt.subplots(ncols=3, figsize=(10,5))\n",
    "    ax0.imshow(idmn)\n",
    "    ax1.imshow(k_pad)\n",
    "    ax2.imshow(check)\n",
    "    plt.show()"
   ]
  },
  {
   "cell_type": "code",
   "execution_count": null,
   "metadata": {},
   "outputs": [],
   "source": [
    "for i in range(4):\n",
    "    idmn = np.loadtxt('../neversink_mf6/idomain_{:03d}.dat'.format(i))\n",
    "    k_pad = np.loadtxt('../processed_data/padded_L{}_K_Zone_50mGrid.dat'.format(i))\n",
    "    \n",
    "#     print('idmn shape: {}'.format(idmn.shape))\n",
    "#     print('k_pad shape: {}'.format(k_pad.shape))\n",
    "\n",
    "    check = idmn * k_pad\n",
    "    check[check >= 0] = np.nan\n",
    "    print('layer {}'.format(i))\n",
    "    \n",
    "    plt.figure(figsize=(6,6))\n",
    "    plt.imshow(check)\n",
    "    plt.colorbar()\n",
    "    plt.show()"
   ]
  },
  {
   "cell_type": "code",
   "execution_count": null,
   "metadata": {},
   "outputs": [],
   "source": []
  },
  {
   "cell_type": "code",
   "execution_count": null,
   "metadata": {},
   "outputs": [],
   "source": []
  },
  {
   "cell_type": "code",
   "execution_count": null,
   "metadata": {},
   "outputs": [],
   "source": []
  }
 ],
 "metadata": {
  "kernelspec": {
   "display_name": "Python 3",
   "language": "python",
   "name": "python3"
  },
  "language_info": {
   "codemirror_mode": {
    "name": "ipython",
    "version": 3
   },
   "file_extension": ".py",
   "mimetype": "text/x-python",
   "name": "python",
   "nbconvert_exporter": "python",
   "pygments_lexer": "ipython3",
   "version": "3.8.6"
  }
 },
 "nbformat": 4,
 "nbformat_minor": 4
}
