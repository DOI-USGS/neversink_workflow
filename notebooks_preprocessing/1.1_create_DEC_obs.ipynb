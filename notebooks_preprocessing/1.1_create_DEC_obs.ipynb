{
 "cells": [
  {
   "cell_type": "code",
   "execution_count": null,
   "metadata": {},
   "outputs": [],
   "source": [
    "import os\n",
    "import numpy as np\n",
    "import pandas as pd\n",
    "import geopandas as gp\n",
    "import matplotlib.pyplot as plt\n",
    "import rasterio"
   ]
  },
  {
   "cell_type": "markdown",
   "metadata": {},
   "source": [
    "# Notebook to generate head obs from DEC wells\n",
    "\n",
    "### Read in DEC well shapefiles (from SB folder - these have been added to SB) and basin boundary for clipping"
   ]
  },
  {
   "cell_type": "code",
   "execution_count": null,
   "metadata": {},
   "outputs": [],
   "source": [
    "bound_file = '../sciencebase/Shapefiles/Extents/Model_Extent_HUC12.shp'\n",
    "dec_wells_file = '../sciencebase/Shapefiles/Wells/DEC_wells_ALL_NY.shp'\n",
    "dec_water_wells_file = '../sciencebase/Shapefiles/Wells/waterwells.shp'"
   ]
  },
  {
   "cell_type": "code",
   "execution_count": null,
   "metadata": {},
   "outputs": [],
   "source": [
    "bound = gp.read_file(bound_file)\n",
    "bound.crs"
   ]
  },
  {
   "cell_type": "code",
   "execution_count": null,
   "metadata": {},
   "outputs": [],
   "source": [
    "# this is a BIG shapefile! \n",
    "\n",
    "dec_wells = gp.read_file(dec_wells_file)\n",
    "dec_wells.crs"
   ]
  },
  {
   "cell_type": "code",
   "execution_count": null,
   "metadata": {},
   "outputs": [],
   "source": [
    "water_wells = gp.read_file(dec_water_wells_file)\n",
    "water_wells.crs"
   ]
  },
  {
   "cell_type": "markdown",
   "metadata": {},
   "source": [
    "### Reproject to model CRS: EPSG 5070"
   ]
  },
  {
   "cell_type": "code",
   "execution_count": null,
   "metadata": {},
   "outputs": [],
   "source": [
    "bound = bound.to_crs(epsg=5070)\n",
    "dec_wells = dec_wells.to_crs(epsg=5070)\n",
    "water_wells = water_wells.to_crs(epsg=5070)"
   ]
  },
  {
   "cell_type": "markdown",
   "metadata": {},
   "source": [
    "### Clip wells to model boundary (and plot to check)"
   ]
  },
  {
   "cell_type": "code",
   "execution_count": null,
   "metadata": {},
   "outputs": [],
   "source": [
    "dec_wells_clip = gp.clip(dec_wells, bound)\n",
    "water_wells_clip = gp.clip(water_wells, bound)"
   ]
  },
  {
   "cell_type": "code",
   "execution_count": null,
   "metadata": {},
   "outputs": [],
   "source": [
    "fig, ax = plt.subplots(figsize=(10,10))\n",
    "bound.plot(ax=ax, edgecolor='k', facecolor='none')\n",
    "dec_wells_clip.plot(ax=ax)\n",
    "plt.title('DEC wells from provided by NYWSC on 7/16/2020')\n",
    "plt.show()"
   ]
  },
  {
   "cell_type": "code",
   "execution_count": null,
   "metadata": {},
   "outputs": [],
   "source": [
    "fig, ax = plt.subplots(figsize=(10,10))\n",
    "bound.plot(ax=ax, edgecolor='k', facecolor='none')\n",
    "water_wells_clip.plot(ax=ax, c='red')\n",
    "plt.title('DEC wells from water wells database')\n",
    "plt.show()"
   ]
  },
  {
   "cell_type": "markdown",
   "metadata": {},
   "source": [
    "## Combine the the two DEC well dataframes and work up into an obs file"
   ]
  },
  {
   "cell_type": "code",
   "execution_count": null,
   "metadata": {},
   "outputs": [],
   "source": [
    "water_wells_clip['group'] = 'dec_water_wells'\n",
    "water_wells_clip['obsnme'] = water_wells_clip['DEC_Well_N'] #  make common obsname"
   ]
  },
  {
   "cell_type": "code",
   "execution_count": null,
   "metadata": {},
   "outputs": [],
   "source": [
    "dec_wells_clip['group'] = 'dec_from_nywsc'\n",
    "dec_wells_clip['obsnme'] = dec_wells_clip['WellNO'] #  make common obsname"
   ]
  },
  {
   "cell_type": "code",
   "execution_count": null,
   "metadata": {},
   "outputs": [],
   "source": [
    "dec_wells_all = dec_wells_clip.append(water_wells_clip, ignore_index=True)\n",
    "dec_wells_all"
   ]
  },
  {
   "cell_type": "code",
   "execution_count": null,
   "metadata": {},
   "outputs": [],
   "source": [
    "dec_wells_all_working = dec_wells_all.copy()\n",
    "\n",
    "#  remove all wells with null GW_Depth\n",
    "dec_wells_all_working = dec_wells_all_working.loc[dec_wells_all_working.GW_Depth.notnull()]\n",
    "\n",
    "#  assume that zeros are null? Maybe not always the case but hard to know the zeros are real\n",
    "dec_wells_all_working = dec_wells_all_working.loc[dec_wells_all_working.GW_Depth.astype(float) != 0]\n",
    "\n",
    "#  finally, drop the 55 duplicates in 'dec_water_wells' \n",
    "dec_wells_all_working = dec_wells_all_working.drop_duplicates(subset=['obsnme'], keep='first') "
   ]
  },
  {
   "cell_type": "markdown",
   "metadata": {},
   "source": [
    "Land surface elevations in the DEC wells table look pretty unreliable. Want to get reasonable land surface elevations. Extract pixel values from land surface elevation raster at the location of each well. This probably improves land surface elevation values, from which we can calculate better groundwater elevations from the supplied depth to water values... assuming those depth to water values are at all realiable."
   ]
  },
  {
   "cell_type": "code",
   "execution_count": null,
   "metadata": {},
   "outputs": [],
   "source": [
    "def raster_point_value(input_raster, gdf):\n",
    "    \"\"\"\n",
    "    Extracts raster pixel value from the well/point locations listed in a geodataframe.\n",
    "\n",
    "    Properties\n",
    "    ------------------------------\n",
    "    input_raster: str, path to categorical landuse raster file for analysis\n",
    "    gdf: geopandas geodataframe, contains of geometry of wells/points\n",
    "\n",
    "    \"\"\"\n",
    "\n",
    "    #  extract raster crs\n",
    "    with rasterio.open(input_raster) as src:\n",
    "        raster_crs = src.crs\n",
    "\n",
    "    #  transform geodataframe to raster crs\n",
    "    gdf_reproj = gdf.to_crs(raster_crs)\n",
    "\n",
    "    #  get a list of coordinate tuples for each row in a geopandas dataframe that contains point\n",
    "    x_coords = gdf_reproj['geometry'].x.to_list()\n",
    "    y_coords = gdf_reproj['geometry'].y.to_list()\n",
    "    coords = list(zip(x_coords, y_coords))\n",
    "\n",
    "    #  extract raster cell values at well/point coordinates\n",
    "    with rasterio.open(input_raster) as src:\n",
    "        point_values = list(np.concatenate([v for v in src.sample(coords)], axis=0))\n",
    "\n",
    "    return point_values"
   ]
  },
  {
   "cell_type": "code",
   "execution_count": null,
   "metadata": {},
   "outputs": [],
   "source": [
    "input_raster = '../sciencebase/Shapefiles/top_50m_from_lidar.tif'\n",
    "\n",
    "#  use function above to get list of well elevations (m)\n",
    "well_ls_elevs_m = raster_point_value(input_raster, dec_wells_all_working)\n",
    "\n",
    "#  add computed well elevations as column in DEC wells df\n",
    "dec_wells_all_working['ls_elev_m'] = well_ls_elevs_m\n",
    "\n",
    "#  compute groundwater elevations in meters, using DEC supplied DTW in ft and computed LSE values in meters\n",
    "dec_wells_all_working['gw_elev_m'] = dec_wells_all_working['ls_elev_m'] - (dec_wells_all_working['GW_Depth'].astype(float) * 0.3048)"
   ]
  },
  {
   "cell_type": "code",
   "execution_count": null,
   "metadata": {},
   "outputs": [],
   "source": [
    "#  add \"x\" and \"y\" columns in CRS of model for mfsetup\n",
    "\n",
    "dec_wells_all_working['x'] = dec_wells_all_working.geometry.x\n",
    "dec_wells_all_working['y'] = dec_wells_all_working.geometry.y"
   ]
  },
  {
   "cell_type": "code",
   "execution_count": null,
   "metadata": {},
   "outputs": [],
   "source": [
    "dec_wells_all_working['group'].unique().tolist()"
   ]
  },
  {
   "cell_type": "markdown",
   "metadata": {},
   "source": [
    "**Looks like in the end we clipped out all of the DEC water wells and are only using the DEC wells supplied by NYWSC**"
   ]
  },
  {
   "cell_type": "code",
   "execution_count": null,
   "metadata": {},
   "outputs": [],
   "source": [
    "dec_wells_all_working.to_csv('../obs_data/NY_DEC_GW_sites.csv')"
   ]
  },
  {
   "cell_type": "code",
   "execution_count": null,
   "metadata": {},
   "outputs": [],
   "source": []
  }
 ],
 "metadata": {
  "kernelspec": {
   "display_name": "Python 3",
   "language": "python",
   "name": "python3"
  },
  "language_info": {
   "codemirror_mode": {
    "name": "ipython",
    "version": 3
   },
   "file_extension": ".py",
   "mimetype": "text/x-python",
   "name": "python",
   "nbconvert_exporter": "python",
   "pygments_lexer": "ipython3",
   "version": "3.7.6"
  }
 },
 "nbformat": 4,
 "nbformat_minor": 4
}
