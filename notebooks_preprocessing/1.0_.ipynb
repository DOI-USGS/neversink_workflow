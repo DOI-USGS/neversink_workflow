{
 "cells": [
  {
   "cell_type": "code",
   "execution_count": null,
   "metadata": {},
   "outputs": [],
   "source": [
    "import numpy as np\n",
    "import pandas as pd\n",
    "import matplotlib.pyplot as plt\n",
    "from matplotlib.backends.backend_pdf import PdfPages\n",
    "import fiona\n",
    "from shapely.geometry import Point, shape\n",
    "from gisutils import df2shp, project\n",
    "from pydrograph import Nwis\n",
    "import geopandas as gp"
   ]
  },
  {
   "cell_type": "markdown",
   "metadata": {},
   "source": [
    "# Notebook to extract NWIS data from model area and make obs tables\n",
    "\n",
    "## 1. Create model bounding box and retrieve data using the excellent `pydrogrpah`"
   ]
  },
  {
   "cell_type": "code",
   "execution_count": null,
   "metadata": {},
   "outputs": [],
   "source": [
    "extent_shp = '../processed_input/extend_15km_buffer.shp'\n",
    "epsg = 5070"
   ]
  },
  {
   "cell_type": "code",
   "execution_count": null,
   "metadata": {},
   "outputs": [],
   "source": [
    "extent_poly = shape(fiona.open(extent_shp).next()['geometry'])\n",
    "extent_poly_ll = project(extent_poly, \"+init=epsg:{}\".format(epsg), \"+init=epsg:4269\")\n",
    "extent_poly_ll.bounds"
   ]
  },
  {
   "cell_type": "code",
   "execution_count": null,
   "metadata": {},
   "outputs": [],
   "source": [
    "nwis = Nwis(extent=extent_poly_ll)"
   ]
  },
  {
   "cell_type": "markdown",
   "metadata": {},
   "source": [
    "## 2. Get all daily values"
   ]
  },
  {
   "cell_type": "code",
   "execution_count": null,
   "metadata": {},
   "outputs": [],
   "source": [
    "all_dvs = nwis.get_siteinfo('daily_values')"
   ]
  },
  {
   "cell_type": "code",
   "execution_count": null,
   "metadata": {},
   "outputs": [],
   "source": [
    "all_dvs.index = ['{:08d}'.format(i) for i in all_dvs.index]\n",
    "all_dvs"
   ]
  },
  {
   "cell_type": "markdown",
   "metadata": {},
   "source": [
    "### 2.1 Export daily values to shapefile"
   ]
  },
  {
   "cell_type": "code",
   "execution_count": null,
   "metadata": {},
   "outputs": [],
   "source": [
    "df2shp(all_dvs,'../obs_data/NWIS_DV_sites.shp', epsg=4269)"
   ]
  },
  {
   "cell_type": "markdown",
   "metadata": {},
   "source": [
    "### 2.2 Create and export daily values obs data .csv "
   ]
  },
  {
   "cell_type": "code",
   "execution_count": null,
   "metadata": {},
   "outputs": [],
   "source": [
    "all_dvs_gdf = gp.GeoDataFrame(all_dvs, crs=\"EPSG:4269\", geometry=all_dvs.geometry)"
   ]
  },
  {
   "cell_type": "markdown",
   "metadata": {},
   "source": [
    "**Plot with buffer to make sure geometry was defined correctly**"
   ]
  },
  {
   "cell_type": "code",
   "execution_count": null,
   "metadata": {},
   "outputs": [],
   "source": [
    "x,y = extent_poly_ll.exterior.xy\n",
    "fig, ax = plt.subplots()\n",
    "plt.plot(x,y)\n",
    "all_dvs_gdf.plot(ax=ax, c='red')\n",
    "plt.show()"
   ]
  },
  {
   "cell_type": "markdown",
   "metadata": {},
   "source": [
    "**Reproject gdf to match model CRS (EPSG 5070); add x, y, and obsname columns for `mfsetup` obs block,**"
   ]
  },
  {
   "cell_type": "code",
   "execution_count": null,
   "metadata": {},
   "outputs": [],
   "source": [
    "all_dvs_gdf_reproj = all_dvs_gdf.to_crs(epsg=epsg)\n",
    "all_dvs_gdf_reproj['x'] = all_dvs_gdf_reproj.geometry.x\n",
    "all_dvs_gdf_reproj['y'] = all_dvs_gdf_reproj.geometry.y\n",
    "all_dvs_gdf_reproj['obsprefix'] = all_dvs_gdf_reproj.index"
   ]
  },
  {
   "cell_type": "code",
   "execution_count": null,
   "metadata": {},
   "outputs": [],
   "source": [
    "all_dvs_gdf_reproj"
   ]
  },
  {
   "cell_type": "code",
   "execution_count": null,
   "metadata": {},
   "outputs": [],
   "source": [
    "all_dvs_gdf_reproj.to_csv('../obs_data/NWIS_DV_sites.csv')"
   ]
  },
  {
   "cell_type": "markdown",
   "metadata": {},
   "source": [
    "## 3. Get groundwater daily values"
   ]
  },
  {
   "cell_type": "code",
   "execution_count": null,
   "metadata": {},
   "outputs": [],
   "source": [
    "gw_dv = nwis.get_siteinfo('gwdv')\n",
    "gw_dv"
   ]
  },
  {
   "cell_type": "code",
   "execution_count": null,
   "metadata": {},
   "outputs": [],
   "source": [
    "#  pydrograh gw dv data retrieval not working at the momnet. do it manually for now -- see below:\n",
    "\n",
    "# gw_data = nwis.get_all_dvs([gw_site], \n",
    "#                            parameter_code='72019',\n",
    "#                            start_date='2009-01-01',\n",
    "#                            end_date='2016-01-01'\n",
    "#                           )\n",
    "\n",
    "# gw_data"
   ]
  },
  {
   "cell_type": "markdown",
   "metadata": {},
   "source": [
    "## Data pulled mannualy from the site in the model ` 414421074222801` using url:\n",
    "\n",
    "https://waterdata.usgs.gov/nwis/dv?cb_72019=on&format=rdb&site_no=414525074360601&referred_module=sw&period=&begin_date=2009-01-01&end_date=2016-01-01\n",
    "\n",
    "saved data at '../obs_data/nwis_gw_dv_raw.txt'"
   ]
  },
  {
   "cell_type": "code",
   "execution_count": null,
   "metadata": {},
   "outputs": [],
   "source": [
    "gw_data = pd.read_csv('../obs_data/nwis_gw_dv_raw.txt', skiprows=17, delim_whitespace=True, comment='#')\n",
    "gw_data = gw_data.groupby('site_no').mean()\n",
    "gw_data = gw_data.rename(columns={'106190_72019_00003':'ave_dtw_ft'})\n",
    "gw_data = gw_data.join(gw_dv[['alt_va']])\n",
    "gw_data['gw_elev_ft'] = gw_data['alt_va'] - gw_data['ave_dtw_ft']\n",
    "gw_data['gw_elev_m'] = gw_data['gw_elev_ft'] * 0.3048\n",
    "gw_data.to_csv('../obs_data/NWIS_GW_DV_data.csv')\n",
    "gw_data"
   ]
  },
  {
   "cell_type": "markdown",
   "metadata": {},
   "source": [
    "### 3.1 Export groundwater daily values to shapefile"
   ]
  },
  {
   "cell_type": "code",
   "execution_count": null,
   "metadata": {},
   "outputs": [],
   "source": [
    "df2shp(gw_dv,'../obs_data/NWIS_GW_DV_sites.shp', epsg=4269)"
   ]
  },
  {
   "cell_type": "markdown",
   "metadata": {},
   "source": [
    "### 3.2 Create and export groundwater daily values obs data .csv "
   ]
  },
  {
   "cell_type": "code",
   "execution_count": null,
   "metadata": {},
   "outputs": [],
   "source": [
    "gw_dv_gdf = gp.GeoDataFrame(gw_dv, crs=\"EPSG:4269\", geometry=gw_dv.geometry)\n",
    "\n",
    "fig, ax = plt.subplots()\n",
    "plt.plot(x,y)\n",
    "gw_dv_gdf.plot(ax=ax, c='red')\n",
    "plt.show()"
   ]
  },
  {
   "cell_type": "code",
   "execution_count": null,
   "metadata": {},
   "outputs": [],
   "source": [
    "gw_dv_gdf_reproj = gw_dv_gdf.to_crs(epsg=epsg)\n",
    "gw_dv_gdf_reproj['x'] = gw_dv_gdf_reproj.geometry.x\n",
    "gw_dv_gdf_reproj['y'] = gw_dv_gdf_reproj.geometry.y\n",
    "gw_dv_gdf_reproj['obsprefix'] = gw_dv_gdf_reproj.index\n",
    "gw_dv_gdf_reproj"
   ]
  },
  {
   "cell_type": "code",
   "execution_count": null,
   "metadata": {},
   "outputs": [],
   "source": [
    "gw_dv_gdf_reproj.to_csv('../obs_data/NWIS_GW_DV_sites.csv', index=False)"
   ]
  },
  {
   "cell_type": "markdown",
   "metadata": {},
   "source": [
    "# 4. Get field measurements"
   ]
  },
  {
   "cell_type": "code",
   "execution_count": null,
   "metadata": {},
   "outputs": [],
   "source": [
    "nwis_fm = nwis.get_siteinfo('field_measurements')\n",
    "nwis_fm"
   ]
  },
  {
   "cell_type": "code",
   "execution_count": null,
   "metadata": {},
   "outputs": [],
   "source": [
    "#  get rid of DIVERSION FROM NEVERSINK RESERVOIR NY -- 01435800; not a useful streamflow measurement\n",
    "nwis_fm = nwis_fm.loc[nwis_fm.site_tp_cd == 'ST']\n",
    "\n",
    "nwis_fm.index = ['{:08d}'.format(i) for i in nwis_fm.index]\n",
    "nwis_fm.shape"
   ]
  },
  {
   "cell_type": "markdown",
   "metadata": {},
   "source": [
    "### 4.1 Export field measurements to shapefile"
   ]
  },
  {
   "cell_type": "code",
   "execution_count": null,
   "metadata": {},
   "outputs": [],
   "source": [
    "df2shp(nwis_fm,'../obs_data/NWIS_FieldMeas_sites.shp', epsg=4269)"
   ]
  },
  {
   "cell_type": "markdown",
   "metadata": {},
   "source": [
    "### 4.2 Create and export field measurements obs data .csv "
   ]
  },
  {
   "cell_type": "code",
   "execution_count": null,
   "metadata": {},
   "outputs": [],
   "source": [
    "nwis_fm_gdf = gp.GeoDataFrame(nwis_fm, crs=\"EPSG:4269\", geometry=nwis_fm.geometry)\n",
    "\n",
    "fig, ax = plt.subplots()\n",
    "plt.plot(x,y)\n",
    "nwis_fm_gdf.plot(ax=ax, c='red')\n",
    "plt.show()"
   ]
  },
  {
   "cell_type": "code",
   "execution_count": null,
   "metadata": {},
   "outputs": [],
   "source": [
    "nwis_fm_gdf_reproj = nwis_fm_gdf.to_crs(epsg=epsg)\n",
    "nwis_fm_gdf_reproj['x'] = nwis_fm_gdf_reproj.geometry.x\n",
    "nwis_fm_gdf_reproj['y'] = nwis_fm_gdf_reproj.geometry.y\n",
    "nwis_fm_gdf_reproj['obsprefix'] = nwis_fm_gdf_reproj.index"
   ]
  },
  {
   "cell_type": "code",
   "execution_count": null,
   "metadata": {},
   "outputs": [],
   "source": [
    "gw_dv_gdf_reproj.to_csv('../obs_data/NWIS_FieldMeas_sites.csv', index=False)"
   ]
  },
  {
   "cell_type": "code",
   "execution_count": null,
   "metadata": {},
   "outputs": [],
   "source": []
  }
 ],
 "metadata": {
  "kernelspec": {
   "display_name": "Python 3",
   "language": "python",
   "name": "python3"
  },
  "language_info": {
   "codemirror_mode": {
    "name": "ipython",
    "version": 3
   },
   "file_extension": ".py",
   "mimetype": "text/x-python",
   "name": "python",
   "nbconvert_exporter": "python",
   "pygments_lexer": "ipython3",
   "version": "3.7.6"
  }
 },
 "nbformat": 4,
 "nbformat_minor": 4
}
