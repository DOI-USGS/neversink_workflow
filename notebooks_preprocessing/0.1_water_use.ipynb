{
 "cells": [
  {
   "cell_type": "code",
   "execution_count": null,
   "metadata": {},
   "outputs": [],
   "source": [
    "import os\n",
    "import pandas as pd\n",
    "import geopandas as gp\n",
    "import matplotlib.pyplot as plt"
   ]
  },
  {
   "cell_type": "markdown",
   "metadata": {},
   "source": [
    "# UPDATE 9.3.2020: Revised data from NYWSC. Now making well file both for current SS rates and max capacity"
   ]
  },
  {
   "cell_type": "markdown",
   "metadata": {},
   "source": [
    "Here is the readme from the OneDrive folder:\n",
    "\n",
    "## ReadMe: WATERUSE_RONDOUT_NEVERSINK_2010_2015_Avg     5/4/2020\n",
    "\n",
    "This shapefile includes all wells in our study area that have a pumpage associated.\n",
    "\n",
    "### Fields:\n",
    "\n",
    "__ID_Well__ = WWR# and Well name joined together\n",
    "\n",
    "__Type__ = Type of well (all groundwater)\n",
    "\n",
    "__Facility__ = WWR# (obtained this from SWUDS)\n",
    "\n",
    "__Site_Name__ = Well name\n",
    "\n",
    "__X__ = Longitude (NAD83)\n",
    "\n",
    "__Y__ = Latitude (NAD83)\n",
    "\n",
    "__Location_C__ = Location of well, or in situations where well location is unknown, defaulted to factility location.\n",
    "\n",
    "__Avg_Mdg__ = 2010-2015 average pumpaging per well, in MGD. Pumping rates were obtained by distributing total facility pumpage amongst all wells within facility (Percentage determined by well capacities)\n",
    "\n",
    "__Well_Depth__ = Well depth, in feet\n",
    "\n",
    "__NWIS_Link__ = Well number in NWIS (these may not be 100% accurate)\n",
    "\n",
    "__NWIS_ID__ = Site ID in NWIS (these may not be 100% accurate)\n",
    "\n",
    "__WellDMeter__ = Well depth, in meters\n",
    "\n",
    "__Stop_Meter__ = Screen top elevation, in meters\n",
    "\n",
    "__Sbot_Meter__ = Screen bottom elevation, in meters\n",
    "\n",
    "__Comments__ = Any comments pertinent to the well\n",
    "\n",
    "__RASTERVALU__ = Lidar elevation of well, in meters\n",
    "\n",
    "__WellType__ = Priority (as identified by DEC), Not priority (as identified by DEC), and Other (additional pumping wells from SWUDS)\n",
    "\n",
    "\n",
    "### READ THIS\n",
    "\n",
    "\n",
    "It is important to note that all rates, locations, and screen tops and bottoms are subject to change.\n",
    "Only locations for priority wells have been checked for accuracy. \n",
    "Screen tops and bottoms were all unknown.  Well screen defaulted to bottom of well, as a 10 ft screen. We may have slightly adjusted this to fit the screen entirely in a specific layer.\n",
    "Well shapefile currently contains both bedrock wells and non-bedrock wells. I'm not sure if we are excluding bedrock wells from the shapefile. "
   ]
  },
  {
   "cell_type": "code",
   "execution_count": null,
   "metadata": {},
   "outputs": [],
   "source": [
    "#wu_file = 'WATERUSE_RONDOUT_NEVERSINK_2010_2015_Avg.shp'\n",
    "#wu_dir = '../sciencebase/Shapefiles/WaterUse_2010_2015Average/'\n",
    "wu_file = 'WaterUse_With_Max_Capacities.shp'\n",
    "wu_dir = '../sciencebase/Shapefiles/WaterUse/'\n",
    "\n",
    "wu_path = os.path.join(wu_dir, wu_file)\n",
    "\n",
    "boundary = gp.read_file('../sciencebase/Shapefiles/Extents/Model_Extent_HUC12.shp')"
   ]
  },
  {
   "cell_type": "code",
   "execution_count": null,
   "metadata": {},
   "outputs": [],
   "source": [
    "gdf = gp.read_file(wu_path)"
   ]
  },
  {
   "cell_type": "code",
   "execution_count": null,
   "metadata": {},
   "outputs": [],
   "source": [
    "fig, ax = plt.subplots()\n",
    "gdf.plot(ax=ax, markersize=10)\n",
    "boundary.plot(ax=ax, facecolor='none', edgecolor='red')\n",
    "plt.show()"
   ]
  },
  {
   "cell_type": "code",
   "execution_count": null,
   "metadata": {},
   "outputs": [],
   "source": [
    "gdf.columns"
   ]
  },
  {
   "cell_type": "code",
   "execution_count": null,
   "metadata": {},
   "outputs": [],
   "source": []
  },
  {
   "cell_type": "markdown",
   "metadata": {},
   "source": [
    "###  things to work up for wel file\n",
    "* add columns with projected x-y from geometry column\n",
    "* add top of screen elevation above model\n",
    "* add bottom of screen elevation = 0 m\n",
    "* start and end are arb\n",
    "\n",
    "want columns: node, screen_top, screen_botm, flux_m3, start_datetime, end_datetime, x, y"
   ]
  },
  {
   "cell_type": "code",
   "execution_count": null,
   "metadata": {},
   "outputs": [],
   "source": [
    "well_df = gdf.copy()"
   ]
  },
  {
   "cell_type": "code",
   "execution_count": null,
   "metadata": {},
   "outputs": [],
   "source": [
    "well_df['x'] = [coord.x for coord in gdf.geometry]\n",
    "well_df['y'] = [coord.y for coord in gdf.geometry]\n"
   ]
  },
  {
   "cell_type": "code",
   "execution_count": null,
   "metadata": {},
   "outputs": [],
   "source": [
    "well_df.loc[(well_df.Stop_Meter == 0) & (well_df.Sbot_Meter == 0), 'Stop_Meter' ] = 2000\n",
    "well_df.loc[(well_df.Stop_Meter == 2000) & (well_df.Sbot_Meter == 0), 'Sbot_Meter' ] = -2000\n"
   ]
  },
  {
   "cell_type": "code",
   "execution_count": null,
   "metadata": {},
   "outputs": [],
   "source": [
    "well_df"
   ]
  },
  {
   "cell_type": "markdown",
   "metadata": {},
   "source": [
    "##### confirming units because Mars rovers\n",
    "$\\frac{MG}{d} --> \\frac{m^3}{d}$  \n",
    "\n",
    "$\\frac{m^3}{d} = MGD \\times \\frac{1Mg}{d} \\times\\frac{g}{1M} \\times \\frac{.00378541 m^3}{g}$  \n",
    "\n",
    "$\\frac{MG}{d} --> \\frac{m^3}{d} mult = .00378541 \\times 1e6 = 3785.41$  "
   ]
  },
  {
   "cell_type": "code",
   "execution_count": null,
   "metadata": {},
   "outputs": [],
   "source": [
    "well_df['flux_m3'] = [i for i in well_df.Avg_Mgd * (-3785.41)]\n",
    "well_df['max_flux_m3'] = [i for i in well_df.M_Rate_MGD * (-3785.41)]\n",
    "\n",
    "well_df"
   ]
  },
  {
   "cell_type": "code",
   "execution_count": null,
   "metadata": {},
   "outputs": [],
   "source": [
    "well_df['flux_m3'].min()"
   ]
  },
  {
   "cell_type": "code",
   "execution_count": null,
   "metadata": {},
   "outputs": [],
   "source": [
    "well_df['start_datetime'] = '2009-01-01'\n",
    "well_df['end_datetime'] = '2016-01-01'"
   ]
  },
  {
   "cell_type": "code",
   "execution_count": null,
   "metadata": {},
   "outputs": [],
   "source": [
    "well_df.drop(columns=['geometry'], inplace=True)"
   ]
  },
  {
   "cell_type": "code",
   "execution_count": null,
   "metadata": {},
   "outputs": [],
   "source": [
    "well_df.to_csv('../processed_input/2009-2016_ave_pumping.csv')"
   ]
  },
  {
   "cell_type": "code",
   "execution_count": null,
   "metadata": {},
   "outputs": [],
   "source": []
  }
 ],
 "metadata": {
  "kernelspec": {
   "display_name": "Python 3",
   "language": "python",
   "name": "python3"
  },
  "language_info": {
   "codemirror_mode": {
    "name": "ipython",
    "version": 3
   },
   "file_extension": ".py",
   "mimetype": "text/x-python",
   "name": "python",
   "nbconvert_exporter": "python",
   "pygments_lexer": "ipython3",
   "version": "3.7.8"
  }
 },
 "nbformat": 4,
 "nbformat_minor": 4
}
