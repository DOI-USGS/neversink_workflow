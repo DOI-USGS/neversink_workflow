{
 "cells": [
  {
   "cell_type": "code",
   "execution_count": null,
   "metadata": {},
   "outputs": [],
   "source": [
    "import os\n",
    "import numpy as np\n",
    "import pandas as pd\n",
    "import geopandas as gp\n",
    "import matplotlib.pyplot as plt\n",
    "import rasterio"
   ]
  },
  {
   "cell_type": "markdown",
   "metadata": {},
   "source": [
    "## Notebook to create SFR obs from two stream stats gates"
   ]
  },
  {
   "cell_type": "code",
   "execution_count": null,
   "metadata": {},
   "outputs": [],
   "source": [
    "stream_stats_file = '../obs_data/NWIS_DV_STREAMSTATS_INFO.csv'\n",
    "bound_file = '../sciencebase/Shapefiles/Extents/Model_Extent_HUC12.shp'"
   ]
  },
  {
   "cell_type": "code",
   "execution_count": null,
   "metadata": {},
   "outputs": [],
   "source": [
    "df = pd.read_csv(stream_stats_file)\n",
    "gdf = gp.GeoDataFrame(df, crs=\"EPSG:4326\", geometry=gp.points_from_xy(x=df.dec_long_va, y=df.dec_lat_va))\n",
    "gdf = gdf.to_crs(epsg=5070)\n",
    "gdf = gdf.iloc[1:] # weird projection issue going on with geopandas. won't reproject first row. this is a workaround fix. \n",
    "gdf"
   ]
  },
  {
   "cell_type": "code",
   "execution_count": null,
   "metadata": {},
   "outputs": [],
   "source": [
    "bound = gp.read_file(bound_file)\n",
    "bound = bound.to_crs(epsg=5070)"
   ]
  },
  {
   "cell_type": "code",
   "execution_count": null,
   "metadata": {},
   "outputs": [],
   "source": [
    "#  plot to make sure coords look right\n",
    "fig, ax = plt.subplots(figsize=(8,8))\n",
    "bound.plot(fc='none', ec='k', ax=ax)\n",
    "gdf.plot(ax=ax)"
   ]
  },
  {
   "cell_type": "code",
   "execution_count": null,
   "metadata": {},
   "outputs": [],
   "source": [
    "#  calculate baseflow using mean annual flow and stream stats BFI\n",
    "gdf['Mean_Annual_BFI_baseflow_cfs'] = gdf['Mean_Annual_Flow_cfs'] * gdf['Average_BFI_value']"
   ]
  },
  {
   "cell_type": "code",
   "execution_count": null,
   "metadata": {},
   "outputs": [],
   "source": [
    "#  make x and y cols\n",
    "gdf['x'] = gdf.geometry.x\n",
    "gdf['y'] = gdf.geometry.y"
   ]
  },
  {
   "cell_type": "code",
   "execution_count": null,
   "metadata": {},
   "outputs": [],
   "source": [
    "gdf"
   ]
  },
  {
   "cell_type": "code",
   "execution_count": null,
   "metadata": {},
   "outputs": [],
   "source": [
    "#  write as sfr obs file\n",
    "gdf.to_csv('../obs_data/NWIS_DV_STREAMSTATS_SITES.csv')"
   ]
  },
  {
   "cell_type": "code",
   "execution_count": null,
   "metadata": {},
   "outputs": [],
   "source": []
  }
 ],
 "metadata": {
  "kernelspec": {
   "display_name": "Python 3",
   "language": "python",
   "name": "python3"
  },
  "language_info": {
   "codemirror_mode": {
    "name": "ipython",
    "version": 3
   },
   "file_extension": ".py",
   "mimetype": "text/x-python",
   "name": "python",
   "nbconvert_exporter": "python",
   "pygments_lexer": "ipython3",
   "version": "3.7.8"
  }
 },
 "nbformat": 4,
 "nbformat_minor": 4
}
