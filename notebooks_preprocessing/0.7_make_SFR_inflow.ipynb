{
 "cells": [
  {
   "cell_type": "code",
   "execution_count": null,
   "metadata": {},
   "outputs": [],
   "source": [
    "import os\n",
    "import numpy as np\n",
    "import pandas as pd\n",
    "import matplotlib.pyplot as plt\n",
    "from matplotlib.backends.backend_pdf import PdfPages\n",
    "import fiona\n",
    "from shapely.geometry import Point, shape\n",
    "from gisutils import df2shp, project\n",
    "from pydrograph import Nwis"
   ]
  },
  {
   "cell_type": "code",
   "execution_count": null,
   "metadata": {},
   "outputs": [],
   "source": [
    "extent_shp = '../processed_input/extend_15km_buffer.shp'\n",
    "epsg = 5070"
   ]
  },
  {
   "cell_type": "code",
   "execution_count": null,
   "metadata": {},
   "outputs": [],
   "source": [
    "extent_poly = shape(fiona.open(extent_shp).next()['geometry'])\n",
    "extent_poly_ll = project(extent_poly, \"+init=epsg:{}\".format(epsg), \"+init=epsg:4269\")\n",
    "extent_poly_ll.bounds"
   ]
  },
  {
   "cell_type": "code",
   "execution_count": null,
   "metadata": {},
   "outputs": [],
   "source": [
    "nwis = Nwis(extent=extent_poly_ll)\n"
   ]
  },
  {
   "cell_type": "code",
   "execution_count": null,
   "metadata": {},
   "outputs": [],
   "source": [
    "all_dvs = nwis.get_siteinfo('daily_values')"
   ]
  },
  {
   "cell_type": "code",
   "execution_count": null,
   "metadata": {},
   "outputs": [],
   "source": [
    "all_dvs.index = ['{:08d}'.format(i) for i in all_dvs.index]\n",
    "all_dvs"
   ]
  },
  {
   "cell_type": "markdown",
   "metadata": {},
   "source": [
    "### Gage 01436690 -- This gage is outside of the model domain. csv export has been commented out (Nick 8/14/2020)"
   ]
  },
  {
   "cell_type": "code",
   "execution_count": null,
   "metadata": {},
   "outputs": [],
   "source": [
    "neversink_inflow = nwis.get_all_dvs(['01436690'])['01436690']"
   ]
  },
  {
   "cell_type": "code",
   "execution_count": null,
   "metadata": {},
   "outputs": [],
   "source": [
    "neversink_inflow['105410_00060_00003'].plot()"
   ]
  },
  {
   "cell_type": "code",
   "execution_count": null,
   "metadata": {},
   "outputs": [],
   "source": [
    "  neversink_inflow.loc['01-01-2010':'12-31-2015']['105410_00060_00003'].quantile(.5)"
   ]
  },
  {
   "cell_type": "code",
   "execution_count": null,
   "metadata": {},
   "outputs": [],
   "source": [
    "  neversink_inflow.loc['01-01-2010':'12-31-2015']['105410_00060_00003'].mean()"
   ]
  },
  {
   "cell_type": "code",
   "execution_count": null,
   "metadata": {},
   "outputs": [],
   "source": [
    "# convert from CFS to m^3/d\n",
    "# 1cfs = 2446.58 m^3/d"
   ]
  },
  {
   "cell_type": "code",
   "execution_count": null,
   "metadata": {},
   "outputs": [],
   "source": [
    "m3d_neversink_inflow =   neversink_inflow.loc['01-01-2010':'12-31-2015']['105410_00060_00003'].quantile(.5) * 2446.58"
   ]
  },
  {
   "cell_type": "code",
   "execution_count": null,
   "metadata": {},
   "outputs": [],
   "source": [
    "m3d_neversink_inflow"
   ]
  },
  {
   "cell_type": "code",
   "execution_count": null,
   "metadata": {},
   "outputs": [],
   "source": [
    "inflow_df = pd.DataFrame({'datetime':['2011-01-02'],\n",
    "                         'line_id':[4148040],\n",
    "                         'flow_m3d':[m3d_neversink_inflow],\n",
    "                         'category':['NWIS']})\n",
    "inflow_df\n"
   ]
  },
  {
   "cell_type": "markdown",
   "metadata": {},
   "source": [
    "I commented out the export line, I don't think this is the gage we want"
   ]
  },
  {
   "cell_type": "code",
   "execution_count": null,
   "metadata": {},
   "outputs": [],
   "source": [
    "#inflow_df.to_csv('../processed_input/neversink_inflow.csv',index=None)"
   ]
  },
  {
   "cell_type": "markdown",
   "metadata": {},
   "source": [
    "## Gage 1436000 -- I believe this is the gage we want to use, below Neversink Reservoir"
   ]
  },
  {
   "cell_type": "code",
   "execution_count": null,
   "metadata": {},
   "outputs": [],
   "source": [
    "neversink_inflow = nwis.get_all_dvs(['01436000'])#['01436000']"
   ]
  },
  {
   "cell_type": "code",
   "execution_count": null,
   "metadata": {},
   "outputs": [],
   "source": [
    "neversink_inflow = neversink_inflow['01436000']"
   ]
  },
  {
   "cell_type": "code",
   "execution_count": null,
   "metadata": {},
   "outputs": [],
   "source": [
    "neversink_inflow.head()"
   ]
  },
  {
   "cell_type": "code",
   "execution_count": null,
   "metadata": {},
   "outputs": [],
   "source": [
    "neversink_inflow['105408_00060_00003'].plot()\n",
    "plt.title('1436000 - full record')\n",
    "plt.show()\n",
    "neversink_inflow['105408_00060_00003'].plot(logy=True, lw=0.75)\n",
    "plt.title('1436000 - full record; LOG Y')\n",
    "plt.show()"
   ]
  },
  {
   "cell_type": "code",
   "execution_count": null,
   "metadata": {},
   "outputs": [],
   "source": [
    "wood_full_file = '01436500_00060_full.txt'\n",
    "flow_data_pth = '../../../../data/flow/'\n",
    "woodbourne_full = pd.read_csv(os.path.join(flow_data_pth, wood_full_file), delim_whitespace=True, skiprows=28, comment='#', parse_dates=[2])\n",
    "woodbourne_full = woodbourne_full.rename(columns={'105409_00060_00003':'discharge_cfs'})\n",
    "woodbourne_full = woodbourne_full.drop(columns={'agency_cd', '105409_00060_00003_cd'})\n",
    "woodbourne_full.head()"
   ]
  },
  {
   "cell_type": "code",
   "execution_count": null,
   "metadata": {},
   "outputs": [],
   "source": [
    "plt.figure(figsize=(10,5))\n",
    "plt.plot(neversink_inflow.index, neversink_inflow['105408_00060_00003'], label='NS inflow')\n",
    "plt.plot(woodbourne_full.datetime, woodbourne_full.discharge_cfs, lw=0.5, label='NS at Woodbourne')\n",
    "plt.xlim(pd.to_datetime('1-1-1980'), pd.to_datetime('1-1-2020'))\n",
    "plt.yscale('log')\n",
    "plt.legend()\n",
    "plt.show()"
   ]
  },
  {
   "cell_type": "markdown",
   "metadata": {},
   "source": [
    "**Want to discuss period over which we consider inflow.** The streamflow record at the gage on the Neversink River that we're using for a flux target (01436500, Neversink near Woodbourne, NY) ends in 1993. Inflows during the period over which our groundwater model is run (2010-2015) are pretty different that the period of record used to generate the flux target (1955-1993). See below:"
   ]
  },
  {
   "cell_type": "markdown",
   "metadata": {},
   "source": [
    "**2010-01-01 through 2015-12-31**"
   ]
  },
  {
   "cell_type": "code",
   "execution_count": null,
   "metadata": {},
   "outputs": [],
   "source": [
    "neversink_inflow.loc['01-01-2010':'12-31-2015']['105408_00060_00003'].quantile(.5)"
   ]
  },
  {
   "cell_type": "code",
   "execution_count": null,
   "metadata": {},
   "outputs": [],
   "source": [
    "neversink_inflow.loc['01-01-2010':'12-31-2015']['105408_00060_00003'].quantile(.1)"
   ]
  },
  {
   "cell_type": "code",
   "execution_count": null,
   "metadata": {},
   "outputs": [],
   "source": [
    "neversink_inflow.loc['01-01-2010':'12-31-2015']['105408_00060_00003'].mean()"
   ]
  },
  {
   "cell_type": "markdown",
   "metadata": {},
   "source": [
    "**1954-10-01 through 1993-09-30**"
   ]
  },
  {
   "cell_type": "code",
   "execution_count": null,
   "metadata": {},
   "outputs": [],
   "source": [
    "neversink_inflow.loc['10-01-1954':'09-30-1993']['105408_00060_00003'].quantile(.5)"
   ]
  },
  {
   "cell_type": "code",
   "execution_count": null,
   "metadata": {},
   "outputs": [],
   "source": [
    "neversink_inflow.loc['10-01-1954':'09-30-1993']['105408_00060_00003'].mean()"
   ]
  },
  {
   "cell_type": "markdown",
   "metadata": {},
   "source": [
    "For consistency previous approach, use 0.5 quantile during 2010-2015 for inflow "
   ]
  },
  {
   "cell_type": "code",
   "execution_count": null,
   "metadata": {},
   "outputs": [],
   "source": [
    "#  2010-2015\n",
    "#m3d_neversink_inflow = neversink_inflow.loc['01-01-2010':'12-31-2015']['105408_00060_00003'].quantile(.5) * 2446.58\n",
    "\n",
    "#  1954-1993\n",
    "m3d_neversink_inflow = neversink_inflow.loc['10-01-1954':'09-30-1993']['105408_00060_00003'].quantile(.5) * 2446.58\n",
    "\n",
    "print('neversink inflow: {0:.1f} cfs, {1:.0f} m3/d'.format(\n",
    "    neversink_inflow.loc['10-01-1954':'09-30-1993']['105408_00060_00003'].quantile(.5), \n",
    "    m3d_neversink_inflow\n",
    "    ))"
   ]
  },
  {
   "cell_type": "code",
   "execution_count": null,
   "metadata": {},
   "outputs": [],
   "source": [
    "inflow_df = pd.DataFrame({'datetime':['2011-01-02'],\n",
    "                         'line_id':[4148040],\n",
    "                         'flow_m3d':[m3d_neversink_inflow],\n",
    "                         'category':['NWIS']})\n",
    "\n",
    "inflow_df"
   ]
  },
  {
   "cell_type": "code",
   "execution_count": null,
   "metadata": {},
   "outputs": [],
   "source": [
    "inflow_df.to_csv('../processed_input/neversink_inflow.csv',index=None)"
   ]
  },
  {
   "cell_type": "code",
   "execution_count": null,
   "metadata": {},
   "outputs": [],
   "source": []
  }
 ],
 "metadata": {
  "kernelspec": {
   "display_name": "Python 3",
   "language": "python",
   "name": "python3"
  },
  "language_info": {
   "codemirror_mode": {
    "name": "ipython",
    "version": 3
   },
   "file_extension": ".py",
   "mimetype": "text/x-python",
   "name": "python",
   "nbconvert_exporter": "python",
   "pygments_lexer": "ipython3",
   "version": "3.7.6"
  }
 },
 "nbformat": 4,
 "nbformat_minor": 4
}
