{
 "cells": [
  {
   "cell_type": "code",
   "execution_count": null,
   "metadata": {},
   "outputs": [],
   "source": [
    "import os\n",
    "import numpy as np\n",
    "import rasterio\n",
    "from rasterio.plot import show\n",
    "import matplotlib.pyplot as plt"
   ]
  },
  {
   "cell_type": "markdown",
   "metadata": {},
   "source": [
    "# Create model bottom elevation layer\n",
    "set bottom of model equal to 33 meters below top of bedrock (L3_Bottom_TopOfBedrock.tif)"
   ]
  },
  {
   "cell_type": "code",
   "execution_count": null,
   "metadata": {},
   "outputs": [],
   "source": [
    "#  set paths\n",
    "layer_dir = '../source_data//Shapefiles/Layers_and_Zones/'\n",
    "L3_file = 'L3_Bottom___TopOfBedrock.tif'\n",
    "L3_file_path = os.path.join(layer_dir, L3_file)"
   ]
  },
  {
   "cell_type": "code",
   "execution_count": null,
   "metadata": {},
   "outputs": [],
   "source": [
    "#  open l3 file and extract info (such as metadata, layer data, raster mask) and plot\n",
    "\n",
    "with rasterio.open(L3_file_path) as src:\n",
    "    crs = src.crs\n",
    "    meta = src.meta\n",
    "    nodata = meta['nodata']\n",
    "    l3_tuple = src.read(1, masked=True),\n",
    "    l3_data = l3_tuple[0].data\n",
    "    l3_mask = l3_tuple[0].mask\n",
    "    show(src)"
   ]
  },
  {
   "cell_type": "code",
   "execution_count": null,
   "metadata": {},
   "outputs": [],
   "source": [
    "#  calculate layer 4 elevations by subtracting 33 m from layer 3\n",
    "#  don't perform subtraction in nodata cells\n",
    "\n",
    "l4_data = np.where(l3_data != nodata, l3_data-33, l3_data)"
   ]
  },
  {
   "cell_type": "code",
   "execution_count": null,
   "metadata": {},
   "outputs": [],
   "source": [
    "#  create a masked version and plot to check it out -- looks about the same...\n",
    "ml4_data = np.ma.MaskedArray(l4_data, l3_mask)\n",
    "plt.imshow(ml4_data)\n",
    "plt.colorbar()\n",
    "plt.title('Layer 4 - Model Bottom')\n",
    "plt.show()"
   ]
  },
  {
   "cell_type": "code",
   "execution_count": null,
   "metadata": {},
   "outputs": [],
   "source": [
    "#  check difference between 3 and 4 to make sure calculation looks correct\n",
    "l3l4_diff = l3_data - l4_data\n",
    "\n",
    "print('Unique difference values between\\nlayer 3 and layer 4 are: {}'.format(list(np.unique(l3l4_diff))))\n",
    "\n",
    "ml3l4_diff = np.ma.MaskedArray(l3l4_diff, l3_mask)\n",
    "plt.imshow(l3l4_diff)\n",
    "plt.colorbar()\n",
    "plt.tight_layout()\n",
    "plt.show()"
   ]
  },
  {
   "cell_type": "markdown",
   "metadata": {},
   "source": [
    "Difference should equal 33m inside the active model region and 0m in nodata areas"
   ]
  },
  {
   "cell_type": "code",
   "execution_count": null,
   "metadata": {},
   "outputs": [],
   "source": [
    "#  write calculated layer 4 data to new GTiff\n",
    "\n",
    "outfile = 'L4_Bottom.tif'\n",
    "outdir = '../processed_data/'\n",
    "\n",
    "outpath = os.path.join(outdir, outfile)\n",
    "\n",
    "dataset = rasterio.open(\n",
    "    outpath, \n",
    "    'w', \n",
    "    driver=meta['driver'],\n",
    "    height = l4_data.shape[0], \n",
    "    width = l4_data.shape[1],\n",
    "    count=1,\n",
    "    nodata = nodata,\n",
    "    dtype=str(l4_data.dtype),\n",
    "    crs = crs,\n",
    "    transform=meta['transform'],\n",
    "    compress='lzw'\n",
    ")\n",
    "\n",
    "dataset.write(l4_data, 1)\n",
    "dataset.close()"
   ]
  },
  {
   "cell_type": "markdown",
   "metadata": {},
   "source": [
    "# Check the minimum thicknesses of the model layers"
   ]
  },
  {
   "cell_type": "code",
   "execution_count": null,
   "metadata": {},
   "outputs": [],
   "source": [
    "top_file = 'top_50m_from_lidar.tif'\n",
    "top_dir = '../source_data/Shapefiles/'\n",
    "top_file_path = os.path.join(top_dir, top_file)\n",
    "\n",
    "L1_file = 'L1_Bottom.tif'\n",
    "L1_file_path = os.path.join(layer_dir, L1_file)\n",
    "\n",
    "L2_file = 'L2_Bottom.tif'\n",
    "L2_file_path = os.path.join(layer_dir, L2_file)"
   ]
  },
  {
   "cell_type": "code",
   "execution_count": null,
   "metadata": {},
   "outputs": [],
   "source": [
    "with rasterio.open(top_file_path) as src:\n",
    "    top_tuple = src.read(1, masked=True),\n",
    "    top_data = top_tuple[0].data\n",
    "    top_mask = top_tuple[0].mask\n",
    "    top_meta = src.meta\n",
    "    show(src)"
   ]
  },
  {
   "cell_type": "code",
   "execution_count": null,
   "metadata": {},
   "outputs": [],
   "source": [
    "top_meta"
   ]
  },
  {
   "cell_type": "code",
   "execution_count": null,
   "metadata": {},
   "outputs": [],
   "source": [
    "with rasterio.open(L1_file_path) as src:\n",
    "    l1_tuple = src.read(1, masked=True),\n",
    "    l1_data = l1_tuple[0].data\n",
    "    l1_mask = l1_tuple[0].mask\n",
    "    l1_meta = src.meta"
   ]
  },
  {
   "cell_type": "code",
   "execution_count": null,
   "metadata": {},
   "outputs": [],
   "source": [
    "l1_meta"
   ]
  },
  {
   "cell_type": "markdown",
   "metadata": {},
   "source": [
    "### Top of model ('top_50m_from_lidar.tif') has different dimensions and cell size than L1, L2, L3, and L4 bottoms"
   ]
  },
  {
   "cell_type": "code",
   "execution_count": null,
   "metadata": {},
   "outputs": [],
   "source": [
    "with rasterio.open(L2_file_path) as src:\n",
    "    l2_tuple = src.read(1, masked=True),\n",
    "    l2_data = l2_tuple[0].data\n",
    "    l2_mask = l2_tuple[0].mask"
   ]
  },
  {
   "cell_type": "code",
   "execution_count": null,
   "metadata": {},
   "outputs": [],
   "source": [
    "l1l2_diff  = l1_data - l2_data\n",
    "ml1l2_diff = np.ma.MaskedArray(l1l2_diff, l1_mask)\n",
    "plt.figure(figsize=(10,10))\n",
    "plt.imshow(ml1l2_diff)\n",
    "plt.colorbar()\n",
    "plt.show()"
   ]
  },
  {
   "cell_type": "code",
   "execution_count": null,
   "metadata": {},
   "outputs": [],
   "source": [
    "print('the minimum difference is: {:.05f} meters'.format(ml1l2_diff.min()))"
   ]
  },
  {
   "cell_type": "code",
   "execution_count": null,
   "metadata": {},
   "outputs": [],
   "source": [
    "l1l2_isone = np.where((l1l2_diff == 1.), 1, np.nan)\n",
    "plt.figure(figsize=(10,10))\n",
    "plt.imshow(l1l2_isone)\n",
    "plt.title('Cells where difference in layer1-layer2 thickness = 1.0 meter')\n",
    "plt.show()"
   ]
  },
  {
   "cell_type": "code",
   "execution_count": null,
   "metadata": {},
   "outputs": [],
   "source": [
    "l1l2_lessthanone = np.where((l1l2_diff < 1.) & (l1l2_diff > 0.), 1, np.nan)\n",
    "plt.figure(figsize=(10,10))\n",
    "plt.imshow(l1l2_lessthanone)\n",
    "plt.title('Cells where layer1-layer2 thickness is less than 1.0 and greater than 0.0 meters')\n",
    "plt.show()"
   ]
  },
  {
   "cell_type": "code",
   "execution_count": null,
   "metadata": {},
   "outputs": [],
   "source": [
    "l2l3_diff  = l2_data - l3_data\n",
    "ml2l3_diff = np.ma.MaskedArray(l2l3_diff, l1_mask)\n",
    "plt.figure(figsize=(10,10))\n",
    "plt.imshow(ml2l3_diff)\n",
    "plt.colorbar()\n",
    "plt.show()"
   ]
  },
  {
   "cell_type": "code",
   "execution_count": null,
   "metadata": {},
   "outputs": [],
   "source": [
    "print('the minimum difference is: {:.05f} meters'.format(ml2l3_diff.min()))"
   ]
  },
  {
   "cell_type": "code",
   "execution_count": null,
   "metadata": {},
   "outputs": [],
   "source": [
    "l2l3_isone = np.where((ml2l3_diff == 1.), 1, np.nan)\n",
    "plt.figure(figsize=(10,10))\n",
    "plt.imshow(l1l2_isone)\n",
    "plt.title('Cells where layer2-layer3 thickness = 1.0 meter')\n",
    "plt.show()"
   ]
  },
  {
   "cell_type": "markdown",
   "metadata": {},
   "source": [
    "### Minimum difference between elevations of the bottoms of layer 1-2 and layer2-3 appears to be 1., but there are a few scattered points in the raster with differences slightly smaller, equal to 0.99997 meters"
   ]
  },
  {
   "cell_type": "code",
   "execution_count": null,
   "metadata": {},
   "outputs": [],
   "source": []
  }
 ],
 "metadata": {
  "kernelspec": {
   "display_name": "Python 3",
   "language": "python",
   "name": "python3"
  },
  "language_info": {
   "codemirror_mode": {
    "name": "ipython",
    "version": 3
   },
   "file_extension": ".py",
   "mimetype": "text/x-python",
   "name": "python",
   "nbconvert_exporter": "python",
   "pygments_lexer": "ipython3",
   "version": "3.7.6"
  }
 },
 "nbformat": 4,
 "nbformat_minor": 4
}
