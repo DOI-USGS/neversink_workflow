{
 "cells": [
  {
   "cell_type": "code",
   "execution_count": null,
   "metadata": {},
   "outputs": [],
   "source": [
    "import sys\n",
    "sys.path.append('../python_packages_static/')\n",
    "import os\n",
    "import pandas as pd\n",
    "import numpy as np\n",
    "import flopy as fp\n",
    "import flopy.utils as fu\n",
    "import matplotlib.pyplot as plt\n",
    "import mfexport\n",
    "import rasterio\n",
    "from pyproj import CRS\n",
    "from affine import Affine"
   ]
  },
  {
   "cell_type": "code",
   "execution_count": null,
   "metadata": {},
   "outputs": [],
   "source": [
    "model_ws = '../neversink_mf6/'\n",
    "outpath = '../neversink_mf6/postproc'\n",
    "simname = 'mfsim.nam'"
   ]
  },
  {
   "cell_type": "code",
   "execution_count": null,
   "metadata": {},
   "outputs": [],
   "source": [
    "if not os.path.exists(outpath):\n",
    "    os.makedirs(outpath)"
   ]
  },
  {
   "cell_type": "markdown",
   "metadata": {},
   "source": [
    "## Load up the MF6 model"
   ]
  },
  {
   "cell_type": "code",
   "execution_count": null,
   "metadata": {},
   "outputs": [],
   "source": [
    "sim = fp.mf6.MFSimulation.load(simname, 'mf6', sim_ws=model_ws)"
   ]
  },
  {
   "cell_type": "code",
   "execution_count": null,
   "metadata": {},
   "outputs": [],
   "source": [
    "m = sim.get_model()"
   ]
  },
  {
   "cell_type": "markdown",
   "metadata": {},
   "source": [
    "## export some GIS treats"
   ]
  },
  {
   "cell_type": "code",
   "execution_count": null,
   "metadata": {},
   "outputs": [],
   "source": [
    "grid = mfexport.MFexportGrid(delr=m.dis.delr.array, # grid spacing in meters\n",
    "                             delc=m.dis.delc.array , \n",
    "                             \n",
    "                             xul=1742955.0, yul=2292285.0, # upper left corner in CRS\n",
    "                             epsg=5070 \n",
    "                            )\n",
    "\n",
    "mfexport.export(m, grid, output_path=outpath)"
   ]
  },
  {
   "cell_type": "code",
   "execution_count": null,
   "metadata": {},
   "outputs": [],
   "source": [
    "# added sfr export -- SFR export not supported using the method above. \n",
    "\n",
    "mf6_sfr_stage_file=os.path.join(model_ws,'neversink.sfr.stage.bin')\n",
    "mf6_sfr_budget_file=os.path.join(model_ws,'neversink.sfr.cbc')\n",
    "\n",
    "outfiles = mfexport.export_sfr_results(mf6_sfr_stage_file=mf6_sfr_stage_file,\n",
    "                                       mf6_sfr_budget_file=mf6_sfr_budget_file,\n",
    "                                       model=m,\n",
    "                                       grid=grid,\n",
    "                                       output_length_units='meters',\n",
    "                                       output_time_units='days',\n",
    "                                       output_path=outpath\n",
    "                                       )"
   ]
  },
  {
   "cell_type": "code",
   "execution_count": null,
   "metadata": {},
   "outputs": [],
   "source": [
    "headsfile = os.path.join(model_ws,'neversink.hds')\n",
    "\n",
    "mfexport.export_heads(headsfile,\n",
    "                      grid, \n",
    "                      hdry=m.hnoflo, \n",
    "                      hnflo=m.hnoflo, \n",
    "                      kstpkper=(0, 0), # steady state one stress period\n",
    "                      output_path=outpath,\n",
    "                      interval=20, # meters\n",
    "                     ) \n"
   ]
  },
  {
   "cell_type": "markdown",
   "metadata": {},
   "source": [
    "## Examine the mass balance overall"
   ]
  },
  {
   "cell_type": "code",
   "execution_count": null,
   "metadata": {},
   "outputs": [],
   "source": [
    "df_flux, _ = fu.Mf6ListBudget(os.path.join(model_ws,'neversink.list')).get_dataframes()\n",
    "percdisc = df_flux.PERCENT_DISCREPANCY.values[0]\n",
    "#budget_df = pd.DataFrame({'obs':percdisc})\n",
    "#budget_df.index = ['PERC_DISC']\n",
    "#budget_df"
   ]
  },
  {
   "cell_type": "code",
   "execution_count": null,
   "metadata": {},
   "outputs": [],
   "source": [
    "percdisc"
   ]
  },
  {
   "cell_type": "code",
   "execution_count": null,
   "metadata": {},
   "outputs": [],
   "source": [
    "mfl6 = fu.Mf6ListBudget(os.path.join(model_ws,'neversink.list'))\n",
    "df_flux, df_vol = mfl6.get_dataframes()"
   ]
  },
  {
   "cell_type": "code",
   "execution_count": null,
   "metadata": {},
   "outputs": [],
   "source": [
    "df_flux_backup = df_flux.copy()"
   ]
  },
  {
   "cell_type": "code",
   "execution_count": null,
   "metadata": {},
   "outputs": [],
   "source": [
    "df_flux = df_flux_backup.copy()\n",
    "df_flux"
   ]
  },
  {
   "cell_type": "code",
   "execution_count": null,
   "metadata": {},
   "outputs": [],
   "source": [
    "outcols = [i for i in df_flux.columns if \"OUT\" in i]\n",
    "for i in outcols:\n",
    "    df_flux[i] *= -1"
   ]
  },
  {
   "cell_type": "code",
   "execution_count": null,
   "metadata": {},
   "outputs": [],
   "source": [
    "df_flux"
   ]
  },
  {
   "cell_type": "code",
   "execution_count": null,
   "metadata": {},
   "outputs": [],
   "source": [
    "df_flux[[i for i in df_flux.columns if (\"PERCE\" not in i) & (\"WEL_IN\" not in i) & (\"RCH_OUT\" not in i) & (\"TOT\" not in i) & (\"N-O\" not in i) ]].plot.bar()\n",
    "plt.xticks([])\n",
    "plt.xlabel('Water Balance Component')\n",
    "plt.ylabel('Flux, in cubic meters')\n",
    "plt.axhline(0, linewidth=0.5, c='k')"
   ]
  },
  {
   "cell_type": "markdown",
   "metadata": {},
   "source": [
    "## top of model"
   ]
  },
  {
   "cell_type": "code",
   "execution_count": null,
   "metadata": {},
   "outputs": [],
   "source": [
    "plt.figure(figsize=(6,6))\n",
    "top = m.dis.top.array.copy()\n",
    "top[top<-999] = np.nan\n",
    "plt.imshow(top)\n",
    "plt.colorbar()"
   ]
  },
  {
   "cell_type": "markdown",
   "metadata": {},
   "source": [
    "## load up the heads"
   ]
  },
  {
   "cell_type": "code",
   "execution_count": null,
   "metadata": {},
   "outputs": [],
   "source": [
    "sim.simulation_data.mfdata.output_keys()"
   ]
  },
  {
   "cell_type": "code",
   "execution_count": null,
   "metadata": {},
   "outputs": [],
   "source": [
    "# steady state so get rid of time dimension\n",
    "heads = np.squeeze(sim.simulation_data.mfdata['neversink', 'HDS', 'HEAD'])"
   ]
  },
  {
   "cell_type": "code",
   "execution_count": null,
   "metadata": {},
   "outputs": [],
   "source": [
    "heads2 = heads.copy()"
   ]
  },
  {
   "cell_type": "code",
   "execution_count": null,
   "metadata": {},
   "outputs": [],
   "source": [
    "plt.imshow(heads[3])\n",
    "plt.colorbar()"
   ]
  },
  {
   "cell_type": "code",
   "execution_count": null,
   "metadata": {},
   "outputs": [],
   "source": [
    "m.hnoflo"
   ]
  },
  {
   "cell_type": "code",
   "execution_count": null,
   "metadata": {},
   "outputs": [],
   "source": [
    "wt = fu.postprocessing.get_water_table(heads, m.hnoflo)\n",
    "wt[wt==m.hnoflo] = np.nan"
   ]
  },
  {
   "cell_type": "code",
   "execution_count": null,
   "metadata": {},
   "outputs": [],
   "source": [
    "plt.imshow(wt)\n",
    "plt.colorbar()"
   ]
  },
  {
   "cell_type": "code",
   "execution_count": null,
   "metadata": {},
   "outputs": [],
   "source": [
    "# mask out the inactive areas\n",
    "heads[heads==m.hnoflo] = np.nan\n",
    "#heads[heads<-100] = np.nan"
   ]
  },
  {
   "cell_type": "code",
   "execution_count": null,
   "metadata": {},
   "outputs": [],
   "source": [
    "for i in range(m.dis.nlay.array):\n",
    "    plt.figure(figsize=(6,6))\n",
    "    plt.imshow(heads[i,:,:])\n",
    "    plt.colorbar()\n",
    "    plt.title('heads layer {}'.format(i))"
   ]
  },
  {
   "cell_type": "code",
   "execution_count": null,
   "metadata": {},
   "outputs": [],
   "source": [
    "for i in range(m.npf.k.array):\n",
    "    plt.figure(figsize=(6,6))\n",
    "    plt.imshow(heads[i,:,:])\n",
    "    plt.colorbar()\n",
    "    plt.title('heads layer {}'.format(i))"
   ]
  },
  {
   "cell_type": "code",
   "execution_count": null,
   "metadata": {},
   "outputs": [],
   "source": [
    "m."
   ]
  },
  {
   "cell_type": "code",
   "execution_count": null,
   "metadata": {},
   "outputs": [],
   "source": [
    "flooded = wt-m.dis.top.data\n",
    "flooded[flooded<0] = np.nan\n",
    "#flooded[flooded>10] = 10\n",
    "plt.figure(figsize=(10,10))\n",
    "plt.imshow(flooded)\n",
    "plt.title('Excess head in flooded cells, in meters')\n",
    "plt.colorbar()\n",
    "plt.savefig('flooding_rep_model.pdf', dpi=600)"
   ]
  },
  {
   "cell_type": "code",
   "execution_count": null,
   "metadata": {},
   "outputs": [],
   "source": [
    "\n",
    "flooded[np.isnan(flooded)]=-9999.\n",
    "\n",
    "outfile = 'flooding.tif'\n",
    "raster_outpath = os.path.join(outpath, outfile)\n",
    "\n",
    "dataset = rasterio.open(\n",
    "    raster_outpath, \n",
    "    'w', \n",
    "    driver='GTiff',\n",
    "    height = flooded.shape[0], \n",
    "    width = flooded.shape[1],\n",
    "    count=1,\n",
    "    nodata = -9999.0,\n",
    "    dtype=str(flooded.dtype),\n",
    "    crs = CRS.from_epsg(5070),\n",
    "    transform=Affine(50.0, 0.0, 1742955.0,\n",
    "                     0.0, -50.0, 2292285.0),\n",
    ")\n",
    "\n",
    "dataset.write(flooded, 1)\n",
    "dataset.close()\n"
   ]
  },
  {
   "cell_type": "code",
   "execution_count": null,
   "metadata": {},
   "outputs": [],
   "source": [
    "with rasterio.open('../k_processing/V2_Layer{}_K.tif'.format(1)) as src:\n",
    "    crs = src.crs\n",
    "    meta = src.meta\n",
    "    nodata = meta['nodata']\n",
    "    K_tuple = src.read(1, masked=True),\n",
    "    K_data = K_tuple[0].data.astype(float)\n",
    "\n",
    "    "
   ]
  },
  {
   "cell_type": "code",
   "execution_count": null,
   "metadata": {},
   "outputs": [],
   "source": [
    "crs"
   ]
  },
  {
   "cell_type": "code",
   "execution_count": null,
   "metadata": {},
   "outputs": [],
   "source": [
    "    \n",
    "newK = K_data.copy()\n",
    "\n",
    "\n",
    "\n",
    "outfile = os.path.join(outpath,'rasters/flooded_cells.tif')\n",
    "dataset = rasterio.open(\n",
    "    outfile, \n",
    "    'w', \n",
    "    driver=meta['driver'],\n",
    "    height = newK.shape[0], \n",
    "    width = newK.shape[1],\n",
    "    count=1,\n",
    "    nodata = nodata,\n",
    "    dtype=str(newK.dtype),\n",
    "    crs = crs,\n",
    "    compress='lzw',\n",
    "    transform=meta['transform']\n",
    ")\n",
    "\n",
    "dataset.write(flooded, 1)\n",
    "dataset.close()"
   ]
  },
  {
   "cell_type": "code",
   "execution_count": null,
   "metadata": {},
   "outputs": [],
   "source": [
    "\n",
    "for i in range(m.dis.nlay.array):\n",
    "    plt.figure(figsize=(6,6))\n",
    "    flooded = heads[i,:,:]-m.dis.top.array\n",
    "    flooded[flooded < 0]=np.nan\n",
    "    plt.imshow(flooded)\n",
    "    plt.colorbar()\n",
    "    plt.title('flooded layer {}'.format(i))"
   ]
  },
  {
   "cell_type": "markdown",
   "metadata": {},
   "source": [
    "## checking out idomain"
   ]
  },
  {
   "cell_type": "code",
   "execution_count": null,
   "metadata": {},
   "outputs": [],
   "source": [
    "idm = m.dis.idomain.array"
   ]
  },
  {
   "cell_type": "code",
   "execution_count": null,
   "metadata": {},
   "outputs": [],
   "source": [
    "for i in range(m.dis.nlay.array):\n",
    "    plt.figure(figsize=(6,6))\n",
    "    plt.imshow(idm[i,:,:])\n",
    "    plt.colorbar()\n",
    "    plt.title('idm layer {}'.format(i))"
   ]
  },
  {
   "cell_type": "markdown",
   "metadata": {},
   "source": [
    "## Plot up the model bottoms"
   ]
  },
  {
   "cell_type": "code",
   "execution_count": null,
   "metadata": {},
   "outputs": [],
   "source": [
    "botm = m.dis.botm.array\n",
    "botm[botm<-999] = np.nan\n",
    "for i in range(m.dis.nlay.array):\n",
    "    plt.figure(figsize=(6,6))\n",
    "    plt.imshow(botm[i,:,:])\n",
    "    plt.colorbar()\n",
    "    plt.title('botm layer {}'.format(i))"
   ]
  },
  {
   "cell_type": "markdown",
   "metadata": {},
   "source": [
    "## Plot up the model thicknesses\n"
   ]
  },
  {
   "cell_type": "code",
   "execution_count": null,
   "metadata": {},
   "outputs": [],
   "source": [
    "botm[botm==-9999] = np.nan\n",
    "thick=[]\n",
    "thick.append(m.dis.top.array - m.dis.botm.array[0])\n",
    "for i in range(3):\n",
    "    thick.append(m.dis.botm.array[i]-m.dis.botm.array[i+1])\n",
    "for i in range(m.dis.nlay.array):\n",
    "    plt.figure(figsize=(6,6))\n",
    "    plt.imshow(thick[i])\n",
    "    plt.colorbar()\n",
    "    plt.title('thick layer {}'.format(i))"
   ]
  },
  {
   "cell_type": "code",
   "execution_count": null,
   "metadata": {},
   "outputs": [],
   "source": [
    "thick[-1][thick[-1]<30] = np.nan\n",
    "plt.imshow(thick[-1])\n",
    "plt.colorbar()"
   ]
  },
  {
   "cell_type": "code",
   "execution_count": null,
   "metadata": {},
   "outputs": [],
   "source": []
  }
 ],
 "metadata": {
  "kernelspec": {
   "display_name": "Python 3",
   "language": "python",
   "name": "python3"
  },
  "language_info": {
   "codemirror_mode": {
    "name": "ipython",
    "version": 3
   },
   "file_extension": ".py",
   "mimetype": "text/x-python",
   "name": "python",
   "nbconvert_exporter": "python",
   "pygments_lexer": "ipython3",
   "version": "3.9.2"
  }
 },
 "nbformat": 4,
 "nbformat_minor": 4
}
