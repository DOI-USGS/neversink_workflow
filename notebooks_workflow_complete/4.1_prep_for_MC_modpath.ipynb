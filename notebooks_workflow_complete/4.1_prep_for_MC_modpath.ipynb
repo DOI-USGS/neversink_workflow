{
 "cells": [
  {
   "cell_type": "code",
   "execution_count": 1,
   "metadata": {},
   "outputs": [],
   "source": [
    "import os, sys, glob, shutil\n",
    "sys.path.append('../python_packages_static/')\n",
    "import pandas as pd"
   ]
  },
  {
   "cell_type": "code",
   "execution_count": 2,
   "metadata": {},
   "outputs": [],
   "source": [
    "mp_run_data = '../modpath_run_data/'\n",
    "run_data = '../run_data/'\n",
    "mp_in_data = '../neversink_mf6'"
   ]
  },
  {
   "cell_type": "markdown",
   "metadata": {},
   "source": [
    "## In this notebook, we'll prep a directory called `modpath_run_data` for running our modpath monte carlo. "
   ]
  },
  {
   "cell_type": "markdown",
   "metadata": {},
   "source": [
    "### make a run folder based on the `run_data` main folder"
   ]
  },
  {
   "cell_type": "code",
   "execution_count": 3,
   "metadata": {},
   "outputs": [
    {
     "data": {
      "text/plain": [
       "'../modpath_run_data/'"
      ]
     },
     "execution_count": 3,
     "metadata": {},
     "output_type": "execute_result"
    }
   ],
   "source": [
    "if os.path.exists(mp_run_data):\n",
    "    shutil.rmtree(mp_run_data)\n",
    "shutil.copytree(run_data, mp_run_data)"
   ]
  },
  {
   "cell_type": "markdown",
   "metadata": {},
   "source": [
    "### copy over the parameters ensemble from iES"
   ]
  },
  {
   "cell_type": "code",
   "execution_count": 4,
   "metadata": {},
   "outputs": [
    {
     "data": {
      "text/plain": [
       "'../modpath_run_data/modpath_par_ens.csv'"
      ]
     },
     "execution_count": 4,
     "metadata": {},
     "output_type": "execute_result"
    }
   ],
   "source": [
    "shutil.copy2(os.path.join(run_data,'modpath_par_ens.csv'), os.path.join(mp_run_data, 'modpath_par_ens.csv'))"
   ]
  },
  {
   "cell_type": "markdown",
   "metadata": {},
   "source": [
    "### copy over the modpath input files"
   ]
  },
  {
   "cell_type": "code",
   "execution_count": 5,
   "metadata": {},
   "outputs": [
    {
     "name": "stdout",
     "output_type": "stream",
     "text": [
      "['../neversink_mf6\\\\neversink_mp_forward_weak_NE.mpbas', '../neversink_mf6\\\\neversink_mp_forward_weak_S.mpbas', '../neversink_mf6\\\\neversink_mp_forward_weak_W.mpbas']\n",
      "['../neversink_mf6\\\\neversink_mp_forward_weak_NE.mpsim', '../neversink_mf6\\\\neversink_mp_forward_weak_S.mpsim', '../neversink_mf6\\\\neversink_mp_forward_weak_W.mpsim']\n",
      "['../neversink_mf6\\\\neversink_mp_forward_weak_NE.mpnam', '../neversink_mf6\\\\neversink_mp_forward_weak_S.mpnam', '../neversink_mf6\\\\neversink_mp_forward_weak_W.mpnam']\n"
     ]
    }
   ],
   "source": [
    "mp_rootname = 'neversink_mp_forward_weak'\n",
    "mp_exts = ['mpbas', 'mpsim', 'mpnam']\n",
    "for ext in mp_exts:\n",
    "    mpfiles = glob.glob(os.path.join(mp_in_data, '{}*.{}'.format(mp_rootname, ext)))\n",
    "    print(mpfiles)\n",
    "    \n",
    "    [shutil.copy2(cf, os.path.join(mp_run_data, os.path.basename(cf))) for cf in mpfiles]"
   ]
  },
  {
   "cell_type": "markdown",
   "metadata": {},
   "source": [
    "### copy over mp scripts"
   ]
  },
  {
   "cell_type": "code",
   "execution_count": 6,
   "metadata": {},
   "outputs": [
    {
     "data": {
      "text/plain": [
       "['../modpath_run_data/get_endpoints.py', '../modpath_run_data/modpath_mc.py']"
      ]
     },
     "execution_count": 6,
     "metadata": {},
     "output_type": "execute_result"
    }
   ],
   "source": [
    "script_dir = '../scripts'\n",
    "scripts = ['get_endpoints.py', 'modpath_mc.py']\n",
    "\n",
    "[shutil.copy2(os.path.join(script_dir, i), \n",
    "             os.path.join(mp_run_data, i)) for i in scripts]"
   ]
  },
  {
   "cell_type": "markdown",
   "metadata": {},
   "source": [
    "### comment out line in tdis file"
   ]
  },
  {
   "cell_type": "code",
   "execution_count": 7,
   "metadata": {},
   "outputs": [
    {
     "name": "stderr",
     "output_type": "stream",
     "text": [
      "<>:6: SyntaxWarning: \"is not\" with a literal. Did you mean \"!=\"?\n",
      "<>:6: SyntaxWarning: \"is not\" with a literal. Did you mean \"!=\"?\n",
      "<ipython-input-7-af28ade4b307>:6: SyntaxWarning: \"is not\" with a literal. Did you mean \"!=\"?\n",
      "  if 'START_DATE_TIME' in line.upper() and line.strip()[0] is not \"#\":\n"
     ]
    }
   ],
   "source": [
    "# fix the tdis file commenting out START_DATE_TIME\n",
    "for cf in glob.glob(os.path.join(mp_run_data, '*.tdis')):\n",
    "    tdis = open(cf, 'r').readlines()\n",
    "    with open(cf, 'w') as ofp:\n",
    "        for line in tdis:\n",
    "            if 'START_DATE_TIME' in line.upper() and line.strip()[0] is not \"#\":\n",
    "                ofp.write('#{}'.format(line))\n",
    "            else:\n",
    "                ofp.write(line)"
   ]
  },
  {
   "cell_type": "markdown",
   "metadata": {},
   "source": []
  },
  {
   "cell_type": "code",
   "execution_count": null,
   "metadata": {},
   "outputs": [],
   "source": []
  }
 ],
 "metadata": {
  "kernelspec": {
   "display_name": "Python 3",
   "language": "python",
   "name": "python3"
  },
  "language_info": {
   "codemirror_mode": {
    "name": "ipython",
    "version": 3
   },
   "file_extension": ".py",
   "mimetype": "text/x-python",
   "name": "python",
   "nbconvert_exporter": "python",
   "pygments_lexer": "ipython3",
   "version": "3.9.2"
  }
 },
 "nbformat": 4,
 "nbformat_minor": 4
}
