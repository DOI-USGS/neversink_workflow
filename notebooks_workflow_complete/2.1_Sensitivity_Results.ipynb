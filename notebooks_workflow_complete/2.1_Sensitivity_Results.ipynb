{
 "cells": [
  {
   "cell_type": "code",
   "execution_count": 1,
   "metadata": {},
   "outputs": [],
   "source": [
    "import sys\n",
    "sys.path.append('../python_packages_static/')\n",
    "import pandas as pd\n",
    "import numpy as np\n",
    "import os\n",
    "import pyemu\n",
    "import matplotlib as mpl\n",
    "import matplotlib.pyplot as plt"
   ]
  },
  {
   "cell_type": "markdown",
   "metadata": {},
   "source": [
    "# read in the PST file and the Morris output (in the MSN file)"
   ]
  },
  {
   "cell_type": "markdown",
   "metadata": {},
   "source": [
    "### NOTE: Make sure  `run_ensemble` is set appropriately - If `run_ensemble` is set to `True`, local runs are performed. If `run_ensemble` set to `False`results from the journal article are used. "
   ]
  },
  {
   "cell_type": "code",
   "execution_count": 2,
   "metadata": {},
   "outputs": [],
   "source": [
    "run_ensemble=False"
   ]
  },
  {
   "cell_type": "code",
   "execution_count": 3,
   "metadata": {},
   "outputs": [],
   "source": [
    "if run_ensemble==True:\n",
    "    resdir = '../run_data'\n",
    "else:\n",
    "    resdir = '../output/parallel'\n",
    "pstfile = 'prior_mc_wide_sens.pst'"
   ]
  },
  {
   "cell_type": "code",
   "execution_count": 4,
   "metadata": {},
   "outputs": [],
   "source": [
    "pst = pyemu.Pst(os.path.join(resdir, pstfile))"
   ]
  },
  {
   "cell_type": "code",
   "execution_count": 5,
   "metadata": {},
   "outputs": [],
   "source": [
    "morris_sum_file = os.path.join(resdir, pstfile.replace('.pst','.msn'))"
   ]
  },
  {
   "cell_type": "code",
   "execution_count": 6,
   "metadata": {},
   "outputs": [],
   "source": [
    "morris_sum_df = pd.read_csv(morris_sum_file, index_col=0)"
   ]
  },
  {
   "cell_type": "markdown",
   "metadata": {},
   "source": [
    "## Set up the parameter names"
   ]
  },
  {
   "cell_type": "code",
   "execution_count": 7,
   "metadata": {},
   "outputs": [],
   "source": [
    "pardata = pst.parameter_data\n",
    "morris_sum_df['pargp']=pardata.loc[pardata.index.isin(morris_sum_df.index)].pargp"
   ]
  },
  {
   "cell_type": "code",
   "execution_count": 8,
   "metadata": {},
   "outputs": [],
   "source": [
    "morris_sum_df.set_index(morris_sum_df.pargp, drop=True, inplace=True)"
   ]
  },
  {
   "cell_type": "code",
   "execution_count": 9,
   "metadata": {},
   "outputs": [
    {
     "data": {
      "text/html": [
       "<div>\n",
       "<style scoped>\n",
       "    .dataframe tbody tr th:only-of-type {\n",
       "        vertical-align: middle;\n",
       "    }\n",
       "\n",
       "    .dataframe tbody tr th {\n",
       "        vertical-align: top;\n",
       "    }\n",
       "\n",
       "    .dataframe thead th {\n",
       "        text-align: right;\n",
       "    }\n",
       "</style>\n",
       "<table border=\"1\" class=\"dataframe\">\n",
       "  <thead>\n",
       "    <tr style=\"text-align: right;\">\n",
       "      <th></th>\n",
       "      <th>n_samples</th>\n",
       "      <th>sen_mean</th>\n",
       "      <th>sen_mean_abs</th>\n",
       "      <th>sen_std_dev</th>\n",
       "      <th>pargp</th>\n",
       "    </tr>\n",
       "    <tr>\n",
       "      <th>pargp</th>\n",
       "      <th></th>\n",
       "      <th></th>\n",
       "      <th></th>\n",
       "      <th></th>\n",
       "      <th></th>\n",
       "    </tr>\n",
       "  </thead>\n",
       "  <tbody>\n",
       "    <tr>\n",
       "      <th>wel</th>\n",
       "      <td>4</td>\n",
       "      <td>-8.621800e+01</td>\n",
       "      <td>8.902390e+01</td>\n",
       "      <td>176.178</td>\n",
       "      <td>wel</td>\n",
       "    </tr>\n",
       "    <tr>\n",
       "      <th>chd</th>\n",
       "      <td>4</td>\n",
       "      <td>6.914140e+01</td>\n",
       "      <td>1.282420e+02</td>\n",
       "      <td>130.583</td>\n",
       "      <td>chd</td>\n",
       "    </tr>\n",
       "    <tr>\n",
       "      <th>k_pp_:0</th>\n",
       "      <td>4</td>\n",
       "      <td>-2.365130e+05</td>\n",
       "      <td>2.365660e+05</td>\n",
       "      <td>472635.000</td>\n",
       "      <td>k_pp_:0</td>\n",
       "    </tr>\n",
       "    <tr>\n",
       "      <th>zn_k__multiplier</th>\n",
       "      <td>4</td>\n",
       "      <td>7.016140e+05</td>\n",
       "      <td>2.062450e+06</td>\n",
       "      <td>3459860.000</td>\n",
       "      <td>zn_k__multiplier</td>\n",
       "    </tr>\n",
       "    <tr>\n",
       "      <th>k_pp_:1</th>\n",
       "      <td>4</td>\n",
       "      <td>1.495990e+03</td>\n",
       "      <td>1.516300e+03</td>\n",
       "      <td>3017.830</td>\n",
       "      <td>k_pp_:1</td>\n",
       "    </tr>\n",
       "    <tr>\n",
       "      <th>k_pp_:2</th>\n",
       "      <td>4</td>\n",
       "      <td>-1.706830e+03</td>\n",
       "      <td>1.709030e+03</td>\n",
       "      <td>3401.120</td>\n",
       "      <td>k_pp_:2</td>\n",
       "    </tr>\n",
       "    <tr>\n",
       "      <th>k_pp_:3</th>\n",
       "      <td>4</td>\n",
       "      <td>4.318100e+06</td>\n",
       "      <td>4.319280e+06</td>\n",
       "      <td>8629450.000</td>\n",
       "      <td>k_pp_:3</td>\n",
       "    </tr>\n",
       "    <tr>\n",
       "      <th>k33_pp_:0</th>\n",
       "      <td>4</td>\n",
       "      <td>-5.553930e+02</td>\n",
       "      <td>5.591050e+02</td>\n",
       "      <td>1115.730</td>\n",
       "      <td>k33_pp_:0</td>\n",
       "    </tr>\n",
       "    <tr>\n",
       "      <th>zn_k33__multiplier</th>\n",
       "      <td>4</td>\n",
       "      <td>-1.476890e+05</td>\n",
       "      <td>1.600610e+05</td>\n",
       "      <td>312042.000</td>\n",
       "      <td>zn_k33__multiplier</td>\n",
       "    </tr>\n",
       "    <tr>\n",
       "      <th>k33_pp_:1</th>\n",
       "      <td>4</td>\n",
       "      <td>3.211460e+04</td>\n",
       "      <td>3.214630e+04</td>\n",
       "      <td>64270.400</td>\n",
       "      <td>k33_pp_:1</td>\n",
       "    </tr>\n",
       "    <tr>\n",
       "      <th>k33_pp_:2</th>\n",
       "      <td>4</td>\n",
       "      <td>8.788160e+03</td>\n",
       "      <td>8.790740e+03</td>\n",
       "      <td>17572.100</td>\n",
       "      <td>k33_pp_:2</td>\n",
       "    </tr>\n",
       "    <tr>\n",
       "      <th>k33_pp_:3</th>\n",
       "      <td>4</td>\n",
       "      <td>-2.245550e+03</td>\n",
       "      <td>4.228300e+03</td>\n",
       "      <td>6865.280</td>\n",
       "      <td>k33_pp_:3</td>\n",
       "    </tr>\n",
       "    <tr>\n",
       "      <th>rch_pp_:0</th>\n",
       "      <td>4</td>\n",
       "      <td>-2.363040e+06</td>\n",
       "      <td>2.363150e+06</td>\n",
       "      <td>4717720.000</td>\n",
       "      <td>rch_pp_:0</td>\n",
       "    </tr>\n",
       "    <tr>\n",
       "      <th>pp_rch__multiplier</th>\n",
       "      <td>4</td>\n",
       "      <td>-7.451000e+05</td>\n",
       "      <td>7.478920e+05</td>\n",
       "      <td>1493780.000</td>\n",
       "      <td>pp_rch__multiplier</td>\n",
       "    </tr>\n",
       "    <tr>\n",
       "      <th>sfrk</th>\n",
       "      <td>4</td>\n",
       "      <td>1.300480e+05</td>\n",
       "      <td>1.300480e+05</td>\n",
       "      <td>248755.000</td>\n",
       "      <td>sfrk</td>\n",
       "    </tr>\n",
       "  </tbody>\n",
       "</table>\n",
       "</div>"
      ],
      "text/plain": [
       "                    n_samples      sen_mean  sen_mean_abs  sen_std_dev  \\\n",
       "pargp                                                                    \n",
       "wel                         4 -8.621800e+01  8.902390e+01      176.178   \n",
       "chd                         4  6.914140e+01  1.282420e+02      130.583   \n",
       "k_pp_:0                     4 -2.365130e+05  2.365660e+05   472635.000   \n",
       "zn_k__multiplier            4  7.016140e+05  2.062450e+06  3459860.000   \n",
       "k_pp_:1                     4  1.495990e+03  1.516300e+03     3017.830   \n",
       "k_pp_:2                     4 -1.706830e+03  1.709030e+03     3401.120   \n",
       "k_pp_:3                     4  4.318100e+06  4.319280e+06  8629450.000   \n",
       "k33_pp_:0                   4 -5.553930e+02  5.591050e+02     1115.730   \n",
       "zn_k33__multiplier          4 -1.476890e+05  1.600610e+05   312042.000   \n",
       "k33_pp_:1                   4  3.211460e+04  3.214630e+04    64270.400   \n",
       "k33_pp_:2                   4  8.788160e+03  8.790740e+03    17572.100   \n",
       "k33_pp_:3                   4 -2.245550e+03  4.228300e+03     6865.280   \n",
       "rch_pp_:0                   4 -2.363040e+06  2.363150e+06  4717720.000   \n",
       "pp_rch__multiplier          4 -7.451000e+05  7.478920e+05  1493780.000   \n",
       "sfrk                        4  1.300480e+05  1.300480e+05   248755.000   \n",
       "\n",
       "                                 pargp  \n",
       "pargp                                   \n",
       "wel                                wel  \n",
       "chd                                chd  \n",
       "k_pp_:0                        k_pp_:0  \n",
       "zn_k__multiplier      zn_k__multiplier  \n",
       "k_pp_:1                        k_pp_:1  \n",
       "k_pp_:2                        k_pp_:2  \n",
       "k_pp_:3                        k_pp_:3  \n",
       "k33_pp_:0                    k33_pp_:0  \n",
       "zn_k33__multiplier  zn_k33__multiplier  \n",
       "k33_pp_:1                    k33_pp_:1  \n",
       "k33_pp_:2                    k33_pp_:2  \n",
       "k33_pp_:3                    k33_pp_:3  \n",
       "rch_pp_:0                    rch_pp_:0  \n",
       "pp_rch__multiplier  pp_rch__multiplier  \n",
       "sfrk                              sfrk  "
      ]
     },
     "execution_count": 9,
     "metadata": {},
     "output_type": "execute_result"
    }
   ],
   "source": [
    "morris_sum_df"
   ]
  },
  {
   "cell_type": "code",
   "execution_count": 10,
   "metadata": {},
   "outputs": [],
   "source": [
    "renames = {'k_pp_:0':'Kh PPs: Layer 1',\n",
    "'k_pp_:1':'Kh PPs: Layer 2',\n",
    "'k_pp_:2':'Kh PPs: Layer 3',\n",
    "'k_pp_:3':'Kh PPs: Layer 4',\n",
    "'k33_pp_:0':'Kv PPs: Layer 1',\n",
    "'k33_pp_:1':'Kv PPs: Layer 2',\n",
    "'k33_pp_:2':'Kv: Layer 3',\n",
    "'k33_pp_:3':'Kv PPs: Layer 4' ,\n",
    "'rch_pp_:0':'Recharge PPs',\n",
    "'pp_rch__multiplier':'Mean Recharge',\n",
    "'sfrk':'SFR K by reach',\n",
    "'wel':'Well Pumping',\n",
    "'chd': 'Constant Head',\n",
    "'zn_k__multiplier':'Kh by Zone',\n",
    "'zn_k33__multiplier':'Kv by Zone'}"
   ]
  },
  {
   "cell_type": "markdown",
   "metadata": {},
   "source": [
    "## Just make a barchart of the renamed parameter groups to show the relative sensitivity. We plot the log because the elemetary effects span orders of magnitude"
   ]
  },
  {
   "cell_type": "code",
   "execution_count": 11,
   "metadata": {},
   "outputs": [],
   "source": [
    "if ' sen_mean_abs' in morris_sum_df.columns:\n",
    "    morris_sum_df = morris_sum_df.rename(columns={' sen_mean_abs':'sen_mean_abs'}) # remove space in df column name"
   ]
  },
  {
   "cell_type": "code",
   "execution_count": 12,
   "metadata": {},
   "outputs": [
    {
     "data": {
      "image/png": "[encoded data removed]",
      "text/plain": [
       "<Figure size 504x504 with 1 Axes>"
      ]
     },
     "metadata": {
      "needs_background": "light"
     },
     "output_type": "display_data"
    }
   ],
   "source": [
    "from matplotlib.ticker import ScalarFormatter\n",
    "\n",
    "morris_sum_df.index = [renames[i] for i in morris_sum_df.index]\n",
    "mpl.rcParams.update({'font.size':16})\n",
    "\n",
    "ax = morris_sum_df.sort_values(by='sen_mean_abs',ascending=False).sen_mean_abs.apply(np.log10).plot.bar(figsize=(7,7))\n",
    "#ax.set_yscale('log')\n",
    "ax.set_ylabel('Log Mean absolute value of elementary effects ($\\mu*$)')\n",
    "ax.set_xlabel('Parameter Group')\n",
    "ax.yaxis.set_major_formatter(ScalarFormatter())\n",
    "\n",
    "ax.ticklabel_format(useOffset=False,style='plain', axis='y', )\n",
    "ax.grid()\n",
    "plt.tight_layout()\n",
    "ax.set_ylim([-2.7, 6.8])\n",
    "\n",
    "plt.title('Method of Morris Global Sensitivity Results')\n",
    "plt.savefig('../figures/morris_plot.pdf')"
   ]
  },
  {
   "cell_type": "code",
   "execution_count": null,
   "metadata": {},
   "outputs": [],
   "source": []
  }
 ],
 "metadata": {
  "kernelspec": {
   "display_name": "Python 3",
   "language": "python",
   "name": "python3"
  },
  "language_info": {
   "codemirror_mode": {
    "name": "ipython",
    "version": 3
   },
   "file_extension": ".py",
   "mimetype": "text/x-python",
   "name": "python",
   "nbconvert_exporter": "python",
   "pygments_lexer": "ipython3",
   "version": "3.9.2"
  }
 },
 "nbformat": 4,
 "nbformat_minor": 4
}
