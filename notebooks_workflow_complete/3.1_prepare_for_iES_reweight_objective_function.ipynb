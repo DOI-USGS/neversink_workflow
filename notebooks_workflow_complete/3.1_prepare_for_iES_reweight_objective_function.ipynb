{
 "cells": [
  {
   "cell_type": "code",
   "execution_count": 1,
   "metadata": {},
   "outputs": [],
   "source": [
    "import sys\n",
    "sys.path.append('../python_packages_static/')\n",
    "import pyemu\n",
    "import os\n",
    "import matplotlib.pyplot as plt"
   ]
  },
  {
   "cell_type": "markdown",
   "metadata": {},
   "source": [
    "## run NOPTMAX=0 to get residuals, then load and reweight like we were doing for Monte Carlo. But, also set up standard deviation column for noise on observations for the ensembles"
   ]
  },
  {
   "cell_type": "markdown",
   "metadata": {},
   "source": [
    "### NOTE: Make sure  `run_ensemble` is set appropriately - If `run_ensemble` is set to `True`, local runs are performed. If `run_ensemble` set to `False`results from the journal article are used. "
   ]
  },
  {
   "cell_type": "code",
   "execution_count": 2,
   "metadata": {},
   "outputs": [],
   "source": [
    "run_ensemble=False"
   ]
  },
  {
   "cell_type": "code",
   "execution_count": 3,
   "metadata": {},
   "outputs": [],
   "source": [
    "if run_ensemble==True:\n",
    "    input_dir = '../noptmax0_testing/' # read the pst file from here and get residuals\n",
    "else:\n",
    "    input_dir = '../output/noptmax0/' # read the pst file from here and get residuals\n",
    "output_dir = '../run_data'  # write out the new run file here\n",
    "pst_root = 'never_iES_noptmax0' # the PST root we are reading in from\n",
    "\n",
    "ies_noise_obs_file = 'never_ies_0.noise_lt_obs.pst' # Name of the PST file to write out as the start of iES"
   ]
  },
  {
   "cell_type": "markdown",
   "metadata": {},
   "source": [
    "### read in the PEST control file"
   ]
  },
  {
   "cell_type": "code",
   "execution_count": 4,
   "metadata": {},
   "outputs": [],
   "source": [
    "pst = pyemu.Pst(os.path.join(input_dir,'{}.pst'.format(pst_root)))"
   ]
  },
  {
   "cell_type": "markdown",
   "metadata": {},
   "source": [
    "### make a quick pie chart showing the current distribution of the observation groups in the objective function"
   ]
  },
  {
   "cell_type": "code",
   "execution_count": 5,
   "metadata": {},
   "outputs": [
    {
     "name": "stdout",
     "output_type": "stream",
     "text": [
      "13466.641213057053 {'budget': 0.0, 'flux': 3833.4155674636218, 'head': 2641.690715719341, 'land_surface': 6991.534929874092} {'budget': 0.0, 'flux': 0.28466010988298995, 'head': 0.19616552293366196, 'land_surface': 0.5191743671833482}\n"
     ]
    },
    {
     "name": "stderr",
     "output_type": "stream",
     "text": [
      "../python_packages_static\\pyemu\\plot\\plot_utils.py:662: MatplotlibDeprecationWarning: normalize=None does not normalize if the sum is less than 1 but this behavior is deprecated since 3.3 until two minor releases later. After the deprecation period the default value will be normalize=True. To prevent normalization pass normalize=False \n",
      "  ax.pie([float(norm_phi_comps[k]) for k in keys], labels=labels)\n"
     ]
    },
    {
     "data": {
      "text/plain": [
       "<AxesSubplot:>"
      ]
     },
     "execution_count": 5,
     "metadata": {},
     "output_type": "execute_result"
    },
    {
     "data": {
      "image/png": "[encoded data removed]",
      "text/plain": [
       "<Figure size 576x756 with 1 Axes>"
      ]
     },
     "metadata": {},
     "output_type": "display_data"
    }
   ],
   "source": [
    "pst.plot(kind='phi_pie')"
   ]
  },
  {
   "cell_type": "markdown",
   "metadata": {},
   "source": [
    "### we can use `pyemu` functionality to assign new weights that adjust and honor whatever balance we seek"
   ]
  },
  {
   "cell_type": "code",
   "execution_count": 6,
   "metadata": {},
   "outputs": [
    {
     "data": {
      "text/plain": [
       "{'budget': 0.0,\n",
       " 'flux': 3833.4155674636218,\n",
       " 'head': 2641.690715719341,\n",
       " 'land_surface': 6991.534929874092}"
      ]
     },
     "execution_count": 6,
     "metadata": {},
     "output_type": "execute_result"
    }
   ],
   "source": [
    "new_proportions = pst.phi_components.copy()\n",
    "new_proportions"
   ]
  },
  {
   "cell_type": "markdown",
   "metadata": {},
   "source": [
    "### here we assign proportions (that sum to 1.0) to the various groups. We want to retain the same total Phi so we multiply our proportions by the total Phi"
   ]
  },
  {
   "cell_type": "code",
   "execution_count": 7,
   "metadata": {},
   "outputs": [],
   "source": [
    "new_proportions['flux'] = 0.3*pst.phi\n",
    "new_proportions['head'] = 0.2*pst.phi\n",
    "new_proportions['land_surface'] = 0.5*pst.phi\n",
    "new_proportions['budget'] = 0"
   ]
  },
  {
   "cell_type": "code",
   "execution_count": 8,
   "metadata": {},
   "outputs": [
    {
     "data": {
      "text/plain": [
       "{'budget': 0,\n",
       " 'flux': 4039.9923639171157,\n",
       " 'head': 2693.328242611411,\n",
       " 'land_surface': 6733.320606528527}"
      ]
     },
     "execution_count": 8,
     "metadata": {},
     "output_type": "execute_result"
    }
   ],
   "source": [
    "new_proportions"
   ]
  },
  {
   "cell_type": "markdown",
   "metadata": {},
   "source": [
    "### using the `phi_components` dictionary, making a copy of it, and reassigning values, we can update the PST object using the `adjust_weights` function"
   ]
  },
  {
   "cell_type": "code",
   "execution_count": 9,
   "metadata": {},
   "outputs": [],
   "source": [
    "pst.adjust_weights(obsgrp_dict=new_proportions)"
   ]
  },
  {
   "cell_type": "code",
   "execution_count": 10,
   "metadata": {},
   "outputs": [
    {
     "data": {
      "text/html": [
       "<div>\n",
       "<style scoped>\n",
       "    .dataframe tbody tr th:only-of-type {\n",
       "        vertical-align: middle;\n",
       "    }\n",
       "\n",
       "    .dataframe tbody tr th {\n",
       "        vertical-align: top;\n",
       "    }\n",
       "\n",
       "    .dataframe thead th {\n",
       "        text-align: right;\n",
       "    }\n",
       "</style>\n",
       "<table border=\"1\" class=\"dataframe\">\n",
       "  <thead>\n",
       "    <tr style=\"text-align: right;\">\n",
       "      <th></th>\n",
       "      <th>obsnme</th>\n",
       "      <th>obsval</th>\n",
       "      <th>weight</th>\n",
       "      <th>obgnme</th>\n",
       "      <th>extra</th>\n",
       "    </tr>\n",
       "    <tr>\n",
       "      <th>obsnme</th>\n",
       "      <th></th>\n",
       "      <th></th>\n",
       "      <th></th>\n",
       "      <th></th>\n",
       "      <th></th>\n",
       "    </tr>\n",
       "  </thead>\n",
       "  <tbody>\n",
       "    <tr>\n",
       "      <th>q_1436500</th>\n",
       "      <td>q_1436500</td>\n",
       "      <td>116217.231560</td>\n",
       "      <td>0.001008</td>\n",
       "      <td>flux</td>\n",
       "      <td>NaN</td>\n",
       "    </tr>\n",
       "    <tr>\n",
       "      <th>q_1366650</th>\n",
       "      <td>q_1366650</td>\n",
       "      <td>124046.273310</td>\n",
       "      <td>0.002835</td>\n",
       "      <td>flux</td>\n",
       "      <td>NaN</td>\n",
       "    </tr>\n",
       "    <tr>\n",
       "      <th>h_414525074360601</th>\n",
       "      <td>h_414525074360601</td>\n",
       "      <td>357.182016</td>\n",
       "      <td>0.091539</td>\n",
       "      <td>head</td>\n",
       "      <td>NaN</td>\n",
       "    </tr>\n",
       "    <tr>\n",
       "      <th>h_o10577</th>\n",
       "      <td>h_o10577</td>\n",
       "      <td>203.903379</td>\n",
       "      <td>0.091539</td>\n",
       "      <td>head</td>\n",
       "      <td>NaN</td>\n",
       "    </tr>\n",
       "    <tr>\n",
       "      <th>h_o10942</th>\n",
       "      <td>h_o10942</td>\n",
       "      <td>150.660417</td>\n",
       "      <td>0.091539</td>\n",
       "      <td>head</td>\n",
       "      <td>NaN</td>\n",
       "    </tr>\n",
       "    <tr>\n",
       "      <th>...</th>\n",
       "      <td>...</td>\n",
       "      <td>...</td>\n",
       "      <td>...</td>\n",
       "      <td>...</td>\n",
       "      <td>...</td>\n",
       "    </tr>\n",
       "    <tr>\n",
       "      <th>land_surf_obs_550_500</th>\n",
       "      <td>land_surf_obs_550_500</td>\n",
       "      <td>365.440000</td>\n",
       "      <td>0.427371</td>\n",
       "      <td>land_surface</td>\n",
       "      <td>NaN</td>\n",
       "    </tr>\n",
       "    <tr>\n",
       "      <th>land_surf_obs_600_350</th>\n",
       "      <td>land_surf_obs_600_350</td>\n",
       "      <td>443.410000</td>\n",
       "      <td>0.427371</td>\n",
       "      <td>land_surface</td>\n",
       "      <td>NaN</td>\n",
       "    </tr>\n",
       "    <tr>\n",
       "      <th>land_surf_obs_600_400</th>\n",
       "      <td>land_surf_obs_600_400</td>\n",
       "      <td>300.950000</td>\n",
       "      <td>0.427371</td>\n",
       "      <td>land_surface</td>\n",
       "      <td>NaN</td>\n",
       "    </tr>\n",
       "    <tr>\n",
       "      <th>land_surf_obs_600_450</th>\n",
       "      <td>land_surf_obs_600_450</td>\n",
       "      <td>153.240000</td>\n",
       "      <td>0.427371</td>\n",
       "      <td>land_surface</td>\n",
       "      <td>NaN</td>\n",
       "    </tr>\n",
       "    <tr>\n",
       "      <th>land_surf_obs_650_450</th>\n",
       "      <td>land_surf_obs_650_450</td>\n",
       "      <td>266.930000</td>\n",
       "      <td>0.427371</td>\n",
       "      <td>land_surface</td>\n",
       "      <td>NaN</td>\n",
       "    </tr>\n",
       "  </tbody>\n",
       "</table>\n",
       "<p>526 rows × 5 columns</p>\n",
       "</div>"
      ],
      "text/plain": [
       "                                      obsnme         obsval    weight  \\\n",
       "obsnme                                                                  \n",
       "q_1436500                          q_1436500  116217.231560  0.001008   \n",
       "q_1366650                          q_1366650  124046.273310  0.002835   \n",
       "h_414525074360601          h_414525074360601     357.182016  0.091539   \n",
       "h_o10577                            h_o10577     203.903379  0.091539   \n",
       "h_o10942                            h_o10942     150.660417  0.091539   \n",
       "...                                      ...            ...       ...   \n",
       "land_surf_obs_550_500  land_surf_obs_550_500     365.440000  0.427371   \n",
       "land_surf_obs_600_350  land_surf_obs_600_350     443.410000  0.427371   \n",
       "land_surf_obs_600_400  land_surf_obs_600_400     300.950000  0.427371   \n",
       "land_surf_obs_600_450  land_surf_obs_600_450     153.240000  0.427371   \n",
       "land_surf_obs_650_450  land_surf_obs_650_450     266.930000  0.427371   \n",
       "\n",
       "                             obgnme  extra  \n",
       "obsnme                                      \n",
       "q_1436500                      flux    NaN  \n",
       "q_1366650                      flux    NaN  \n",
       "h_414525074360601              head    NaN  \n",
       "h_o10577                       head    NaN  \n",
       "h_o10942                       head    NaN  \n",
       "...                             ...    ...  \n",
       "land_surf_obs_550_500  land_surface    NaN  \n",
       "land_surf_obs_600_350  land_surface    NaN  \n",
       "land_surf_obs_600_400  land_surface    NaN  \n",
       "land_surf_obs_600_450  land_surface    NaN  \n",
       "land_surf_obs_650_450  land_surface    NaN  \n",
       "\n",
       "[526 rows x 5 columns]"
      ]
     },
     "execution_count": 10,
     "metadata": {},
     "output_type": "execute_result"
    }
   ],
   "source": [
    "pst.observation_data"
   ]
  },
  {
   "cell_type": "code",
   "execution_count": 11,
   "metadata": {},
   "outputs": [
    {
     "name": "stdout",
     "output_type": "stream",
     "text": [
      "13466.641213057055 {'budget': 0.0, 'flux': 4039.992363917115, 'head': 2693.328242611411, 'land_surface': 6733.3206065285285} {'budget': 0.0, 'flux': 0.2999999999999999, 'head': 0.2, 'land_surface': 0.5000000000000001}\n"
     ]
    },
    {
     "data": {
      "text/plain": [
       "<AxesSubplot:>"
      ]
     },
     "execution_count": 11,
     "metadata": {},
     "output_type": "execute_result"
    },
    {
     "data": {
      "image/png": "[encoded data removed]",
      "text/plain": [
       "<Figure size 576x756 with 1 Axes>"
      ]
     },
     "metadata": {},
     "output_type": "display_data"
    }
   ],
   "source": [
    "pst.plot(kind='phi_pie')"
   ]
  },
  {
   "cell_type": "code",
   "execution_count": 12,
   "metadata": {},
   "outputs": [],
   "source": [
    "# set some values for pestpp-ies\n",
    "if run_ensemble == True:\n",
    "    pst.pestpp_options[\"ies_num_reals\"] = 20  \n",
    "else:\n",
    "    pst.pestpp_options[\"ies_num_reals\"] = 500 \n",
    "    \n",
    "pst.pestpp_options[\"ies_bad_phi_sigma\"] = 2.5\n",
    "pst.pestpp_options[\"overdue_giveup_fac\"] = 4\n",
    "pst.pestpp_options[\"ies_save_rescov\"] = True\n",
    "pst.pestpp_options[\"ies_no_noise\"] = True\n",
    "pst.pestpp_options[\"ies_drop_conflicts\"] = False\n",
    "pst.pestpp_options[\"ies_pdc_sigma_distance\"] = 3.0\n",
    "pst.pestpp_options['ies_autoadaloc']=True\n",
    "pst.pestpp_options['ies_num_threads']=4\n",
    "pst.pestpp_options['ies_lambda_mults']=(0.1,1.0,10.0,100.0)\n",
    "pst.pestpp_options['lambda_scale_fac'] = (0.75,0.9,1.0,1.1)\n",
    "pst.pestpp_options['ies_subset_size']=10\n",
    "\n",
    "# set SVD for some regularization\n",
    "pst.svd_data.maxsing = 250"
   ]
  },
  {
   "cell_type": "code",
   "execution_count": 13,
   "metadata": {},
   "outputs": [
    {
     "data": {
      "text/plain": [
       "500"
      ]
     },
     "execution_count": 13,
     "metadata": {},
     "output_type": "execute_result"
    }
   ],
   "source": [
    "# check number of realizations\n",
    "pst.pestpp_options[\"ies_num_reals\"]"
   ]
  },
  {
   "cell_type": "markdown",
   "metadata": {},
   "source": [
    "### we want to use the observations in the `land_surface` group as inequality observations (e.g. unweighted unless needed to enforce \"less than\" condition). By naming the groups starting with \"less_than\" PESTPP-IES will interpret them as such"
   ]
  },
  {
   "cell_type": "code",
   "execution_count": 14,
   "metadata": {},
   "outputs": [],
   "source": [
    "pst.observation_data.loc[pst.observation_data.obgnme=='land_surface', 'obgnme'] = 'less_than_land_surface' # rename for less than inequality"
   ]
  },
  {
   "cell_type": "code",
   "execution_count": 15,
   "metadata": {},
   "outputs": [
    {
     "data": {
      "text/html": [
       "<div>\n",
       "<style scoped>\n",
       "    .dataframe tbody tr th:only-of-type {\n",
       "        vertical-align: middle;\n",
       "    }\n",
       "\n",
       "    .dataframe tbody tr th {\n",
       "        vertical-align: top;\n",
       "    }\n",
       "\n",
       "    .dataframe thead th {\n",
       "        text-align: right;\n",
       "    }\n",
       "</style>\n",
       "<table border=\"1\" class=\"dataframe\">\n",
       "  <thead>\n",
       "    <tr style=\"text-align: right;\">\n",
       "      <th></th>\n",
       "      <th>obsnme</th>\n",
       "      <th>obsval</th>\n",
       "      <th>weight</th>\n",
       "      <th>obgnme</th>\n",
       "      <th>extra</th>\n",
       "    </tr>\n",
       "    <tr>\n",
       "      <th>obsnme</th>\n",
       "      <th></th>\n",
       "      <th></th>\n",
       "      <th></th>\n",
       "      <th></th>\n",
       "      <th></th>\n",
       "    </tr>\n",
       "  </thead>\n",
       "  <tbody>\n",
       "    <tr>\n",
       "      <th>q_1436500</th>\n",
       "      <td>q_1436500</td>\n",
       "      <td>116217.231560</td>\n",
       "      <td>0.001008</td>\n",
       "      <td>flux</td>\n",
       "      <td>NaN</td>\n",
       "    </tr>\n",
       "    <tr>\n",
       "      <th>q_1366650</th>\n",
       "      <td>q_1366650</td>\n",
       "      <td>124046.273310</td>\n",
       "      <td>0.002835</td>\n",
       "      <td>flux</td>\n",
       "      <td>NaN</td>\n",
       "    </tr>\n",
       "    <tr>\n",
       "      <th>h_414525074360601</th>\n",
       "      <td>h_414525074360601</td>\n",
       "      <td>357.182016</td>\n",
       "      <td>0.091539</td>\n",
       "      <td>head</td>\n",
       "      <td>NaN</td>\n",
       "    </tr>\n",
       "    <tr>\n",
       "      <th>h_o10577</th>\n",
       "      <td>h_o10577</td>\n",
       "      <td>203.903379</td>\n",
       "      <td>0.091539</td>\n",
       "      <td>head</td>\n",
       "      <td>NaN</td>\n",
       "    </tr>\n",
       "    <tr>\n",
       "      <th>h_o10942</th>\n",
       "      <td>h_o10942</td>\n",
       "      <td>150.660417</td>\n",
       "      <td>0.091539</td>\n",
       "      <td>head</td>\n",
       "      <td>NaN</td>\n",
       "    </tr>\n",
       "    <tr>\n",
       "      <th>...</th>\n",
       "      <td>...</td>\n",
       "      <td>...</td>\n",
       "      <td>...</td>\n",
       "      <td>...</td>\n",
       "      <td>...</td>\n",
       "    </tr>\n",
       "    <tr>\n",
       "      <th>land_surf_obs_550_500</th>\n",
       "      <td>land_surf_obs_550_500</td>\n",
       "      <td>365.440000</td>\n",
       "      <td>0.427371</td>\n",
       "      <td>less_than_land_surface</td>\n",
       "      <td>NaN</td>\n",
       "    </tr>\n",
       "    <tr>\n",
       "      <th>land_surf_obs_600_350</th>\n",
       "      <td>land_surf_obs_600_350</td>\n",
       "      <td>443.410000</td>\n",
       "      <td>0.427371</td>\n",
       "      <td>less_than_land_surface</td>\n",
       "      <td>NaN</td>\n",
       "    </tr>\n",
       "    <tr>\n",
       "      <th>land_surf_obs_600_400</th>\n",
       "      <td>land_surf_obs_600_400</td>\n",
       "      <td>300.950000</td>\n",
       "      <td>0.427371</td>\n",
       "      <td>less_than_land_surface</td>\n",
       "      <td>NaN</td>\n",
       "    </tr>\n",
       "    <tr>\n",
       "      <th>land_surf_obs_600_450</th>\n",
       "      <td>land_surf_obs_600_450</td>\n",
       "      <td>153.240000</td>\n",
       "      <td>0.427371</td>\n",
       "      <td>less_than_land_surface</td>\n",
       "      <td>NaN</td>\n",
       "    </tr>\n",
       "    <tr>\n",
       "      <th>land_surf_obs_650_450</th>\n",
       "      <td>land_surf_obs_650_450</td>\n",
       "      <td>266.930000</td>\n",
       "      <td>0.427371</td>\n",
       "      <td>less_than_land_surface</td>\n",
       "      <td>NaN</td>\n",
       "    </tr>\n",
       "  </tbody>\n",
       "</table>\n",
       "<p>526 rows × 5 columns</p>\n",
       "</div>"
      ],
      "text/plain": [
       "                                      obsnme         obsval    weight  \\\n",
       "obsnme                                                                  \n",
       "q_1436500                          q_1436500  116217.231560  0.001008   \n",
       "q_1366650                          q_1366650  124046.273310  0.002835   \n",
       "h_414525074360601          h_414525074360601     357.182016  0.091539   \n",
       "h_o10577                            h_o10577     203.903379  0.091539   \n",
       "h_o10942                            h_o10942     150.660417  0.091539   \n",
       "...                                      ...            ...       ...   \n",
       "land_surf_obs_550_500  land_surf_obs_550_500     365.440000  0.427371   \n",
       "land_surf_obs_600_350  land_surf_obs_600_350     443.410000  0.427371   \n",
       "land_surf_obs_600_400  land_surf_obs_600_400     300.950000  0.427371   \n",
       "land_surf_obs_600_450  land_surf_obs_600_450     153.240000  0.427371   \n",
       "land_surf_obs_650_450  land_surf_obs_650_450     266.930000  0.427371   \n",
       "\n",
       "                                       obgnme  extra  \n",
       "obsnme                                                \n",
       "q_1436500                                flux    NaN  \n",
       "q_1366650                                flux    NaN  \n",
       "h_414525074360601                        head    NaN  \n",
       "h_o10577                                 head    NaN  \n",
       "h_o10942                                 head    NaN  \n",
       "...                                       ...    ...  \n",
       "land_surf_obs_550_500  less_than_land_surface    NaN  \n",
       "land_surf_obs_600_350  less_than_land_surface    NaN  \n",
       "land_surf_obs_600_400  less_than_land_surface    NaN  \n",
       "land_surf_obs_600_450  less_than_land_surface    NaN  \n",
       "land_surf_obs_650_450  less_than_land_surface    NaN  \n",
       "\n",
       "[526 rows x 5 columns]"
      ]
     },
     "execution_count": 15,
     "metadata": {},
     "output_type": "execute_result"
    }
   ],
   "source": [
    "pst.observation_data"
   ]
  },
  {
   "cell_type": "markdown",
   "metadata": {},
   "source": [
    "# Add standard deviation column for observations to control noise realizations"
   ]
  },
  {
   "cell_type": "markdown",
   "metadata": {},
   "source": [
    "### make a \"standard_deviation\" column in the pst observation_data dataframe. This will inform PESTPP-IES to use these value for sampling in generating the observation noise on the ensembles. \n",
    "\n",
    "Start out with a value of -9999 that we can use as a test to make sure we set a value for every observation group."
   ]
  },
  {
   "cell_type": "code",
   "execution_count": 16,
   "metadata": {},
   "outputs": [],
   "source": [
    "obs = pst.observation_data\n",
    "obs['standard_deviation'] = -9999"
   ]
  },
  {
   "cell_type": "markdown",
   "metadata": {},
   "source": [
    "### now we set some subjective standard deviation values that we assert are more appropriate than the straight up weights."
   ]
  },
  {
   "cell_type": "code",
   "execution_count": 17,
   "metadata": {},
   "outputs": [
    {
     "data": {
      "text/plain": [
       "obsnme\n",
       "q_1436500    11633.356513\n",
       "Name: obsval, dtype: float64"
      ]
     },
     "execution_count": 17,
     "metadata": {},
     "output_type": "execute_result"
    }
   ],
   "source": [
    "obs.loc[obs.obsnme=='q_1436500'].obsval/(3.33*3)"
   ]
  },
  {
   "cell_type": "code",
   "execution_count": 18,
   "metadata": {},
   "outputs": [
    {
     "data": {
      "text/plain": [
       "obsnme\n",
       "q_1366650    4134.875777\n",
       "Name: obsval, dtype: float64"
      ]
     },
     "execution_count": 18,
     "metadata": {},
     "output_type": "execute_result"
    }
   ],
   "source": [
    "obs.loc[obs.obsnme=='q_1366650'].obsval/30"
   ]
  },
  {
   "cell_type": "code",
   "execution_count": 19,
   "metadata": {},
   "outputs": [],
   "source": [
    "obs.loc[obs.obsnme=='q_1436500', 'standard_deviation'] = obs.loc[obs.obsnme=='q_1436500'].obsval/(3.33*3)\n",
    "obs.loc[obs.obsnme=='q_1366650', 'standard_deviation'] = obs.loc[obs.obsnme=='q_1366650'].obsval/(10.*3)"
   ]
  },
  {
   "cell_type": "code",
   "execution_count": 20,
   "metadata": {},
   "outputs": [],
   "source": [
    "obs.loc[obs.obgnme=='head', 'standard_deviation'] =  5/3  #  5 is the range, div by 3 for the range\n",
    "obs.loc[obs.obgnme=='less_than_land_surface', 'standard_deviation'] = 10/3\n",
    "obs.loc[obs.obgnme=='budget', 'standard_deviation'] = 9999"
   ]
  },
  {
   "cell_type": "markdown",
   "metadata": {},
   "source": [
    "### use an `assert` statment to make sure we set obs to have a standard deviation not -9999"
   ]
  },
  {
   "cell_type": "code",
   "execution_count": 21,
   "metadata": {},
   "outputs": [],
   "source": [
    "assert pst.observation_data.standard_deviation.min()>0"
   ]
  },
  {
   "cell_type": "code",
   "execution_count": 22,
   "metadata": {},
   "outputs": [
    {
     "data": {
      "text/html": [
       "<div>\n",
       "<style scoped>\n",
       "    .dataframe tbody tr th:only-of-type {\n",
       "        vertical-align: middle;\n",
       "    }\n",
       "\n",
       "    .dataframe tbody tr th {\n",
       "        vertical-align: top;\n",
       "    }\n",
       "\n",
       "    .dataframe thead th {\n",
       "        text-align: right;\n",
       "    }\n",
       "</style>\n",
       "<table border=\"1\" class=\"dataframe\">\n",
       "  <thead>\n",
       "    <tr style=\"text-align: right;\">\n",
       "      <th></th>\n",
       "      <th>obsnme</th>\n",
       "      <th>obsval</th>\n",
       "      <th>weight</th>\n",
       "      <th>obgnme</th>\n",
       "      <th>extra</th>\n",
       "      <th>standard_deviation</th>\n",
       "    </tr>\n",
       "    <tr>\n",
       "      <th>obsnme</th>\n",
       "      <th></th>\n",
       "      <th></th>\n",
       "      <th></th>\n",
       "      <th></th>\n",
       "      <th></th>\n",
       "      <th></th>\n",
       "    </tr>\n",
       "  </thead>\n",
       "  <tbody>\n",
       "    <tr>\n",
       "      <th>q_1436500</th>\n",
       "      <td>q_1436500</td>\n",
       "      <td>116217.231560</td>\n",
       "      <td>0.001008</td>\n",
       "      <td>flux</td>\n",
       "      <td>NaN</td>\n",
       "      <td>11633.356513</td>\n",
       "    </tr>\n",
       "    <tr>\n",
       "      <th>q_1366650</th>\n",
       "      <td>q_1366650</td>\n",
       "      <td>124046.273310</td>\n",
       "      <td>0.002835</td>\n",
       "      <td>flux</td>\n",
       "      <td>NaN</td>\n",
       "      <td>4134.875777</td>\n",
       "    </tr>\n",
       "    <tr>\n",
       "      <th>h_414525074360601</th>\n",
       "      <td>h_414525074360601</td>\n",
       "      <td>357.182016</td>\n",
       "      <td>0.091539</td>\n",
       "      <td>head</td>\n",
       "      <td>NaN</td>\n",
       "      <td>1.666667</td>\n",
       "    </tr>\n",
       "    <tr>\n",
       "      <th>h_o10577</th>\n",
       "      <td>h_o10577</td>\n",
       "      <td>203.903379</td>\n",
       "      <td>0.091539</td>\n",
       "      <td>head</td>\n",
       "      <td>NaN</td>\n",
       "      <td>1.666667</td>\n",
       "    </tr>\n",
       "    <tr>\n",
       "      <th>h_o10942</th>\n",
       "      <td>h_o10942</td>\n",
       "      <td>150.660417</td>\n",
       "      <td>0.091539</td>\n",
       "      <td>head</td>\n",
       "      <td>NaN</td>\n",
       "      <td>1.666667</td>\n",
       "    </tr>\n",
       "    <tr>\n",
       "      <th>...</th>\n",
       "      <td>...</td>\n",
       "      <td>...</td>\n",
       "      <td>...</td>\n",
       "      <td>...</td>\n",
       "      <td>...</td>\n",
       "      <td>...</td>\n",
       "    </tr>\n",
       "    <tr>\n",
       "      <th>land_surf_obs_550_500</th>\n",
       "      <td>land_surf_obs_550_500</td>\n",
       "      <td>365.440000</td>\n",
       "      <td>0.427371</td>\n",
       "      <td>less_than_land_surface</td>\n",
       "      <td>NaN</td>\n",
       "      <td>3.333333</td>\n",
       "    </tr>\n",
       "    <tr>\n",
       "      <th>land_surf_obs_600_350</th>\n",
       "      <td>land_surf_obs_600_350</td>\n",
       "      <td>443.410000</td>\n",
       "      <td>0.427371</td>\n",
       "      <td>less_than_land_surface</td>\n",
       "      <td>NaN</td>\n",
       "      <td>3.333333</td>\n",
       "    </tr>\n",
       "    <tr>\n",
       "      <th>land_surf_obs_600_400</th>\n",
       "      <td>land_surf_obs_600_400</td>\n",
       "      <td>300.950000</td>\n",
       "      <td>0.427371</td>\n",
       "      <td>less_than_land_surface</td>\n",
       "      <td>NaN</td>\n",
       "      <td>3.333333</td>\n",
       "    </tr>\n",
       "    <tr>\n",
       "      <th>land_surf_obs_600_450</th>\n",
       "      <td>land_surf_obs_600_450</td>\n",
       "      <td>153.240000</td>\n",
       "      <td>0.427371</td>\n",
       "      <td>less_than_land_surface</td>\n",
       "      <td>NaN</td>\n",
       "      <td>3.333333</td>\n",
       "    </tr>\n",
       "    <tr>\n",
       "      <th>land_surf_obs_650_450</th>\n",
       "      <td>land_surf_obs_650_450</td>\n",
       "      <td>266.930000</td>\n",
       "      <td>0.427371</td>\n",
       "      <td>less_than_land_surface</td>\n",
       "      <td>NaN</td>\n",
       "      <td>3.333333</td>\n",
       "    </tr>\n",
       "  </tbody>\n",
       "</table>\n",
       "<p>526 rows × 6 columns</p>\n",
       "</div>"
      ],
      "text/plain": [
       "                                      obsnme         obsval    weight  \\\n",
       "obsnme                                                                  \n",
       "q_1436500                          q_1436500  116217.231560  0.001008   \n",
       "q_1366650                          q_1366650  124046.273310  0.002835   \n",
       "h_414525074360601          h_414525074360601     357.182016  0.091539   \n",
       "h_o10577                            h_o10577     203.903379  0.091539   \n",
       "h_o10942                            h_o10942     150.660417  0.091539   \n",
       "...                                      ...            ...       ...   \n",
       "land_surf_obs_550_500  land_surf_obs_550_500     365.440000  0.427371   \n",
       "land_surf_obs_600_350  land_surf_obs_600_350     443.410000  0.427371   \n",
       "land_surf_obs_600_400  land_surf_obs_600_400     300.950000  0.427371   \n",
       "land_surf_obs_600_450  land_surf_obs_600_450     153.240000  0.427371   \n",
       "land_surf_obs_650_450  land_surf_obs_650_450     266.930000  0.427371   \n",
       "\n",
       "                                       obgnme  extra  standard_deviation  \n",
       "obsnme                                                                    \n",
       "q_1436500                                flux    NaN        11633.356513  \n",
       "q_1366650                                flux    NaN         4134.875777  \n",
       "h_414525074360601                        head    NaN            1.666667  \n",
       "h_o10577                                 head    NaN            1.666667  \n",
       "h_o10942                                 head    NaN            1.666667  \n",
       "...                                       ...    ...                 ...  \n",
       "land_surf_obs_550_500  less_than_land_surface    NaN            3.333333  \n",
       "land_surf_obs_600_350  less_than_land_surface    NaN            3.333333  \n",
       "land_surf_obs_600_400  less_than_land_surface    NaN            3.333333  \n",
       "land_surf_obs_600_450  less_than_land_surface    NaN            3.333333  \n",
       "land_surf_obs_650_450  less_than_land_surface    NaN            3.333333  \n",
       "\n",
       "[526 rows x 6 columns]"
      ]
     },
     "execution_count": 22,
     "metadata": {},
     "output_type": "execute_result"
    }
   ],
   "source": [
    "pst.observation_data"
   ]
  },
  {
   "cell_type": "markdown",
   "metadata": {},
   "source": [
    "### Write out an updated parameter summary XLS file"
   ]
  },
  {
   "cell_type": "code",
   "execution_count": 23,
   "metadata": {},
   "outputs": [
    {
     "name": "stdout",
     "output_type": "stream",
     "text": [
      "Warning: because log-transformed values being reported in linear space, stdev NOT reported\n"
     ]
    },
    {
     "data": {
      "text/html": [
       "<div>\n",
       "<style scoped>\n",
       "    .dataframe tbody tr th:only-of-type {\n",
       "        vertical-align: middle;\n",
       "    }\n",
       "\n",
       "    .dataframe tbody tr th {\n",
       "        vertical-align: top;\n",
       "    }\n",
       "\n",
       "    .dataframe thead th {\n",
       "        text-align: right;\n",
       "    }\n",
       "</style>\n",
       "<table border=\"1\" class=\"dataframe\">\n",
       "  <thead>\n",
       "    <tr style=\"text-align: right;\">\n",
       "      <th></th>\n",
       "      <th>type</th>\n",
       "      <th>transform</th>\n",
       "      <th>count</th>\n",
       "      <th>initial value</th>\n",
       "      <th>lower bound</th>\n",
       "      <th>upper bound</th>\n",
       "    </tr>\n",
       "  </thead>\n",
       "  <tbody>\n",
       "    <tr>\n",
       "      <th>chd</th>\n",
       "      <td>chd</td>\n",
       "      <td>fixed</td>\n",
       "      <td>176</td>\n",
       "      <td>1</td>\n",
       "      <td>1</td>\n",
       "      <td>1</td>\n",
       "    </tr>\n",
       "    <tr>\n",
       "      <th>k33_pp_:0</th>\n",
       "      <td>k33_pp_:0</td>\n",
       "      <td>log</td>\n",
       "      <td>202</td>\n",
       "      <td>0.934939 to 1.05467</td>\n",
       "      <td>0.76109 to 0.877788</td>\n",
       "      <td>1.16071 to 1.31726</td>\n",
       "    </tr>\n",
       "    <tr>\n",
       "      <th>k33_pp_:1</th>\n",
       "      <td>k33_pp_:1</td>\n",
       "      <td>log</td>\n",
       "      <td>560</td>\n",
       "      <td>0.928528 to 1.07049</td>\n",
       "      <td>0.750066 to 0.877737</td>\n",
       "      <td>1.13434 to 1.32259</td>\n",
       "    </tr>\n",
       "    <tr>\n",
       "      <th>k33_pp_:2</th>\n",
       "      <td>k33_pp_:2</td>\n",
       "      <td>log</td>\n",
       "      <td>473</td>\n",
       "      <td>0.905585 to 1.06095</td>\n",
       "      <td>0.74871 to 0.869043</td>\n",
       "      <td>1.13703 to 1.33378</td>\n",
       "    </tr>\n",
       "    <tr>\n",
       "      <th>k33_pp_:3</th>\n",
       "      <td>k33_pp_:3</td>\n",
       "      <td>log</td>\n",
       "      <td>470</td>\n",
       "      <td>0.942581 to 1.08501</td>\n",
       "      <td>0.743949 to 0.88099</td>\n",
       "      <td>1.14983 to 1.35288</td>\n",
       "    </tr>\n",
       "    <tr>\n",
       "      <th>k_pp_:0</th>\n",
       "      <td>k_pp_:0</td>\n",
       "      <td>log</td>\n",
       "      <td>202</td>\n",
       "      <td>0.9498 to 1.05047</td>\n",
       "      <td>0.752159 to 0.861163</td>\n",
       "      <td>1.14614 to 1.31038</td>\n",
       "    </tr>\n",
       "    <tr>\n",
       "      <th>k_pp_:1</th>\n",
       "      <td>k_pp_:1</td>\n",
       "      <td>log</td>\n",
       "      <td>560</td>\n",
       "      <td>0.926962 to 1.0585</td>\n",
       "      <td>0.742919 to 0.870953</td>\n",
       "      <td>1.14287 to 1.33156</td>\n",
       "    </tr>\n",
       "    <tr>\n",
       "      <th>k_pp_:2</th>\n",
       "      <td>k_pp_:2</td>\n",
       "      <td>log</td>\n",
       "      <td>473</td>\n",
       "      <td>0.937231 to 1.0619</td>\n",
       "      <td>0.748387 to 0.870436</td>\n",
       "      <td>1.134 to 1.34699</td>\n",
       "    </tr>\n",
       "    <tr>\n",
       "      <th>k_pp_:3</th>\n",
       "      <td>k_pp_:3</td>\n",
       "      <td>log</td>\n",
       "      <td>470</td>\n",
       "      <td>0.930316 to 1.05865</td>\n",
       "      <td>0.755889 to 0.854313</td>\n",
       "      <td>1.16135 to 1.32008</td>\n",
       "    </tr>\n",
       "    <tr>\n",
       "      <th>pp_rch__multiplier</th>\n",
       "      <td>pp_rch__multiplier</td>\n",
       "      <td>log</td>\n",
       "      <td>1</td>\n",
       "      <td>0.994781</td>\n",
       "      <td>0.955275</td>\n",
       "      <td>1.02632</td>\n",
       "    </tr>\n",
       "    <tr>\n",
       "      <th>rch_pp_:0</th>\n",
       "      <td>rch_pp_:0</td>\n",
       "      <td>log</td>\n",
       "      <td>470</td>\n",
       "      <td>0.979177 to 1.01862</td>\n",
       "      <td>0.913894 to 0.958129</td>\n",
       "      <td>1.04029 to 1.10013</td>\n",
       "    </tr>\n",
       "    <tr>\n",
       "      <th>sfrk</th>\n",
       "      <td>sfrk</td>\n",
       "      <td>log</td>\n",
       "      <td>915</td>\n",
       "      <td>0.800645 to 1.34382</td>\n",
       "      <td>0.333884 to 0.612881</td>\n",
       "      <td>1.66955 to 2.73475</td>\n",
       "    </tr>\n",
       "    <tr>\n",
       "      <th>wel</th>\n",
       "      <td>wel</td>\n",
       "      <td>log</td>\n",
       "      <td>31</td>\n",
       "      <td>0.986255 to 1.01451</td>\n",
       "      <td>0.918652 to 0.946733</td>\n",
       "      <td>1.04196 to 1.09133</td>\n",
       "    </tr>\n",
       "    <tr>\n",
       "      <th>zn_k33__multiplier</th>\n",
       "      <td>zn_k33__multiplier</td>\n",
       "      <td>log</td>\n",
       "      <td>42</td>\n",
       "      <td>0.257626 to 70.495</td>\n",
       "      <td>0.0605808 to 15.0039</td>\n",
       "      <td>1.46816 to 320.595</td>\n",
       "    </tr>\n",
       "    <tr>\n",
       "      <th>zn_k__multiplier</th>\n",
       "      <td>zn_k__multiplier</td>\n",
       "      <td>log</td>\n",
       "      <td>42</td>\n",
       "      <td>0.206503 to 66.1371</td>\n",
       "      <td>0.0413825 to 12.3962</td>\n",
       "      <td>1.05137 to 319.822</td>\n",
       "    </tr>\n",
       "  </tbody>\n",
       "</table>\n",
       "</div>"
      ],
      "text/plain": [
       "                                  type transform  count        initial value  \\\n",
       "chd                                chd     fixed    176                    1   \n",
       "k33_pp_:0                    k33_pp_:0       log    202  0.934939 to 1.05467   \n",
       "k33_pp_:1                    k33_pp_:1       log    560  0.928528 to 1.07049   \n",
       "k33_pp_:2                    k33_pp_:2       log    473  0.905585 to 1.06095   \n",
       "k33_pp_:3                    k33_pp_:3       log    470  0.942581 to 1.08501   \n",
       "k_pp_:0                        k_pp_:0       log    202    0.9498 to 1.05047   \n",
       "k_pp_:1                        k_pp_:1       log    560   0.926962 to 1.0585   \n",
       "k_pp_:2                        k_pp_:2       log    473   0.937231 to 1.0619   \n",
       "k_pp_:3                        k_pp_:3       log    470  0.930316 to 1.05865   \n",
       "pp_rch__multiplier  pp_rch__multiplier       log      1             0.994781   \n",
       "rch_pp_:0                    rch_pp_:0       log    470  0.979177 to 1.01862   \n",
       "sfrk                              sfrk       log    915  0.800645 to 1.34382   \n",
       "wel                                wel       log     31  0.986255 to 1.01451   \n",
       "zn_k33__multiplier  zn_k33__multiplier       log     42   0.257626 to 70.495   \n",
       "zn_k__multiplier      zn_k__multiplier       log     42  0.206503 to 66.1371   \n",
       "\n",
       "                             lower bound         upper bound  \n",
       "chd                                    1                   1  \n",
       "k33_pp_:0            0.76109 to 0.877788  1.16071 to 1.31726  \n",
       "k33_pp_:1           0.750066 to 0.877737  1.13434 to 1.32259  \n",
       "k33_pp_:2            0.74871 to 0.869043  1.13703 to 1.33378  \n",
       "k33_pp_:3            0.743949 to 0.88099  1.14983 to 1.35288  \n",
       "k_pp_:0             0.752159 to 0.861163  1.14614 to 1.31038  \n",
       "k_pp_:1             0.742919 to 0.870953  1.14287 to 1.33156  \n",
       "k_pp_:2             0.748387 to 0.870436    1.134 to 1.34699  \n",
       "k_pp_:3             0.755889 to 0.854313  1.16135 to 1.32008  \n",
       "pp_rch__multiplier              0.955275             1.02632  \n",
       "rch_pp_:0           0.913894 to 0.958129  1.04029 to 1.10013  \n",
       "sfrk                0.333884 to 0.612881  1.66955 to 2.73475  \n",
       "wel                 0.918652 to 0.946733  1.04196 to 1.09133  \n",
       "zn_k33__multiplier  0.0605808 to 15.0039  1.46816 to 320.595  \n",
       "zn_k__multiplier    0.0413825 to 12.3962  1.05137 to 319.822  "
      ]
     },
     "execution_count": 23,
     "metadata": {},
     "output_type": "execute_result"
    }
   ],
   "source": [
    "parsum = pst.write_par_summary_table('../report_materials/initial_iES_parsum.xlsx', report_in_linear_space=True)\n",
    "parsum"
   ]
  },
  {
   "cell_type": "markdown",
   "metadata": {},
   "source": [
    "### Now set `NOPTMAX=10` and write out the PEST control file. Note - to use the standard deviation column requires writing out in the new `version=2` format. In this format, the parameter and observation data sections are written to external files. This is not backward compatible with older version of PEST, but enables this new capability. Filenames for the external files will be identified in the PST file."
   ]
  },
  {
   "cell_type": "code",
   "execution_count": 24,
   "metadata": {},
   "outputs": [
    {
     "name": "stdout",
     "output_type": "stream",
     "text": [
      "noptmax:10, npar_adj:4911, nnz_obs:525\n"
     ]
    }
   ],
   "source": [
    "pst.control_data.noptmax = 10\n",
    "pst.pestpp_options[\"ies_no_noise\"] = False\n",
    "pst.write(os.path.join(output_dir, ies_noise_obs_file), version=2)"
   ]
  },
  {
   "cell_type": "markdown",
   "metadata": {},
   "source": [
    "## If `run_ensemble=True` the cell below will run a local `never_ies_0.noise_lt_obs.pst` iES history-matching run\n",
    "* simillar process as in notebooks 1.0, 1.3, and 2.0\n",
    "* using the number of realizations per iteration specified by `pst.pestpp_options[\"ies_num_reals\"]`\n",
    "* will run in parallel locally using the number of cores specified below by `num_workers`\n",
    "* creates a new directory called `\"../master_ies/\"` which is a copy of run_data \n",
    "* while running function generates worker directories that are removed when run is complete\n",
    "* results moved to `\"../run_data/\"`"
   ]
  },
  {
   "cell_type": "code",
   "execution_count": 25,
   "metadata": {},
   "outputs": [],
   "source": [
    "if run_ensemble==True:\n",
    "    #  set some variables for starting a group of PEST++ workers on the local machine\n",
    "    # MAKE SURE THAT PESTPP-IES and MF6 executables are in your system path or are in '../run_data'\n",
    "    \n",
    "    num_workers = 5  # number of local workers -- VERY IMPORTANT, DO NOT MAKE TOO BIG\n",
    "    if sys.platform == 'win32':\n",
    "        pst_exe = 'pestpp-ies.exe'\n",
    "    else:\n",
    "        pst_exe = 'pestpp-ies'\n",
    "        \n",
    "    template_ws =  '../run_data'  #  template_directory\n",
    "    m_d = '../master_ies'\n",
    "    \n",
    "    pyemu.os_utils.start_workers(worker_dir=template_ws, \n",
    "                             exe_rel_path=pst_exe,\n",
    "                             pst_rel_path=ies_noise_obs_file,\n",
    "                             num_workers=num_workers, \n",
    "                             master_dir=m_d\n",
    "                            )"
   ]
  },
  {
   "cell_type": "code",
   "execution_count": 26,
   "metadata": {},
   "outputs": [],
   "source": [
    "if run_ensemble==True:\n",
    "    #  move results into run_data and clean up \n",
    "    \n",
    "    move_result_files = glob.glob(os.path.join(m_d, 'prior_mc_wide*'))\n",
    "    move_result_files = [f for f in move_result_files if 'pst' not in f]\n",
    "    \n",
    "    [shutil.copy(os.path.join(m_d, file), output_dir) for file in move_result_files]\n",
    "    \n",
    "    #  Remove master dir.\n",
    "    shutil.rmtree(m_d)"
   ]
  },
  {
   "cell_type": "code",
   "execution_count": null,
   "metadata": {},
   "outputs": [],
   "source": []
  }
 ],
 "metadata": {
  "kernelspec": {
   "display_name": "Python 3",
   "language": "python",
   "name": "python3"
  },
  "language_info": {
   "codemirror_mode": {
    "name": "ipython",
    "version": 3
   },
   "file_extension": ".py",
   "mimetype": "text/x-python",
   "name": "python",
   "nbconvert_exporter": "python",
   "pygments_lexer": "ipython3",
   "version": "3.9.2"
  }
 },
 "nbformat": 4,
 "nbformat_minor": 4
}
