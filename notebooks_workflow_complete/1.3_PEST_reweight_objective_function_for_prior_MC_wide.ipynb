{
 "cells": [
  {
   "cell_type": "code",
   "execution_count": 1,
   "metadata": {},
   "outputs": [],
   "source": [
    "import sys\n",
    "sys.path.append('../python_packages_static/')\n",
    "import pyemu\n",
    "import os\n",
    "import glob\n",
    "import shutil\n",
    "import matplotlib.pyplot as plt"
   ]
  },
  {
   "cell_type": "markdown",
   "metadata": {},
   "source": [
    "### NOTE: Make sure  `run_ensemble` is set appropriately - If `run_ensemble` is set to `True`, local runs are performed. If `run_ensemble` set to `False`results from the journal article are used. "
   ]
  },
  {
   "cell_type": "code",
   "execution_count": 2,
   "metadata": {},
   "outputs": [],
   "source": [
    "run_ensemble=False"
   ]
  },
  {
   "cell_type": "code",
   "execution_count": 3,
   "metadata": {},
   "outputs": [],
   "source": [
    "if run_ensemble==True:\n",
    "    input_dir = '../noptmax0_testing/' # we need to read from this directory to get the residuals from the noptmax 0 run\n",
    "else:\n",
    "    input_dir = '../output/noptmax0/' # we need to read from this directory to get the residuals from the noptmax 0 run\n",
    "output_dir = '../run_data' # this is the folder we will actually use to set up PEST++ runs\n",
    "pst_root = 'prior_mc_wide'"
   ]
  },
  {
   "cell_type": "markdown",
   "metadata": {},
   "source": [
    "### read in the PEST control file"
   ]
  },
  {
   "cell_type": "code",
   "execution_count": 4,
   "metadata": {},
   "outputs": [],
   "source": [
    "pst = pyemu.Pst(os.path.join(input_dir,'{}.pst'.format(pst_root)))"
   ]
  },
  {
   "cell_type": "markdown",
   "metadata": {},
   "source": [
    "### make a quick pie chart showing the current distribution of the observation groups in the objective function"
   ]
  },
  {
   "cell_type": "code",
   "execution_count": 5,
   "metadata": {},
   "outputs": [
    {
     "name": "stdout",
     "output_type": "stream",
     "text": [
      "13290.954612364947 {'budget': 0.0, 'flux': 3.265835955177316, 'head': 12937.278850447154, 'land_surface': 350.4099259626168} {'budget': 0.0, 'flux': 0.0002457186899230712, 'head': 0.9733897396964429, 'land_surface': 0.02636454161363403}\n"
     ]
    },
    {
     "data": {
      "text/plain": [
       "<AxesSubplot:>"
      ]
     },
     "execution_count": 5,
     "metadata": {},
     "output_type": "execute_result"
    },
    {
     "data": {
      "image/png": "[encoded data removed]",
      "text/plain": [
       "<Figure size 576x756 with 1 Axes>"
      ]
     },
     "metadata": {},
     "output_type": "display_data"
    }
   ],
   "source": [
    "pst.plot(kind='phi_pie')"
   ]
  },
  {
   "cell_type": "markdown",
   "metadata": {},
   "source": [
    "### we can use `pyemu` functionality to assign new weights that adjust and honor whatever balance we seek"
   ]
  },
  {
   "cell_type": "code",
   "execution_count": 6,
   "metadata": {},
   "outputs": [
    {
     "data": {
      "text/plain": [
       "{'budget': 0.0,\n",
       " 'flux': 3.265835955177316,\n",
       " 'head': 12937.278850447154,\n",
       " 'land_surface': 350.4099259626168}"
      ]
     },
     "execution_count": 6,
     "metadata": {},
     "output_type": "execute_result"
    }
   ],
   "source": [
    "new_proportions = pst.phi_components.copy()\n",
    "new_proportions"
   ]
  },
  {
   "cell_type": "code",
   "execution_count": 7,
   "metadata": {},
   "outputs": [
    {
     "data": {
      "text/html": [
       "<div>\n",
       "<style scoped>\n",
       "    .dataframe tbody tr th:only-of-type {\n",
       "        vertical-align: middle;\n",
       "    }\n",
       "\n",
       "    .dataframe tbody tr th {\n",
       "        vertical-align: top;\n",
       "    }\n",
       "\n",
       "    .dataframe thead th {\n",
       "        text-align: right;\n",
       "    }\n",
       "</style>\n",
       "<table border=\"1\" class=\"dataframe\">\n",
       "  <thead>\n",
       "    <tr style=\"text-align: right;\">\n",
       "      <th></th>\n",
       "      <th>obsnme</th>\n",
       "      <th>obsval</th>\n",
       "      <th>weight</th>\n",
       "      <th>obgnme</th>\n",
       "      <th>extra</th>\n",
       "    </tr>\n",
       "    <tr>\n",
       "      <th>obsnme</th>\n",
       "      <th></th>\n",
       "      <th></th>\n",
       "      <th></th>\n",
       "      <th></th>\n",
       "      <th></th>\n",
       "    </tr>\n",
       "  </thead>\n",
       "  <tbody>\n",
       "    <tr>\n",
       "      <th>q_1436500</th>\n",
       "      <td>q_1436500</td>\n",
       "      <td>116217.231560</td>\n",
       "      <td>0.000029</td>\n",
       "      <td>flux</td>\n",
       "      <td>NaN</td>\n",
       "    </tr>\n",
       "    <tr>\n",
       "      <th>q_1366650</th>\n",
       "      <td>q_1366650</td>\n",
       "      <td>124046.273310</td>\n",
       "      <td>0.000081</td>\n",
       "      <td>flux</td>\n",
       "      <td>NaN</td>\n",
       "    </tr>\n",
       "    <tr>\n",
       "      <th>h_414525074360601</th>\n",
       "      <td>h_414525074360601</td>\n",
       "      <td>357.182016</td>\n",
       "      <td>0.200000</td>\n",
       "      <td>head</td>\n",
       "      <td>NaN</td>\n",
       "    </tr>\n",
       "    <tr>\n",
       "      <th>h_o10577</th>\n",
       "      <td>h_o10577</td>\n",
       "      <td>203.903379</td>\n",
       "      <td>0.200000</td>\n",
       "      <td>head</td>\n",
       "      <td>NaN</td>\n",
       "    </tr>\n",
       "    <tr>\n",
       "      <th>h_o10942</th>\n",
       "      <td>h_o10942</td>\n",
       "      <td>150.660417</td>\n",
       "      <td>0.200000</td>\n",
       "      <td>head</td>\n",
       "      <td>NaN</td>\n",
       "    </tr>\n",
       "    <tr>\n",
       "      <th>...</th>\n",
       "      <td>...</td>\n",
       "      <td>...</td>\n",
       "      <td>...</td>\n",
       "      <td>...</td>\n",
       "      <td>...</td>\n",
       "    </tr>\n",
       "    <tr>\n",
       "      <th>land_surf_obs_550_500</th>\n",
       "      <td>land_surf_obs_550_500</td>\n",
       "      <td>365.440000</td>\n",
       "      <td>0.100000</td>\n",
       "      <td>land_surface</td>\n",
       "      <td>NaN</td>\n",
       "    </tr>\n",
       "    <tr>\n",
       "      <th>land_surf_obs_600_350</th>\n",
       "      <td>land_surf_obs_600_350</td>\n",
       "      <td>443.410000</td>\n",
       "      <td>0.100000</td>\n",
       "      <td>land_surface</td>\n",
       "      <td>NaN</td>\n",
       "    </tr>\n",
       "    <tr>\n",
       "      <th>land_surf_obs_600_400</th>\n",
       "      <td>land_surf_obs_600_400</td>\n",
       "      <td>300.950000</td>\n",
       "      <td>0.100000</td>\n",
       "      <td>land_surface</td>\n",
       "      <td>NaN</td>\n",
       "    </tr>\n",
       "    <tr>\n",
       "      <th>land_surf_obs_600_450</th>\n",
       "      <td>land_surf_obs_600_450</td>\n",
       "      <td>153.240000</td>\n",
       "      <td>0.100000</td>\n",
       "      <td>land_surface</td>\n",
       "      <td>NaN</td>\n",
       "    </tr>\n",
       "    <tr>\n",
       "      <th>land_surf_obs_650_450</th>\n",
       "      <td>land_surf_obs_650_450</td>\n",
       "      <td>266.930000</td>\n",
       "      <td>0.100000</td>\n",
       "      <td>land_surface</td>\n",
       "      <td>NaN</td>\n",
       "    </tr>\n",
       "  </tbody>\n",
       "</table>\n",
       "<p>526 rows × 5 columns</p>\n",
       "</div>"
      ],
      "text/plain": [
       "                                      obsnme         obsval    weight  \\\n",
       "obsnme                                                                  \n",
       "q_1436500                          q_1436500  116217.231560  0.000029   \n",
       "q_1366650                          q_1366650  124046.273310  0.000081   \n",
       "h_414525074360601          h_414525074360601     357.182016  0.200000   \n",
       "h_o10577                            h_o10577     203.903379  0.200000   \n",
       "h_o10942                            h_o10942     150.660417  0.200000   \n",
       "...                                      ...            ...       ...   \n",
       "land_surf_obs_550_500  land_surf_obs_550_500     365.440000  0.100000   \n",
       "land_surf_obs_600_350  land_surf_obs_600_350     443.410000  0.100000   \n",
       "land_surf_obs_600_400  land_surf_obs_600_400     300.950000  0.100000   \n",
       "land_surf_obs_600_450  land_surf_obs_600_450     153.240000  0.100000   \n",
       "land_surf_obs_650_450  land_surf_obs_650_450     266.930000  0.100000   \n",
       "\n",
       "                             obgnme  extra  \n",
       "obsnme                                      \n",
       "q_1436500                      flux    NaN  \n",
       "q_1366650                      flux    NaN  \n",
       "h_414525074360601              head    NaN  \n",
       "h_o10577                       head    NaN  \n",
       "h_o10942                       head    NaN  \n",
       "...                             ...    ...  \n",
       "land_surf_obs_550_500  land_surface    NaN  \n",
       "land_surf_obs_600_350  land_surface    NaN  \n",
       "land_surf_obs_600_400  land_surface    NaN  \n",
       "land_surf_obs_600_450  land_surface    NaN  \n",
       "land_surf_obs_650_450  land_surface    NaN  \n",
       "\n",
       "[526 rows x 5 columns]"
      ]
     },
     "execution_count": 7,
     "metadata": {},
     "output_type": "execute_result"
    }
   ],
   "source": [
    "pst.observation_data"
   ]
  },
  {
   "cell_type": "markdown",
   "metadata": {},
   "source": [
    "### here we assign proportions (that sum to 1.0) to the various groups. We want to retain the same total Phi so we multiply our proportions by the total Phi"
   ]
  },
  {
   "cell_type": "code",
   "execution_count": 8,
   "metadata": {},
   "outputs": [],
   "source": [
    "new_proportions['flux'] = 0.3*pst.phi\n",
    "new_proportions['head'] = 0.2*pst.phi\n",
    "new_proportions['land_surface'] = 0.5*pst.phi\n",
    "new_proportions['budget'] = 0"
   ]
  },
  {
   "cell_type": "code",
   "execution_count": 9,
   "metadata": {},
   "outputs": [
    {
     "data": {
      "text/plain": [
       "{'budget': 0,\n",
       " 'flux': 3987.2863837094837,\n",
       " 'head': 2658.1909224729898,\n",
       " 'land_surface': 6645.4773061824735}"
      ]
     },
     "execution_count": 9,
     "metadata": {},
     "output_type": "execute_result"
    }
   ],
   "source": [
    "new_proportions"
   ]
  },
  {
   "cell_type": "markdown",
   "metadata": {},
   "source": [
    "### using the `phi_components` dictionary, making a copy of it, and reassigning values, we can update the PST object using the `adjust_weights` function"
   ]
  },
  {
   "cell_type": "code",
   "execution_count": 10,
   "metadata": {},
   "outputs": [],
   "source": [
    "pst.adjust_weights(obsgrp_dict=new_proportions)"
   ]
  },
  {
   "cell_type": "code",
   "execution_count": 11,
   "metadata": {},
   "outputs": [
    {
     "data": {
      "text/html": [
       "<div>\n",
       "<style scoped>\n",
       "    .dataframe tbody tr th:only-of-type {\n",
       "        vertical-align: middle;\n",
       "    }\n",
       "\n",
       "    .dataframe tbody tr th {\n",
       "        vertical-align: top;\n",
       "    }\n",
       "\n",
       "    .dataframe thead th {\n",
       "        text-align: right;\n",
       "    }\n",
       "</style>\n",
       "<table border=\"1\" class=\"dataframe\">\n",
       "  <thead>\n",
       "    <tr style=\"text-align: right;\">\n",
       "      <th></th>\n",
       "      <th>obsnme</th>\n",
       "      <th>obsval</th>\n",
       "      <th>weight</th>\n",
       "      <th>obgnme</th>\n",
       "      <th>extra</th>\n",
       "    </tr>\n",
       "    <tr>\n",
       "      <th>obsnme</th>\n",
       "      <th></th>\n",
       "      <th></th>\n",
       "      <th></th>\n",
       "      <th></th>\n",
       "      <th></th>\n",
       "    </tr>\n",
       "  </thead>\n",
       "  <tbody>\n",
       "    <tr>\n",
       "      <th>q_1436500</th>\n",
       "      <td>q_1436500</td>\n",
       "      <td>116217.231560</td>\n",
       "      <td>0.001001</td>\n",
       "      <td>flux</td>\n",
       "      <td>NaN</td>\n",
       "    </tr>\n",
       "    <tr>\n",
       "      <th>q_1366650</th>\n",
       "      <td>q_1366650</td>\n",
       "      <td>124046.273310</td>\n",
       "      <td>0.002817</td>\n",
       "      <td>flux</td>\n",
       "      <td>NaN</td>\n",
       "    </tr>\n",
       "    <tr>\n",
       "      <th>h_414525074360601</th>\n",
       "      <td>h_414525074360601</td>\n",
       "      <td>357.182016</td>\n",
       "      <td>0.090657</td>\n",
       "      <td>head</td>\n",
       "      <td>NaN</td>\n",
       "    </tr>\n",
       "    <tr>\n",
       "      <th>h_o10577</th>\n",
       "      <td>h_o10577</td>\n",
       "      <td>203.903379</td>\n",
       "      <td>0.090657</td>\n",
       "      <td>head</td>\n",
       "      <td>NaN</td>\n",
       "    </tr>\n",
       "    <tr>\n",
       "      <th>h_o10942</th>\n",
       "      <td>h_o10942</td>\n",
       "      <td>150.660417</td>\n",
       "      <td>0.090657</td>\n",
       "      <td>head</td>\n",
       "      <td>NaN</td>\n",
       "    </tr>\n",
       "    <tr>\n",
       "      <th>...</th>\n",
       "      <td>...</td>\n",
       "      <td>...</td>\n",
       "      <td>...</td>\n",
       "      <td>...</td>\n",
       "      <td>...</td>\n",
       "    </tr>\n",
       "    <tr>\n",
       "      <th>land_surf_obs_550_500</th>\n",
       "      <td>land_surf_obs_550_500</td>\n",
       "      <td>365.440000</td>\n",
       "      <td>0.435487</td>\n",
       "      <td>land_surface</td>\n",
       "      <td>NaN</td>\n",
       "    </tr>\n",
       "    <tr>\n",
       "      <th>land_surf_obs_600_350</th>\n",
       "      <td>land_surf_obs_600_350</td>\n",
       "      <td>443.410000</td>\n",
       "      <td>0.435487</td>\n",
       "      <td>land_surface</td>\n",
       "      <td>NaN</td>\n",
       "    </tr>\n",
       "    <tr>\n",
       "      <th>land_surf_obs_600_400</th>\n",
       "      <td>land_surf_obs_600_400</td>\n",
       "      <td>300.950000</td>\n",
       "      <td>0.435487</td>\n",
       "      <td>land_surface</td>\n",
       "      <td>NaN</td>\n",
       "    </tr>\n",
       "    <tr>\n",
       "      <th>land_surf_obs_600_450</th>\n",
       "      <td>land_surf_obs_600_450</td>\n",
       "      <td>153.240000</td>\n",
       "      <td>0.435487</td>\n",
       "      <td>land_surface</td>\n",
       "      <td>NaN</td>\n",
       "    </tr>\n",
       "    <tr>\n",
       "      <th>land_surf_obs_650_450</th>\n",
       "      <td>land_surf_obs_650_450</td>\n",
       "      <td>266.930000</td>\n",
       "      <td>0.435487</td>\n",
       "      <td>land_surface</td>\n",
       "      <td>NaN</td>\n",
       "    </tr>\n",
       "  </tbody>\n",
       "</table>\n",
       "<p>526 rows × 5 columns</p>\n",
       "</div>"
      ],
      "text/plain": [
       "                                      obsnme         obsval    weight  \\\n",
       "obsnme                                                                  \n",
       "q_1436500                          q_1436500  116217.231560  0.001001   \n",
       "q_1366650                          q_1366650  124046.273310  0.002817   \n",
       "h_414525074360601          h_414525074360601     357.182016  0.090657   \n",
       "h_o10577                            h_o10577     203.903379  0.090657   \n",
       "h_o10942                            h_o10942     150.660417  0.090657   \n",
       "...                                      ...            ...       ...   \n",
       "land_surf_obs_550_500  land_surf_obs_550_500     365.440000  0.435487   \n",
       "land_surf_obs_600_350  land_surf_obs_600_350     443.410000  0.435487   \n",
       "land_surf_obs_600_400  land_surf_obs_600_400     300.950000  0.435487   \n",
       "land_surf_obs_600_450  land_surf_obs_600_450     153.240000  0.435487   \n",
       "land_surf_obs_650_450  land_surf_obs_650_450     266.930000  0.435487   \n",
       "\n",
       "                             obgnme  extra  \n",
       "obsnme                                      \n",
       "q_1436500                      flux    NaN  \n",
       "q_1366650                      flux    NaN  \n",
       "h_414525074360601              head    NaN  \n",
       "h_o10577                       head    NaN  \n",
       "h_o10942                       head    NaN  \n",
       "...                             ...    ...  \n",
       "land_surf_obs_550_500  land_surface    NaN  \n",
       "land_surf_obs_600_350  land_surface    NaN  \n",
       "land_surf_obs_600_400  land_surface    NaN  \n",
       "land_surf_obs_600_450  land_surface    NaN  \n",
       "land_surf_obs_650_450  land_surface    NaN  \n",
       "\n",
       "[526 rows x 5 columns]"
      ]
     },
     "execution_count": 11,
     "metadata": {},
     "output_type": "execute_result"
    }
   ],
   "source": [
    "pst.observation_data"
   ]
  },
  {
   "cell_type": "markdown",
   "metadata": {},
   "source": [
    "### now we can see the updated pie chart"
   ]
  },
  {
   "cell_type": "code",
   "execution_count": 12,
   "metadata": {},
   "outputs": [
    {
     "name": "stdout",
     "output_type": "stream",
     "text": [
      "13290.95461236495 {'budget': 0.0, 'flux': 3987.286383709485, 'head': 2658.1909224729893, 'land_surface': 6645.477306182476} {'budget': 0.0, 'flux': 0.3, 'head': 0.19999999999999993, 'land_surface': 0.5000000000000001}\n"
     ]
    },
    {
     "data": {
      "text/plain": [
       "<AxesSubplot:>"
      ]
     },
     "execution_count": 12,
     "metadata": {},
     "output_type": "execute_result"
    },
    {
     "data": {
      "image/png": "[encoded data removed]",
      "text/plain": [
       "<Figure size 576x756 with 1 Axes>"
      ]
     },
     "metadata": {},
     "output_type": "display_data"
    }
   ],
   "source": [
    "pst.plot(kind='phi_pie')\n"
   ]
  },
  {
   "cell_type": "code",
   "execution_count": 13,
   "metadata": {},
   "outputs": [],
   "source": [
    "# set some values for pestpp-ies\n",
    "if run_ensemble == True:\n",
    "    pst.pestpp_options[\"ies_num_reals\"] = 20  \n",
    "else:\n",
    "    pst.pestpp_options[\"ies_num_reals\"] = 500 \n",
    "    \n",
    "pst.pestpp_options[\"ies_bad_phi_sigma\"] = 2.5\n",
    "pst.pestpp_options[\"overdue_giveup_fac\"] = 4\n",
    "pst.pestpp_options[\"ies_save_rescov\"] = True\n",
    "pst.pestpp_options[\"ies_no_noise\"] = True\n",
    "pst.pestpp_options[\"ies_drop_conflicts\"] = False\n",
    "pst.pestpp_options[\"ies_pdc_sigma_distance\"] = 3.0\n",
    "pst.pestpp_options['ies_autoadaloc']=True\n",
    "pst.pestpp_options['ies_num_threads']=4\n",
    "pst.pestpp_options['ies_lambda_mults']=(0.1,1.0,10.0,100.0)\n",
    "pst.pestpp_options['lambda_scale_fac'] = (0.75,0.9,1.0,1.1)\n",
    "pst.pestpp_options['ies_subset_size']=10\n",
    "\n",
    "# set SVD for some regularization\n",
    "pst.svd_data.maxsing = 250"
   ]
  },
  {
   "cell_type": "code",
   "execution_count": 14,
   "metadata": {},
   "outputs": [
    {
     "data": {
      "text/plain": [
       "500"
      ]
     },
     "execution_count": 14,
     "metadata": {},
     "output_type": "execute_result"
    }
   ],
   "source": [
    "# check number of realizations\n",
    "pst.pestpp_options[\"ies_num_reals\"]"
   ]
  },
  {
   "cell_type": "markdown",
   "metadata": {},
   "source": [
    "### using `pestpp-ies`, settting `noptmax=-1` and running in parallel will run a single pass through the initial ensemble, Monte Carlo style"
   ]
  },
  {
   "cell_type": "code",
   "execution_count": 15,
   "metadata": {},
   "outputs": [
    {
     "name": "stdout",
     "output_type": "stream",
     "text": [
      "noptmax:-1, npar_adj:4911, nnz_obs:525\n"
     ]
    }
   ],
   "source": [
    "# set up for prior Monte Carlo\n",
    "pst.control_data.noptmax = -1\n",
    "pst.write(os.path.join(output_dir, '{}.pst'.format(pst_root)))"
   ]
  },
  {
   "cell_type": "markdown",
   "metadata": {},
   "source": [
    "## If `run_ensemble=True` the cell below will run a local `prior_mc_wide` Monte Carlo\n",
    "* same process as in 1.0_PEST_reweight_objective_function_for_prior_MC\n",
    "* using the number of realizations specified by `pst.pestpp_options[\"ies_num_reals\"]`\n",
    "* will run in parallel locally using the number of cores specified below by `num_workers`\n",
    "* creates a new directory called `\"../master_mc/\"` which is a copy of run_data and contains the PEST++ output from the parallel Monte Carlo\n",
    "* while running generates worker directories that are removed when run is complete\n",
    "* results moved to `\"../run_data/\"`"
   ]
  },
  {
   "cell_type": "code",
   "execution_count": 16,
   "metadata": {},
   "outputs": [],
   "source": [
    "if run_ensemble==True:\n",
    "    #  set some variables for starting a group of PEST++ workers on the local machine\n",
    "    # MAKE SURE THAT PESTPP-IES and MF6 executables are in your system path or are in '../run_data'\n",
    "    \n",
    "    num_workers = 5  # number of local workers -- VERY IMPORTANT, DO NOT MAKE TOO BIG\n",
    "    if sys.platform == 'win32':\n",
    "        pst_exe = 'pestpp-ies.exe'\n",
    "    else:\n",
    "        pst_exe = 'pestpp-ies'\n",
    "        \n",
    "    template_ws =  '../run_data'  #  template_directory\n",
    "    m_d = '../master_mc'\n",
    "    \n",
    "    pyemu.os_utils.start_workers(worker_dir=template_ws, \n",
    "                             exe_rel_path=pst_exe,\n",
    "                             pst_rel_path=f'{pst_root}.pst',\n",
    "                             num_workers=num_workers, \n",
    "                             master_dir=m_d\n",
    "                            )"
   ]
  },
  {
   "cell_type": "code",
   "execution_count": 17,
   "metadata": {},
   "outputs": [],
   "source": [
    "if run_ensemble==True:\n",
    "    #  move results into run_data and clean up \n",
    "    \n",
    "    move_result_files = glob.glob(os.path.join(m_d, 'prior_mc_wide*'))\n",
    "    move_result_files = [f for f in move_result_files if 'pst' not in f]\n",
    "    \n",
    "    [shutil.copy(os.path.join(m_d, file), output_dir) for file in move_result_files]\n",
    "    \n",
    "    #  Remove master dir.\n",
    "    shutil.rmtree(m_d)"
   ]
  },
  {
   "cell_type": "code",
   "execution_count": null,
   "metadata": {},
   "outputs": [],
   "source": []
  }
 ],
 "metadata": {
  "kernelspec": {
   "display_name": "Python 3",
   "language": "python",
   "name": "python3"
  },
  "language_info": {
   "codemirror_mode": {
    "name": "ipython",
    "version": 3
   },
   "file_extension": ".py",
   "mimetype": "text/x-python",
   "name": "python",
   "nbconvert_exporter": "python",
   "pygments_lexer": "ipython3",
   "version": "3.9.2"
  }
 },
 "nbformat": 4,
 "nbformat_minor": 4
}
