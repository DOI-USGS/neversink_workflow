{
 "cells": [
  {
   "cell_type": "code",
   "execution_count": null,
   "metadata": {},
   "outputs": [],
   "source": [
    "import sys\n",
    "sys.path.append('../python_packages_static')\n",
    "import numpy as np\n",
    "import pandas as pd\n",
    "import matplotlib.pyplot as plt\n",
    "import fiona\n",
    "from shapely.geometry import shape\n",
    "from gisutils import project\n",
    "from pydrograph import Nwis\n",
    "import geopandas as gp\n",
    "import requests"
   ]
  },
  {
   "cell_type": "markdown",
   "metadata": {},
   "source": [
    "# Notebook to extract NWIS data from model area and make obs tables\n",
    "\n",
    "## 1. Get DV surface water obs from USGS StreamStats: https://streamstats.usgs.gov/ss/\n",
    "### 1.1 Get streamflow daily values sites\n",
    "**Create model bounding box and retrieve NWIS streamflow DV sites** \n",
    "\n",
    "uses the excellent `pydrogrpah`: https://github.com/aleaf/pydrograph"
   ]
  },
  {
   "cell_type": "code",
   "execution_count": null,
   "metadata": {},
   "outputs": [],
   "source": [
    "extent_shp = '../source_data/Shapefiles/Extents/Model_Extent_HUC12.shp'\n",
    "epsg = 5070"
   ]
  },
  {
   "cell_type": "code",
   "execution_count": null,
   "metadata": {},
   "outputs": [],
   "source": [
    "extent_poly = shape(fiona.open(extent_shp).next()['geometry'])\n",
    "extent_poly_ll = project(extent_poly, \"+init=epsg:{}\".format(epsg), \"+init=epsg:4269\")\n",
    "extent_poly_ll.bounds"
   ]
  },
  {
   "cell_type": "code",
   "execution_count": null,
   "metadata": {},
   "outputs": [],
   "source": [
    "bound = gp.read_file(extent_shp)"
   ]
  },
  {
   "cell_type": "code",
   "execution_count": null,
   "metadata": {},
   "outputs": [],
   "source": [
    "nwis = Nwis(extent=extent_poly_ll)"
   ]
  },
  {
   "cell_type": "markdown",
   "metadata": {},
   "source": [
    "**Get streamflow daily values sites using `pydrograph`**"
   ]
  },
  {
   "cell_type": "code",
   "execution_count": null,
   "metadata": {},
   "outputs": [],
   "source": [
    "all_dvs = nwis.get_siteinfo('daily_values')"
   ]
  },
  {
   "cell_type": "code",
   "execution_count": null,
   "metadata": {},
   "outputs": [],
   "source": [
    "all_dvs"
   ]
  },
  {
   "cell_type": "code",
   "execution_count": null,
   "metadata": {},
   "outputs": [],
   "source": [
    "bound = bound.to_crs(epsg=4269)\n",
    "\n",
    "fig, ax = plt.subplots()\n",
    "bound.plot(ax=ax, facecolor='None', edgecolor='black')\n",
    "ax.scatter(all_dvs.dec_long_va, all_dvs.dec_lat_va)\n",
    "plt.show()"
   ]
  },
  {
   "cell_type": "markdown",
   "metadata": {},
   "source": [
    "### Only SANDBURG CREEK AT ELLENVILLE NY (01366650) and NEVERSINK RIVER AT WOODBOURNE NY (01436500) can be used for flux targets\n",
    "* NEVERSINK RIVER AT NEVERSINK NY at edge of model, used for SFR inflow (see 0.7_make_SFR_inflow.ipynb)\n",
    "* Data collection at GUMAER BROOK NEAR WURTSBORO NY only started on 2019-12-11, too little data avialable for annual average flow/BFI"
   ]
  },
  {
   "cell_type": "markdown",
   "metadata": {},
   "source": [
    "### 1.2 Extract Mean annual flow and BFI data from Streamstats: https://streamstats.usgs.gov/ss/\n",
    "**gage pages:** \n",
    "* SANDBURG CREEK AT ELLENVILLE NY (01366650): https://streamstatsags.cr.usgs.gov/gagepages/html/01366650.htm\n",
    "* NEVERSINK RIVER AT WOODBOURNE NY (01436500): https://streamstatsags.cr.usgs.gov/gagepages/html/01436500.htm"
   ]
  },
  {
   "cell_type": "code",
   "execution_count": null,
   "metadata": {},
   "outputs": [],
   "source": [
    "gages = ['01366650', '01436500']\n",
    "\n",
    "sites_dict = {}"
   ]
  },
  {
   "cell_type": "code",
   "execution_count": null,
   "metadata": {},
   "outputs": [],
   "source": [
    "# read from gage streamstats pages\n",
    "\n",
    "for gage in gages: \n",
    "    site_dict = {}\n",
    "    url = f'https://streamstatsags.cr.usgs.gov/gagepages/html/{gage}.htm'\n",
    "    info = ['Mean_Annual_Flow', 'Average_BFI_value', 'Latitude (degrees NAD83)', 'Longitude (degrees NAD83)']\n",
    "\n",
    "    r = requests.get(url, stream=True)\n",
    "    lines = [l.decode('cp1252') for l in r.iter_lines()]\n",
    "\n",
    "    line_nums = [] \n",
    "\n",
    "    for i, line in enumerate(lines):\n",
    "        for t in info:\n",
    "            if t in line: \n",
    "                line_nums.append(i)\n",
    "                line_nums.append(i+1)\n",
    "    for prop, val in zip(line_nums[::2], line_nums[1::2]):\n",
    "        p = lines[prop].replace('<td>','').replace('</td>','').replace(\"<tr class='even'><td width='197'>\",'').replace(\"<tr><td width='200'>\",'')\n",
    "        v = float(lines[val].replace('<td>','').replace('</td>','').replace(\"<td width='590'>\",'').replace('</tr>',''))\n",
    "        print(f'  prop: {p}')\n",
    "        print(f'  val: {v}')\n",
    "        site_dict[p] = v\n",
    "    print('\\n')\n",
    "    sites_dict[gage] = site_dict"
   ]
  },
  {
   "cell_type": "code",
   "execution_count": null,
   "metadata": {},
   "outputs": [],
   "source": [
    "df = pd.DataFrame.from_dict(sites_dict).T.reset_index(drop=False).rename(columns={'index':'site_id', 'Mean_Annual_Flow':'Mean_Annual_Flow_cfs'})\n",
    "df"
   ]
  },
  {
   "cell_type": "code",
   "execution_count": null,
   "metadata": {},
   "outputs": [],
   "source": [
    "# write out to processed data\n",
    "df.to_csv('../processed_data/NWIS_DV_STREAMSTATS_INFO.csv', index=False)"
   ]
  },
  {
   "cell_type": "markdown",
   "metadata": {},
   "source": [
    "## 2. Get groundwater daily values"
   ]
  },
  {
   "cell_type": "code",
   "execution_count": null,
   "metadata": {},
   "outputs": [],
   "source": [
    "gw_dv = nwis.get_siteinfo('gwdv')\n",
    "gw_dv"
   ]
  },
  {
   "cell_type": "markdown",
   "metadata": {},
   "source": [
    "### Pull groundwater data for the lone GW DVs site in the model domain \n",
    "uses `pydrograph`: https://github.com/aleaf/pydrograph"
   ]
  },
  {
   "cell_type": "code",
   "execution_count": null,
   "metadata": {},
   "outputs": [],
   "source": [
    "gw_site = gw_dv.iloc[0]['site_no']\n",
    "\n",
    "# pydrograh gw dv data retrieval not working at the momnet. do it manually for now -- see below:\n",
    "\n",
    "gw_data = nwis.get_all_dvs([gw_site], \n",
    "                           parameter_code='72019',\n",
    "                           start_date='2009-01-01',\n",
    "                           end_date='2016-01-01'\n",
    "                          )"
   ]
  },
  {
   "cell_type": "code",
   "execution_count": null,
   "metadata": {},
   "outputs": [],
   "source": [
    "gw_df = gw_data[gw_site]\n",
    "gw_df = gw_df.groupby('site_no').mean()\n",
    "gw_df = gw_df.rename(columns={'106190_72019_00003':'ave_dtw_ft'})\n",
    "gw_df = gw_df.join(gw_dv[['alt_va']])\n",
    "gw_df['gw_elev_ft'] = gw_df['alt_va'] - gw_df['ave_dtw_ft']\n",
    "gw_df['gw_elev_m'] = gw_df['gw_elev_ft'] * 0.3048\n",
    "gw_df.to_csv('../processed_data/NWIS_GW_DV_data.csv')\n",
    "gw_df"
   ]
  },
  {
   "cell_type": "markdown",
   "metadata": {},
   "source": [
    "### export NWIS gw sites table for obs section of `neversink_full.yml`"
   ]
  },
  {
   "cell_type": "code",
   "execution_count": null,
   "metadata": {},
   "outputs": [],
   "source": [
    "gw_dv_gdf = gp.GeoDataFrame(gw_dv, crs=\"EPSG:4269\", geometry=gw_dv.geometry)\n",
    "gw_dv_gdf_reproj = gw_dv_gdf.to_crs(epsg=epsg)\n",
    "gw_dv_gdf_reproj['x'] = gw_dv_gdf_reproj.geometry.x\n",
    "gw_dv_gdf_reproj['y'] = gw_dv_gdf_reproj.geometry.y\n",
    "gw_dv_gdf_reproj['obsprefix'] = gw_dv_gdf_reproj.index\n",
    "gw_dv_gdf_reproj"
   ]
  },
  {
   "cell_type": "code",
   "execution_count": null,
   "metadata": {},
   "outputs": [],
   "source": [
    "gw_dv_gdf_reproj.to_csv('../processed_data/NWIS_GW_DV_sites.csv', index=False)"
   ]
  },
  {
   "cell_type": "code",
   "execution_count": null,
   "metadata": {},
   "outputs": [],
   "source": []
  }
 ],
 "metadata": {
  "kernelspec": {
   "display_name": "Python 3",
   "language": "python",
   "name": "python3"
  },
  "language_info": {
   "codemirror_mode": {
    "name": "ipython",
    "version": 3
   },
   "file_extension": ".py",
   "mimetype": "text/x-python",
   "name": "python",
   "nbconvert_exporter": "python",
   "pygments_lexer": "ipython3",
   "version": "3.9.2"
  }
 },
 "nbformat": 4,
 "nbformat_minor": 4
}
