{
 "cells": [
  {
   "cell_type": "code",
   "execution_count": null,
   "metadata": {},
   "outputs": [],
   "source": [
    "import sys\n",
    "sys.path.append('../python_packages_static')\n",
    "import pandas as pd\n",
    "import matplotlib.pyplot as plt\n",
    "import fiona\n",
    "from shapely.geometry import shape\n",
    "from gisutils import project\n",
    "from pydrograph import Nwis"
   ]
  },
  {
   "cell_type": "markdown",
   "metadata": {},
   "source": [
    "### Get buffered bounding box around model domain\n",
    "uses `gis-utils`: https://github.com/aleaf/gis-utils"
   ]
  },
  {
   "cell_type": "code",
   "execution_count": null,
   "metadata": {},
   "outputs": [],
   "source": [
    "extent_shp = '../processed_data/extend_15km_buffer.shp'\n",
    "epsg = 5070"
   ]
  },
  {
   "cell_type": "code",
   "execution_count": null,
   "metadata": {},
   "outputs": [],
   "source": [
    "extent_poly = shape(fiona.open(extent_shp).next()['geometry'])\n",
    "extent_poly_ll = project(extent_poly, \"+init=epsg:{}\".format(epsg), \"+init=epsg:4269\")\n",
    "extent_poly_ll.bounds"
   ]
  },
  {
   "cell_type": "markdown",
   "metadata": {},
   "source": [
    "### Pull NWIS streamflow daily value sites within bounding box\n",
    "uses `pydrograph`: https://github.com/aleaf/pydrograph"
   ]
  },
  {
   "cell_type": "code",
   "execution_count": null,
   "metadata": {},
   "outputs": [],
   "source": [
    "nwis = Nwis(extent=extent_poly_ll)"
   ]
  },
  {
   "cell_type": "code",
   "execution_count": null,
   "metadata": {},
   "outputs": [],
   "source": [
    "all_dvs = nwis.get_siteinfo('daily_values')"
   ]
  },
  {
   "cell_type": "code",
   "execution_count": null,
   "metadata": {},
   "outputs": [],
   "source": [
    "# look at NWIS sites with daily values within bounding box -- 7 sites total. \n",
    "all_dvs"
   ]
  },
  {
   "cell_type": "markdown",
   "metadata": {},
   "source": [
    "## Gage 01436000 located below Neversink Reservoir, use for SFR Inflow\n",
    "pull all daily values from this site"
   ]
  },
  {
   "cell_type": "code",
   "execution_count": null,
   "metadata": {},
   "outputs": [],
   "source": [
    "neversink_inflow = nwis.get_all_dvs(['01436000'])"
   ]
  },
  {
   "cell_type": "code",
   "execution_count": null,
   "metadata": {},
   "outputs": [],
   "source": [
    "neversink_inflow = neversink_inflow['01436000']\n",
    "neversink_inflow = neversink_inflow.rename(columns={'105408_00060_00003':'discharge_cfs'})"
   ]
  },
  {
   "cell_type": "code",
   "execution_count": null,
   "metadata": {},
   "outputs": [],
   "source": [
    "neversink_inflow.head()"
   ]
  },
  {
   "cell_type": "markdown",
   "metadata": {},
   "source": [
    "### Want the SFR inflow data set period of record to match the period of record at the downstream gage (01436500, Neversink near Woodbourne, NY) used for flux target (1954-1993). \n",
    "The Neversink Reservoir dam was completed late 1953. Downstream flux target period of record ends at WY 1993.\n",
    "**Use median flow 1954-1993 for SFR inflow**"
   ]
  },
  {
   "cell_type": "code",
   "execution_count": null,
   "metadata": {},
   "outputs": [],
   "source": [
    "plt.figure(figsize=(8,6))\n",
    "neversink_inflow[['discharge_cfs']].plot()\n",
    "plt.ylabel('01436000 discharge, in cfs')\n",
    "plt.axvline(pd.to_datetime('10/1/1953'), ls='--', c='black', label='Dam built')\n",
    "plt.axvline(pd.to_datetime('09-30-1993'), ls='--', c='orange', label='01436500 record ends')\n",
    "plt.legend()\n",
    "plt.show()"
   ]
  },
  {
   "cell_type": "code",
   "execution_count": null,
   "metadata": {},
   "outputs": [],
   "source": [
    "m3d_neversink_inflow = neversink_inflow.loc['10-01-1954':'09-30-1993']['discharge_cfs'].quantile(.5) * 2446.58  #  convert from cfs to cubic meters per day\n",
    "\n",
    "print('neversink inflow: {0:.1f} cfs, {1:.0f} m3/d'.format(\n",
    "    neversink_inflow.loc['10-01-1954':'09-30-1993']['discharge_cfs'].quantile(.5), \n",
    "    m3d_neversink_inflow\n",
    "    ))"
   ]
  },
  {
   "cell_type": "code",
   "execution_count": null,
   "metadata": {},
   "outputs": [],
   "source": [
    "inflow_df = pd.DataFrame({'line_id':[200105086],\n",
    "                         'flow_m3d':[m3d_neversink_inflow],\n",
    "                         'category':['NWIS']})\n",
    "\n",
    "inflow_df"
   ]
  },
  {
   "cell_type": "code",
   "execution_count": null,
   "metadata": {},
   "outputs": [],
   "source": [
    "inflow_df.to_csv('../processed_data/neversink_inflow.csv',index=None)"
   ]
  },
  {
   "cell_type": "code",
   "execution_count": null,
   "metadata": {},
   "outputs": [],
   "source": []
  }
 ],
 "metadata": {
  "kernelspec": {
   "display_name": "Python 3",
   "language": "python",
   "name": "python3"
  },
  "language_info": {
   "codemirror_mode": {
    "name": "ipython",
    "version": 3
   },
   "file_extension": ".py",
   "mimetype": "text/x-python",
   "name": "python",
   "nbconvert_exporter": "python",
   "pygments_lexer": "ipython3",
   "version": "3.9.2"
  }
 },
 "nbformat": 4,
 "nbformat_minor": 4
}
